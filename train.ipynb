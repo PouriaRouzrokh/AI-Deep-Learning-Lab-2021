{
  "nbformat": 4,
  "nbformat_minor": 0,
  "metadata": {
    "colab": {
      "name": "Slices-Georgetown-Multilabel.ipynb",
      "provenance": [],
      "collapsed_sections": [],
      "include_colab_link": true
    },
    "kernelspec": {
      "display_name": "Python 3",
      "language": "python",
      "name": "python3"
    },
    "language_info": {
      "codemirror_mode": {
        "name": "ipython",
        "version": 3
      },
      "file_extension": ".py",
      "mimetype": "text/x-python",
      "name": "python",
      "nbconvert_exporter": "python",
      "pygments_lexer": "ipython3",
      "version": "3.7.5"
    },
    "accelerator": "GPU"
  },
  "cells": [
    {
      "cell_type": "markdown",
      "metadata": {
        "id": "view-in-github",
        "colab_type": "text"
      },
      "source": [
        "<a href=\"https://colab.research.google.com/github/italati/AI-Deep-Learning-Lab-2021/blob/ct-body-train/train.ipynb\" target=\"_parent\"><img src=\"https://colab.research.google.com/assets/colab-badge.svg\" alt=\"Open In Colab\"/></a>"
      ]
    },
    {
      "cell_type": "markdown",
      "metadata": {
        "id": "tKYuZWZ0gP9z"
      },
      "source": [
        "# Deep Learning for Automatic Labeling of CT Images\n",
        "## By: Ian Pan, MD.ai modified by Anouk Stein, MD.ai to predict chest, abdomen, or pelvic slices. Note lower chest/upper abdomen may have labels for both chest and abdomen.\n",
        "\n"
      ]
    },
    {
      "cell_type": "markdown",
      "metadata": {
        "id": "KtSWfduT3CoO"
      },
      "source": [
        "## Import Python packages"
      ]
    },
    {
      "cell_type": "code",
      "metadata": {
        "colab": {
          "base_uri": "https://localhost:8080/"
        },
        "id": "dksRlUUOS-GM",
        "outputId": "dd2191df-11cb-4a29-db7f-80d05ac344cc"
      },
      "source": [
        "!pip install pydicom"
      ],
      "execution_count": 1,
      "outputs": [
        {
          "output_type": "stream",
          "name": "stdout",
          "text": [
            "Collecting pydicom\n",
            "  Downloading pydicom-2.2.2-py3-none-any.whl (2.0 MB)\n",
            "\u001b[K     |████████████████████████████████| 2.0 MB 5.3 MB/s \n",
            "\u001b[?25hInstalling collected packages: pydicom\n",
            "Successfully installed pydicom-2.2.2\n"
          ]
        }
      ]
    },
    {
      "cell_type": "code",
      "metadata": {
        "id": "D8LbONsa-4Xv"
      },
      "source": [
        "from google.colab import drive\n",
        "drive.mount('/content/drive')"
      ],
      "execution_count": null,
      "outputs": []
    },
    {
      "cell_type": "code",
      "metadata": {
        "colab": {
          "base_uri": "https://localhost:8080/"
        },
        "id": "VS2DNSCKsz3h",
        "outputId": "30ce39c4-9ed1-406d-a86b-c577b1a39443"
      },
      "source": [
        "!git clone https://github.com/rwfilice/bodypart.git"
      ],
      "execution_count": 2,
      "outputs": [
        {
          "output_type": "stream",
          "name": "stdout",
          "text": [
            "Cloning into 'bodypart'...\n",
            "remote: Enumerating objects: 4589, done.\u001b[K\n",
            "remote: Counting objects: 100% (9/9), done.\u001b[K\n",
            "remote: Compressing objects: 100% (7/7), done.\u001b[K\n",
            "remote: Total 4589 (delta 2), reused 9 (delta 2), pack-reused 4580\u001b[K\n",
            "Receiving objects: 100% (4589/4589), 1.35 GiB | 19.94 MiB/s, done.\n",
            "Resolving deltas: 100% (2/2), done.\n",
            "Checking out files: 100% (4581/4581), done.\n"
          ]
        }
      ]
    },
    {
      "cell_type": "code",
      "metadata": {
        "id": "KHp444ni3J7i"
      },
      "source": [
        "from scipy.ndimage.interpolation import zoom\n",
        "\n",
        "import matplotlib.pyplot as plt\n",
        "import pydicom\n",
        "import pandas as pd \n",
        "import numpy as np \n",
        "import glob\n",
        "import os \n",
        "import re \n",
        "import json\n",
        "from pathlib import Path\n",
        "\n",
        "from keras.applications.imagenet_utils import preprocess_input\n",
        "from keras.applications.mobilenet_v2 import MobileNetV2\n",
        "from keras.callbacks import EarlyStopping, ReduceLROnPlateau\n",
        "from keras import Model\n",
        "from keras.layers import Dropout, Dense, GlobalAveragePooling2D\n",
        "from keras import optimizers\n",
        "\n",
        "import tensorflow as tf \n",
        "\n",
        "# Set seed for reproducibility\n",
        "tf.random.set_seed(88) ; np.random.seed(88) \n",
        "\n",
        "# For data augmentation\n",
        "from albumentations import (\n",
        "    Compose, OneOf, HorizontalFlip, Blur, RandomGamma, RandomContrast, RandomBrightness\n",
        ")"
      ],
      "execution_count": 3,
      "outputs": []
    },
    {
      "cell_type": "code",
      "metadata": {
        "id": "W-PKj_twSpLR",
        "colab": {
          "base_uri": "https://localhost:8080/"
        },
        "outputId": "06a4ad6f-4572-4b02-85c1-ecc00d92a825"
      },
      "source": [
        "print(tf.__version__)"
      ],
      "execution_count": 4,
      "outputs": [
        {
          "output_type": "stream",
          "name": "stdout",
          "text": [
            "2.7.0\n"
          ]
        }
      ]
    },
    {
      "cell_type": "code",
      "metadata": {
        "id": "hEbNsZ4zSpLT",
        "colab": {
          "base_uri": "https://localhost:8080/"
        },
        "outputId": "24982acc-4a73-43c9-ec4e-02a6e83bc9a3"
      },
      "source": [
        "tf.compat.v1.enable_eager_execution()\n",
        "print(tf.matmul([[1., 2.],[3., 4.]], [[1., 2.],[3., 4.]]))"
      ],
      "execution_count": 5,
      "outputs": [
        {
          "output_type": "stream",
          "name": "stdout",
          "text": [
            "tf.Tensor(\n",
            "[[ 7. 10.]\n",
            " [15. 22.]], shape=(2, 2), dtype=float32)\n"
          ]
        }
      ]
    },
    {
      "cell_type": "code",
      "metadata": {
        "id": "xSK1Br4Gn9Ma"
      },
      "source": [
        "imagesPath = Path('bodypart/npy/')\n",
        "imageList = list(imagesPath.glob('**/*.npy'))\n",
        "testList = list(sorted(imagesPath.glob('**/5fd4ea78053ef3b10aace7cbf9d70b65*.npy'), key=lambda fn: int(re.search('-([0-9]*)', str(fn)).group(1))))"
      ],
      "execution_count": 6,
      "outputs": []
    },
    {
      "cell_type": "code",
      "metadata": {
        "id": "m1_MvTfISpLW"
      },
      "source": [
        "testPath = Path('bodypart/testnpy')\n",
        "testList = list(sorted(testPath.glob('**/*.npy'), key=lambda fn: int(re.search('-([0-9]*)', str(fn)).group(1))))"
      ],
      "execution_count": 7,
      "outputs": []
    },
    {
      "cell_type": "code",
      "metadata": {
        "id": "cPh6ihMaSpLY",
        "colab": {
          "base_uri": "https://localhost:8080/"
        },
        "outputId": "48320fae-54a1-40e1-d7f9-995bd44b6752"
      },
      "source": [
        "testList"
      ],
      "execution_count": 8,
      "outputs": [
        {
          "output_type": "execute_result",
          "data": {
            "text/plain": [
              "[PosixPath('bodypart/testnpy/d2bb80e260ba5cd45aaaba9617f40f0d-1.npy'),\n",
              " PosixPath('bodypart/testnpy/d2bb80e260ba5cd45aaaba9617f40f0d-2.npy'),\n",
              " PosixPath('bodypart/testnpy/d2bb80e260ba5cd45aaaba9617f40f0d-3.npy'),\n",
              " PosixPath('bodypart/testnpy/d2bb80e260ba5cd45aaaba9617f40f0d-4.npy'),\n",
              " PosixPath('bodypart/testnpy/d2bb80e260ba5cd45aaaba9617f40f0d-5.npy'),\n",
              " PosixPath('bodypart/testnpy/d2bb80e260ba5cd45aaaba9617f40f0d-6.npy'),\n",
              " PosixPath('bodypart/testnpy/d2bb80e260ba5cd45aaaba9617f40f0d-7.npy'),\n",
              " PosixPath('bodypart/testnpy/d2bb80e260ba5cd45aaaba9617f40f0d-8.npy'),\n",
              " PosixPath('bodypart/testnpy/d2bb80e260ba5cd45aaaba9617f40f0d-9.npy'),\n",
              " PosixPath('bodypart/testnpy/d2bb80e260ba5cd45aaaba9617f40f0d-10.npy'),\n",
              " PosixPath('bodypart/testnpy/d2bb80e260ba5cd45aaaba9617f40f0d-11.npy'),\n",
              " PosixPath('bodypart/testnpy/d2bb80e260ba5cd45aaaba9617f40f0d-12.npy'),\n",
              " PosixPath('bodypart/testnpy/d2bb80e260ba5cd45aaaba9617f40f0d-13.npy'),\n",
              " PosixPath('bodypart/testnpy/d2bb80e260ba5cd45aaaba9617f40f0d-14.npy'),\n",
              " PosixPath('bodypart/testnpy/d2bb80e260ba5cd45aaaba9617f40f0d-15.npy'),\n",
              " PosixPath('bodypart/testnpy/d2bb80e260ba5cd45aaaba9617f40f0d-16.npy'),\n",
              " PosixPath('bodypart/testnpy/d2bb80e260ba5cd45aaaba9617f40f0d-17.npy'),\n",
              " PosixPath('bodypart/testnpy/d2bb80e260ba5cd45aaaba9617f40f0d-18.npy'),\n",
              " PosixPath('bodypart/testnpy/d2bb80e260ba5cd45aaaba9617f40f0d-19.npy'),\n",
              " PosixPath('bodypart/testnpy/d2bb80e260ba5cd45aaaba9617f40f0d-20.npy'),\n",
              " PosixPath('bodypart/testnpy/d2bb80e260ba5cd45aaaba9617f40f0d-21.npy'),\n",
              " PosixPath('bodypart/testnpy/d2bb80e260ba5cd45aaaba9617f40f0d-22.npy'),\n",
              " PosixPath('bodypart/testnpy/d2bb80e260ba5cd45aaaba9617f40f0d-23.npy'),\n",
              " PosixPath('bodypart/testnpy/d2bb80e260ba5cd45aaaba9617f40f0d-24.npy'),\n",
              " PosixPath('bodypart/testnpy/d2bb80e260ba5cd45aaaba9617f40f0d-25.npy'),\n",
              " PosixPath('bodypart/testnpy/d2bb80e260ba5cd45aaaba9617f40f0d-26.npy'),\n",
              " PosixPath('bodypart/testnpy/d2bb80e260ba5cd45aaaba9617f40f0d-27.npy'),\n",
              " PosixPath('bodypart/testnpy/d2bb80e260ba5cd45aaaba9617f40f0d-28.npy'),\n",
              " PosixPath('bodypart/testnpy/d2bb80e260ba5cd45aaaba9617f40f0d-29.npy'),\n",
              " PosixPath('bodypart/testnpy/d2bb80e260ba5cd45aaaba9617f40f0d-30.npy'),\n",
              " PosixPath('bodypart/testnpy/d2bb80e260ba5cd45aaaba9617f40f0d-31.npy'),\n",
              " PosixPath('bodypart/testnpy/d2bb80e260ba5cd45aaaba9617f40f0d-32.npy'),\n",
              " PosixPath('bodypart/testnpy/d2bb80e260ba5cd45aaaba9617f40f0d-33.npy'),\n",
              " PosixPath('bodypart/testnpy/d2bb80e260ba5cd45aaaba9617f40f0d-34.npy'),\n",
              " PosixPath('bodypart/testnpy/d2bb80e260ba5cd45aaaba9617f40f0d-35.npy'),\n",
              " PosixPath('bodypart/testnpy/d2bb80e260ba5cd45aaaba9617f40f0d-36.npy'),\n",
              " PosixPath('bodypart/testnpy/d2bb80e260ba5cd45aaaba9617f40f0d-37.npy'),\n",
              " PosixPath('bodypart/testnpy/d2bb80e260ba5cd45aaaba9617f40f0d-38.npy'),\n",
              " PosixPath('bodypart/testnpy/d2bb80e260ba5cd45aaaba9617f40f0d-39.npy'),\n",
              " PosixPath('bodypart/testnpy/d2bb80e260ba5cd45aaaba9617f40f0d-40.npy'),\n",
              " PosixPath('bodypart/testnpy/d2bb80e260ba5cd45aaaba9617f40f0d-41.npy'),\n",
              " PosixPath('bodypart/testnpy/d2bb80e260ba5cd45aaaba9617f40f0d-42.npy'),\n",
              " PosixPath('bodypart/testnpy/d2bb80e260ba5cd45aaaba9617f40f0d-43.npy'),\n",
              " PosixPath('bodypart/testnpy/d2bb80e260ba5cd45aaaba9617f40f0d-44.npy'),\n",
              " PosixPath('bodypart/testnpy/d2bb80e260ba5cd45aaaba9617f40f0d-45.npy'),\n",
              " PosixPath('bodypart/testnpy/d2bb80e260ba5cd45aaaba9617f40f0d-46.npy'),\n",
              " PosixPath('bodypart/testnpy/d2bb80e260ba5cd45aaaba9617f40f0d-47.npy'),\n",
              " PosixPath('bodypart/testnpy/d2bb80e260ba5cd45aaaba9617f40f0d-48.npy'),\n",
              " PosixPath('bodypart/testnpy/d2bb80e260ba5cd45aaaba9617f40f0d-49.npy'),\n",
              " PosixPath('bodypart/testnpy/d2bb80e260ba5cd45aaaba9617f40f0d-50.npy'),\n",
              " PosixPath('bodypart/testnpy/d2bb80e260ba5cd45aaaba9617f40f0d-51.npy'),\n",
              " PosixPath('bodypart/testnpy/d2bb80e260ba5cd45aaaba9617f40f0d-52.npy'),\n",
              " PosixPath('bodypart/testnpy/d2bb80e260ba5cd45aaaba9617f40f0d-53.npy'),\n",
              " PosixPath('bodypart/testnpy/d2bb80e260ba5cd45aaaba9617f40f0d-54.npy'),\n",
              " PosixPath('bodypart/testnpy/d2bb80e260ba5cd45aaaba9617f40f0d-55.npy'),\n",
              " PosixPath('bodypart/testnpy/d2bb80e260ba5cd45aaaba9617f40f0d-56.npy'),\n",
              " PosixPath('bodypart/testnpy/d2bb80e260ba5cd45aaaba9617f40f0d-57.npy'),\n",
              " PosixPath('bodypart/testnpy/d2bb80e260ba5cd45aaaba9617f40f0d-58.npy'),\n",
              " PosixPath('bodypart/testnpy/d2bb80e260ba5cd45aaaba9617f40f0d-59.npy'),\n",
              " PosixPath('bodypart/testnpy/d2bb80e260ba5cd45aaaba9617f40f0d-60.npy'),\n",
              " PosixPath('bodypart/testnpy/d2bb80e260ba5cd45aaaba9617f40f0d-61.npy'),\n",
              " PosixPath('bodypart/testnpy/d2bb80e260ba5cd45aaaba9617f40f0d-62.npy'),\n",
              " PosixPath('bodypart/testnpy/d2bb80e260ba5cd45aaaba9617f40f0d-63.npy'),\n",
              " PosixPath('bodypart/testnpy/d2bb80e260ba5cd45aaaba9617f40f0d-64.npy'),\n",
              " PosixPath('bodypart/testnpy/d2bb80e260ba5cd45aaaba9617f40f0d-65.npy'),\n",
              " PosixPath('bodypart/testnpy/d2bb80e260ba5cd45aaaba9617f40f0d-66.npy'),\n",
              " PosixPath('bodypart/testnpy/d2bb80e260ba5cd45aaaba9617f40f0d-67.npy'),\n",
              " PosixPath('bodypart/testnpy/d2bb80e260ba5cd45aaaba9617f40f0d-68.npy'),\n",
              " PosixPath('bodypart/testnpy/d2bb80e260ba5cd45aaaba9617f40f0d-69.npy'),\n",
              " PosixPath('bodypart/testnpy/d2bb80e260ba5cd45aaaba9617f40f0d-70.npy'),\n",
              " PosixPath('bodypart/testnpy/d2bb80e260ba5cd45aaaba9617f40f0d-71.npy'),\n",
              " PosixPath('bodypart/testnpy/d2bb80e260ba5cd45aaaba9617f40f0d-72.npy'),\n",
              " PosixPath('bodypart/testnpy/d2bb80e260ba5cd45aaaba9617f40f0d-73.npy'),\n",
              " PosixPath('bodypart/testnpy/d2bb80e260ba5cd45aaaba9617f40f0d-74.npy'),\n",
              " PosixPath('bodypart/testnpy/d2bb80e260ba5cd45aaaba9617f40f0d-75.npy'),\n",
              " PosixPath('bodypart/testnpy/d2bb80e260ba5cd45aaaba9617f40f0d-76.npy'),\n",
              " PosixPath('bodypart/testnpy/d2bb80e260ba5cd45aaaba9617f40f0d-77.npy'),\n",
              " PosixPath('bodypart/testnpy/d2bb80e260ba5cd45aaaba9617f40f0d-78.npy'),\n",
              " PosixPath('bodypart/testnpy/d2bb80e260ba5cd45aaaba9617f40f0d-79.npy'),\n",
              " PosixPath('bodypart/testnpy/d2bb80e260ba5cd45aaaba9617f40f0d-80.npy'),\n",
              " PosixPath('bodypart/testnpy/d2bb80e260ba5cd45aaaba9617f40f0d-81.npy'),\n",
              " PosixPath('bodypart/testnpy/d2bb80e260ba5cd45aaaba9617f40f0d-82.npy'),\n",
              " PosixPath('bodypart/testnpy/d2bb80e260ba5cd45aaaba9617f40f0d-83.npy'),\n",
              " PosixPath('bodypart/testnpy/d2bb80e260ba5cd45aaaba9617f40f0d-84.npy'),\n",
              " PosixPath('bodypart/testnpy/d2bb80e260ba5cd45aaaba9617f40f0d-85.npy'),\n",
              " PosixPath('bodypart/testnpy/d2bb80e260ba5cd45aaaba9617f40f0d-86.npy'),\n",
              " PosixPath('bodypart/testnpy/d2bb80e260ba5cd45aaaba9617f40f0d-87.npy'),\n",
              " PosixPath('bodypart/testnpy/d2bb80e260ba5cd45aaaba9617f40f0d-88.npy'),\n",
              " PosixPath('bodypart/testnpy/d2bb80e260ba5cd45aaaba9617f40f0d-89.npy'),\n",
              " PosixPath('bodypart/testnpy/d2bb80e260ba5cd45aaaba9617f40f0d-90.npy'),\n",
              " PosixPath('bodypart/testnpy/d2bb80e260ba5cd45aaaba9617f40f0d-91.npy'),\n",
              " PosixPath('bodypart/testnpy/d2bb80e260ba5cd45aaaba9617f40f0d-92.npy'),\n",
              " PosixPath('bodypart/testnpy/d2bb80e260ba5cd45aaaba9617f40f0d-93.npy'),\n",
              " PosixPath('bodypart/testnpy/d2bb80e260ba5cd45aaaba9617f40f0d-94.npy'),\n",
              " PosixPath('bodypart/testnpy/d2bb80e260ba5cd45aaaba9617f40f0d-95.npy'),\n",
              " PosixPath('bodypart/testnpy/d2bb80e260ba5cd45aaaba9617f40f0d-96.npy'),\n",
              " PosixPath('bodypart/testnpy/d2bb80e260ba5cd45aaaba9617f40f0d-97.npy'),\n",
              " PosixPath('bodypart/testnpy/d2bb80e260ba5cd45aaaba9617f40f0d-98.npy'),\n",
              " PosixPath('bodypart/testnpy/d2bb80e260ba5cd45aaaba9617f40f0d-99.npy'),\n",
              " PosixPath('bodypart/testnpy/d2bb80e260ba5cd45aaaba9617f40f0d-100.npy'),\n",
              " PosixPath('bodypart/testnpy/d2bb80e260ba5cd45aaaba9617f40f0d-101.npy'),\n",
              " PosixPath('bodypart/testnpy/d2bb80e260ba5cd45aaaba9617f40f0d-102.npy'),\n",
              " PosixPath('bodypart/testnpy/d2bb80e260ba5cd45aaaba9617f40f0d-103.npy'),\n",
              " PosixPath('bodypart/testnpy/d2bb80e260ba5cd45aaaba9617f40f0d-104.npy'),\n",
              " PosixPath('bodypart/testnpy/d2bb80e260ba5cd45aaaba9617f40f0d-105.npy'),\n",
              " PosixPath('bodypart/testnpy/d2bb80e260ba5cd45aaaba9617f40f0d-106.npy'),\n",
              " PosixPath('bodypart/testnpy/d2bb80e260ba5cd45aaaba9617f40f0d-107.npy'),\n",
              " PosixPath('bodypart/testnpy/d2bb80e260ba5cd45aaaba9617f40f0d-108.npy'),\n",
              " PosixPath('bodypart/testnpy/d2bb80e260ba5cd45aaaba9617f40f0d-109.npy'),\n",
              " PosixPath('bodypart/testnpy/d2bb80e260ba5cd45aaaba9617f40f0d-110.npy'),\n",
              " PosixPath('bodypart/testnpy/d2bb80e260ba5cd45aaaba9617f40f0d-111.npy'),\n",
              " PosixPath('bodypart/testnpy/d2bb80e260ba5cd45aaaba9617f40f0d-112.npy'),\n",
              " PosixPath('bodypart/testnpy/d2bb80e260ba5cd45aaaba9617f40f0d-113.npy'),\n",
              " PosixPath('bodypart/testnpy/d2bb80e260ba5cd45aaaba9617f40f0d-114.npy'),\n",
              " PosixPath('bodypart/testnpy/d2bb80e260ba5cd45aaaba9617f40f0d-115.npy'),\n",
              " PosixPath('bodypart/testnpy/d2bb80e260ba5cd45aaaba9617f40f0d-116.npy'),\n",
              " PosixPath('bodypart/testnpy/d2bb80e260ba5cd45aaaba9617f40f0d-117.npy'),\n",
              " PosixPath('bodypart/testnpy/d2bb80e260ba5cd45aaaba9617f40f0d-118.npy'),\n",
              " PosixPath('bodypart/testnpy/d2bb80e260ba5cd45aaaba9617f40f0d-119.npy'),\n",
              " PosixPath('bodypart/testnpy/d2bb80e260ba5cd45aaaba9617f40f0d-120.npy'),\n",
              " PosixPath('bodypart/testnpy/d2bb80e260ba5cd45aaaba9617f40f0d-121.npy'),\n",
              " PosixPath('bodypart/testnpy/d2bb80e260ba5cd45aaaba9617f40f0d-122.npy'),\n",
              " PosixPath('bodypart/testnpy/d2bb80e260ba5cd45aaaba9617f40f0d-123.npy'),\n",
              " PosixPath('bodypart/testnpy/d2bb80e260ba5cd45aaaba9617f40f0d-124.npy'),\n",
              " PosixPath('bodypart/testnpy/d2bb80e260ba5cd45aaaba9617f40f0d-125.npy'),\n",
              " PosixPath('bodypart/testnpy/d2bb80e260ba5cd45aaaba9617f40f0d-126.npy'),\n",
              " PosixPath('bodypart/testnpy/d2bb80e260ba5cd45aaaba9617f40f0d-127.npy'),\n",
              " PosixPath('bodypart/testnpy/d2bb80e260ba5cd45aaaba9617f40f0d-128.npy'),\n",
              " PosixPath('bodypart/testnpy/d2bb80e260ba5cd45aaaba9617f40f0d-129.npy'),\n",
              " PosixPath('bodypart/testnpy/d2bb80e260ba5cd45aaaba9617f40f0d-130.npy'),\n",
              " PosixPath('bodypart/testnpy/d2bb80e260ba5cd45aaaba9617f40f0d-131.npy'),\n",
              " PosixPath('bodypart/testnpy/d2bb80e260ba5cd45aaaba9617f40f0d-132.npy'),\n",
              " PosixPath('bodypart/testnpy/d2bb80e260ba5cd45aaaba9617f40f0d-133.npy'),\n",
              " PosixPath('bodypart/testnpy/d2bb80e260ba5cd45aaaba9617f40f0d-134.npy'),\n",
              " PosixPath('bodypart/testnpy/d2bb80e260ba5cd45aaaba9617f40f0d-135.npy'),\n",
              " PosixPath('bodypart/testnpy/d2bb80e260ba5cd45aaaba9617f40f0d-136.npy'),\n",
              " PosixPath('bodypart/testnpy/d2bb80e260ba5cd45aaaba9617f40f0d-137.npy'),\n",
              " PosixPath('bodypart/testnpy/d2bb80e260ba5cd45aaaba9617f40f0d-138.npy'),\n",
              " PosixPath('bodypart/testnpy/d2bb80e260ba5cd45aaaba9617f40f0d-139.npy'),\n",
              " PosixPath('bodypart/testnpy/d2bb80e260ba5cd45aaaba9617f40f0d-140.npy'),\n",
              " PosixPath('bodypart/testnpy/d2bb80e260ba5cd45aaaba9617f40f0d-141.npy'),\n",
              " PosixPath('bodypart/testnpy/d2bb80e260ba5cd45aaaba9617f40f0d-142.npy'),\n",
              " PosixPath('bodypart/testnpy/d2bb80e260ba5cd45aaaba9617f40f0d-143.npy'),\n",
              " PosixPath('bodypart/testnpy/d2bb80e260ba5cd45aaaba9617f40f0d-144.npy'),\n",
              " PosixPath('bodypart/testnpy/d2bb80e260ba5cd45aaaba9617f40f0d-145.npy'),\n",
              " PosixPath('bodypart/testnpy/d2bb80e260ba5cd45aaaba9617f40f0d-146.npy'),\n",
              " PosixPath('bodypart/testnpy/d2bb80e260ba5cd45aaaba9617f40f0d-147.npy'),\n",
              " PosixPath('bodypart/testnpy/d2bb80e260ba5cd45aaaba9617f40f0d-148.npy'),\n",
              " PosixPath('bodypart/testnpy/d2bb80e260ba5cd45aaaba9617f40f0d-149.npy'),\n",
              " PosixPath('bodypart/testnpy/d2bb80e260ba5cd45aaaba9617f40f0d-150.npy'),\n",
              " PosixPath('bodypart/testnpy/d2bb80e260ba5cd45aaaba9617f40f0d-151.npy'),\n",
              " PosixPath('bodypart/testnpy/d2bb80e260ba5cd45aaaba9617f40f0d-152.npy'),\n",
              " PosixPath('bodypart/testnpy/d2bb80e260ba5cd45aaaba9617f40f0d-153.npy'),\n",
              " PosixPath('bodypart/testnpy/d2bb80e260ba5cd45aaaba9617f40f0d-154.npy'),\n",
              " PosixPath('bodypart/testnpy/d2bb80e260ba5cd45aaaba9617f40f0d-155.npy'),\n",
              " PosixPath('bodypart/testnpy/d2bb80e260ba5cd45aaaba9617f40f0d-156.npy'),\n",
              " PosixPath('bodypart/testnpy/d2bb80e260ba5cd45aaaba9617f40f0d-157.npy'),\n",
              " PosixPath('bodypart/testnpy/d2bb80e260ba5cd45aaaba9617f40f0d-158.npy'),\n",
              " PosixPath('bodypart/testnpy/d2bb80e260ba5cd45aaaba9617f40f0d-159.npy'),\n",
              " PosixPath('bodypart/testnpy/d2bb80e260ba5cd45aaaba9617f40f0d-160.npy'),\n",
              " PosixPath('bodypart/testnpy/d2bb80e260ba5cd45aaaba9617f40f0d-161.npy'),\n",
              " PosixPath('bodypart/testnpy/d2bb80e260ba5cd45aaaba9617f40f0d-162.npy'),\n",
              " PosixPath('bodypart/testnpy/d2bb80e260ba5cd45aaaba9617f40f0d-163.npy'),\n",
              " PosixPath('bodypart/testnpy/d2bb80e260ba5cd45aaaba9617f40f0d-164.npy'),\n",
              " PosixPath('bodypart/testnpy/d2bb80e260ba5cd45aaaba9617f40f0d-165.npy'),\n",
              " PosixPath('bodypart/testnpy/d2bb80e260ba5cd45aaaba9617f40f0d-166.npy'),\n",
              " PosixPath('bodypart/testnpy/d2bb80e260ba5cd45aaaba9617f40f0d-167.npy'),\n",
              " PosixPath('bodypart/testnpy/d2bb80e260ba5cd45aaaba9617f40f0d-168.npy'),\n",
              " PosixPath('bodypart/testnpy/d2bb80e260ba5cd45aaaba9617f40f0d-169.npy'),\n",
              " PosixPath('bodypart/testnpy/d2bb80e260ba5cd45aaaba9617f40f0d-170.npy'),\n",
              " PosixPath('bodypart/testnpy/d2bb80e260ba5cd45aaaba9617f40f0d-171.npy'),\n",
              " PosixPath('bodypart/testnpy/d2bb80e260ba5cd45aaaba9617f40f0d-172.npy'),\n",
              " PosixPath('bodypart/testnpy/d2bb80e260ba5cd45aaaba9617f40f0d-173.npy'),\n",
              " PosixPath('bodypart/testnpy/d2bb80e260ba5cd45aaaba9617f40f0d-174.npy'),\n",
              " PosixPath('bodypart/testnpy/d2bb80e260ba5cd45aaaba9617f40f0d-175.npy'),\n",
              " PosixPath('bodypart/testnpy/d2bb80e260ba5cd45aaaba9617f40f0d-176.npy'),\n",
              " PosixPath('bodypart/testnpy/d2bb80e260ba5cd45aaaba9617f40f0d-177.npy'),\n",
              " PosixPath('bodypart/testnpy/d2bb80e260ba5cd45aaaba9617f40f0d-178.npy'),\n",
              " PosixPath('bodypart/testnpy/d2bb80e260ba5cd45aaaba9617f40f0d-179.npy'),\n",
              " PosixPath('bodypart/testnpy/d2bb80e260ba5cd45aaaba9617f40f0d-180.npy'),\n",
              " PosixPath('bodypart/testnpy/d2bb80e260ba5cd45aaaba9617f40f0d-181.npy'),\n",
              " PosixPath('bodypart/testnpy/d2bb80e260ba5cd45aaaba9617f40f0d-182.npy'),\n",
              " PosixPath('bodypart/testnpy/d2bb80e260ba5cd45aaaba9617f40f0d-183.npy'),\n",
              " PosixPath('bodypart/testnpy/d2bb80e260ba5cd45aaaba9617f40f0d-184.npy'),\n",
              " PosixPath('bodypart/testnpy/d2bb80e260ba5cd45aaaba9617f40f0d-185.npy'),\n",
              " PosixPath('bodypart/testnpy/d2bb80e260ba5cd45aaaba9617f40f0d-186.npy'),\n",
              " PosixPath('bodypart/testnpy/d2bb80e260ba5cd45aaaba9617f40f0d-187.npy'),\n",
              " PosixPath('bodypart/testnpy/d2bb80e260ba5cd45aaaba9617f40f0d-188.npy'),\n",
              " PosixPath('bodypart/testnpy/d2bb80e260ba5cd45aaaba9617f40f0d-189.npy'),\n",
              " PosixPath('bodypart/testnpy/d2bb80e260ba5cd45aaaba9617f40f0d-190.npy'),\n",
              " PosixPath('bodypart/testnpy/d2bb80e260ba5cd45aaaba9617f40f0d-191.npy'),\n",
              " PosixPath('bodypart/testnpy/d2bb80e260ba5cd45aaaba9617f40f0d-192.npy'),\n",
              " PosixPath('bodypart/testnpy/d2bb80e260ba5cd45aaaba9617f40f0d-193.npy'),\n",
              " PosixPath('bodypart/testnpy/d2bb80e260ba5cd45aaaba9617f40f0d-194.npy'),\n",
              " PosixPath('bodypart/testnpy/d2bb80e260ba5cd45aaaba9617f40f0d-195.npy'),\n",
              " PosixPath('bodypart/testnpy/d2bb80e260ba5cd45aaaba9617f40f0d-196.npy'),\n",
              " PosixPath('bodypart/testnpy/d2bb80e260ba5cd45aaaba9617f40f0d-197.npy'),\n",
              " PosixPath('bodypart/testnpy/d2bb80e260ba5cd45aaaba9617f40f0d-198.npy'),\n",
              " PosixPath('bodypart/testnpy/d2bb80e260ba5cd45aaaba9617f40f0d-199.npy'),\n",
              " PosixPath('bodypart/testnpy/d2bb80e260ba5cd45aaaba9617f40f0d-200.npy'),\n",
              " PosixPath('bodypart/testnpy/d2bb80e260ba5cd45aaaba9617f40f0d-201.npy'),\n",
              " PosixPath('bodypart/testnpy/d2bb80e260ba5cd45aaaba9617f40f0d-202.npy'),\n",
              " PosixPath('bodypart/testnpy/d2bb80e260ba5cd45aaaba9617f40f0d-203.npy'),\n",
              " PosixPath('bodypart/testnpy/d2bb80e260ba5cd45aaaba9617f40f0d-204.npy'),\n",
              " PosixPath('bodypart/testnpy/d2bb80e260ba5cd45aaaba9617f40f0d-205.npy'),\n",
              " PosixPath('bodypart/testnpy/d2bb80e260ba5cd45aaaba9617f40f0d-206.npy'),\n",
              " PosixPath('bodypart/testnpy/d2bb80e260ba5cd45aaaba9617f40f0d-207.npy'),\n",
              " PosixPath('bodypart/testnpy/d2bb80e260ba5cd45aaaba9617f40f0d-208.npy'),\n",
              " PosixPath('bodypart/testnpy/d2bb80e260ba5cd45aaaba9617f40f0d-209.npy'),\n",
              " PosixPath('bodypart/testnpy/d2bb80e260ba5cd45aaaba9617f40f0d-210.npy'),\n",
              " PosixPath('bodypart/testnpy/d2bb80e260ba5cd45aaaba9617f40f0d-211.npy'),\n",
              " PosixPath('bodypart/testnpy/d2bb80e260ba5cd45aaaba9617f40f0d-212.npy'),\n",
              " PosixPath('bodypart/testnpy/d2bb80e260ba5cd45aaaba9617f40f0d-213.npy'),\n",
              " PosixPath('bodypart/testnpy/d2bb80e260ba5cd45aaaba9617f40f0d-214.npy'),\n",
              " PosixPath('bodypart/testnpy/d2bb80e260ba5cd45aaaba9617f40f0d-215.npy'),\n",
              " PosixPath('bodypart/testnpy/d2bb80e260ba5cd45aaaba9617f40f0d-216.npy')]"
            ]
          },
          "metadata": {},
          "execution_count": 8
        }
      ]
    },
    {
      "cell_type": "code",
      "metadata": {
        "id": "MoaCWETfSpLb",
        "colab": {
          "base_uri": "https://localhost:8080/",
          "height": 424
        },
        "outputId": "d5426316-fd75-4af8-9267-74cf2b89fbf1"
      },
      "source": [
        "df = pd.read_csv(\"bodypart/labels-overlap.csv\")\n",
        "df"
      ],
      "execution_count": 9,
      "outputs": [
        {
          "output_type": "execute_result",
          "data": {
            "text/html": [
              "<div>\n",
              "<style scoped>\n",
              "    .dataframe tbody tr th:only-of-type {\n",
              "        vertical-align: middle;\n",
              "    }\n",
              "\n",
              "    .dataframe tbody tr th {\n",
              "        vertical-align: top;\n",
              "    }\n",
              "\n",
              "    .dataframe thead th {\n",
              "        text-align: right;\n",
              "    }\n",
              "</style>\n",
              "<table border=\"1\" class=\"dataframe\">\n",
              "  <thead>\n",
              "    <tr style=\"text-align: right;\">\n",
              "      <th></th>\n",
              "      <th>npyid</th>\n",
              "      <th>labels</th>\n",
              "    </tr>\n",
              "  </thead>\n",
              "  <tbody>\n",
              "    <tr>\n",
              "      <th>0</th>\n",
              "      <td>0794327390645b9f1f50d5962e3f9f5f-1</td>\n",
              "      <td>Chest</td>\n",
              "    </tr>\n",
              "    <tr>\n",
              "      <th>1</th>\n",
              "      <td>0794327390645b9f1f50d5962e3f9f5f-2</td>\n",
              "      <td>Chest</td>\n",
              "    </tr>\n",
              "    <tr>\n",
              "      <th>2</th>\n",
              "      <td>0794327390645b9f1f50d5962e3f9f5f-3</td>\n",
              "      <td>Chest</td>\n",
              "    </tr>\n",
              "    <tr>\n",
              "      <th>3</th>\n",
              "      <td>0794327390645b9f1f50d5962e3f9f5f-4</td>\n",
              "      <td>Chest</td>\n",
              "    </tr>\n",
              "    <tr>\n",
              "      <th>4</th>\n",
              "      <td>0794327390645b9f1f50d5962e3f9f5f-5</td>\n",
              "      <td>Chest</td>\n",
              "    </tr>\n",
              "    <tr>\n",
              "      <th>...</th>\n",
              "      <td>...</td>\n",
              "      <td>...</td>\n",
              "    </tr>\n",
              "    <tr>\n",
              "      <th>4354</th>\n",
              "      <td>ffbb59e078936a9f5a2d02c19e722f46-214</td>\n",
              "      <td>Pelvis</td>\n",
              "    </tr>\n",
              "    <tr>\n",
              "      <th>4355</th>\n",
              "      <td>ffbb59e078936a9f5a2d02c19e722f46-215</td>\n",
              "      <td>Pelvis</td>\n",
              "    </tr>\n",
              "    <tr>\n",
              "      <th>4356</th>\n",
              "      <td>ffbb59e078936a9f5a2d02c19e722f46-216</td>\n",
              "      <td>Pelvis</td>\n",
              "    </tr>\n",
              "    <tr>\n",
              "      <th>4357</th>\n",
              "      <td>ffbb59e078936a9f5a2d02c19e722f46-217</td>\n",
              "      <td>Pelvis</td>\n",
              "    </tr>\n",
              "    <tr>\n",
              "      <th>4358</th>\n",
              "      <td>ffbb59e078936a9f5a2d02c19e722f46-218</td>\n",
              "      <td>Pelvis</td>\n",
              "    </tr>\n",
              "  </tbody>\n",
              "</table>\n",
              "<p>4359 rows × 2 columns</p>\n",
              "</div>"
            ],
            "text/plain": [
              "                                     npyid  labels\n",
              "0       0794327390645b9f1f50d5962e3f9f5f-1   Chest\n",
              "1       0794327390645b9f1f50d5962e3f9f5f-2   Chest\n",
              "2       0794327390645b9f1f50d5962e3f9f5f-3   Chest\n",
              "3       0794327390645b9f1f50d5962e3f9f5f-4   Chest\n",
              "4       0794327390645b9f1f50d5962e3f9f5f-5   Chest\n",
              "...                                    ...     ...\n",
              "4354  ffbb59e078936a9f5a2d02c19e722f46-214  Pelvis\n",
              "4355  ffbb59e078936a9f5a2d02c19e722f46-215  Pelvis\n",
              "4356  ffbb59e078936a9f5a2d02c19e722f46-216  Pelvis\n",
              "4357  ffbb59e078936a9f5a2d02c19e722f46-217  Pelvis\n",
              "4358  ffbb59e078936a9f5a2d02c19e722f46-218  Pelvis\n",
              "\n",
              "[4359 rows x 2 columns]"
            ]
          },
          "metadata": {},
          "execution_count": 9
        }
      ]
    },
    {
      "cell_type": "markdown",
      "metadata": {
        "id": "E8C_G60bn-nf"
      },
      "source": [
        "## Locate DICOM images and split data into: training, validation, test"
      ]
    },
    {
      "cell_type": "markdown",
      "metadata": {
        "id": "dC5ho-bmhQ5p"
      },
      "source": [
        "Let's locate all of the images we will use during training. In the previous code block, we kept track of images that the annotator excluded. We remove those images here. The data is structured as: exam (study) > series > images. That is, an exam can have multiple series and a series can have multiple images. The labels are assigned at the exam-level, so we can assume that all images in a series in an exam share the same labels. We split the data based on exams to prevent images from the same patient being distributed across the training, validation, and test data. We split the data into 80% training, 10% validation, 10% test. "
      ]
    },
    {
      "cell_type": "code",
      "metadata": {
        "id": "9z3OFYEgQHe5"
      },
      "source": [
        "# Define a function to construct training/validation/test splits \n",
        "# Split data based on exams to prevent data leak \n",
        "# i.e. images from the same patient exist across the splits\n",
        "\n",
        "def get_train_val_test_split(images, train_frac, val_frac, seed=88):\n",
        "    '''\n",
        "    Test fraction will equal 1 - train_frac - val_frac.\n",
        "    This function splits data based on exams, extracts image file paths,\n",
        "    and removes images that cannot be read by pydicom.\n",
        "    '''\n",
        "    np.random.seed(seed) \n",
        "  \n",
        "    train_images = np.random.choice(images, int(train_frac*len(images)), replace=False)\n",
        "    not_train_images = list(set(images) - set(train_images)) \n",
        "    valid_images = np.random.choice(not_train_images, int(val_frac*len(images)), replace=False)\n",
        "    test_images = list(set(not_train_images) - set(valid_images)) \n",
        "    # Remove images that can't be read by pydicom\n",
        "    for im in train_images: \n",
        "        try: \n",
        "            _ = np.load(str(im)) \n",
        "        except:\n",
        "            train_images.remove(im) \n",
        "    for im in valid_images: \n",
        "        try: \n",
        "            _ = np.load(str(im))  \n",
        "        except:\n",
        "            valid_images.remove(im) \n",
        "    for im in test_images: \n",
        "        try: \n",
        "            _ = np.load(str(im))  \n",
        "        except:\n",
        "            test_images.remove(im) \n",
        "    return train_images, valid_images, test_images \n",
        "      \n",
        "# Let's do 3 random train/val/test splits 80%/10%/10%\n",
        "train0, val0, test0 = get_train_val_test_split(imageList, 0.8, 0.1, seed=0)\n",
        "train1, val1, test1 = get_train_val_test_split(imageList, 0.8, 0.1, seed=1)\n",
        "train2, val2, test2 = get_train_val_test_split(imageList, 0.8, 0.1, seed=2)"
      ],
      "execution_count": 10,
      "outputs": []
    },
    {
      "cell_type": "code",
      "metadata": {
        "id": "JrYva5bISpLh",
        "colab": {
          "base_uri": "https://localhost:8080/"
        },
        "outputId": "9b65db5b-00c7-4f7a-ff30-f1971f0dc711"
      },
      "source": [
        "len(train0),len(val0),len(test0)"
      ],
      "execution_count": 20,
      "outputs": [
        {
          "output_type": "execute_result",
          "data": {
            "text/plain": [
              "(3487, 435, 437)"
            ]
          },
          "metadata": {},
          "execution_count": 20
        }
      ]
    },
    {
      "cell_type": "code",
      "metadata": {
        "id": "mgphczZ8UqYq"
      },
      "source": [
        "labels_dict = {'Chest': 0, \n",
        "               'Abdomen': 1,\n",
        "               'Pelvis': 2}\n",
        "N_CLASSES = len(labels_dict)"
      ],
      "execution_count": 21,
      "outputs": []
    },
    {
      "cell_type": "markdown",
      "metadata": {
        "id": "APe2YcAX5rJp"
      },
      "source": [
        "## Set up data generation and augmentation"
      ]
    },
    {
      "cell_type": "markdown",
      "metadata": {
        "id": "pbCXFROvigx6"
      },
      "source": [
        "Data generators are an efficient and effective way to load and augment data as it is being passed to the CNN. We convert the DICOM image array into an 8-bit image using a window width of 500 and level of 50. We had previously assigned an integer label to each label in our dataset (e.g., chest, abdomen, pelvis), but the CNN expects binary labels. Thus, for our 7 labels, we convert each integer into a length-7 vector, where each element in the vector is 1 if the image contains that label, 0 otherwise. \n",
        "\n",
        "We use simple data augmentation consisting of horizontal flips, random changes to brightness and contrast, and random levels of image blurring to help prevent the CNN from overfitting on the training data. The user should select data augmentations which represent the variability that could occur in a real setting. \n",
        "\n",
        "We also examine the class imbalance in our dataset by calculating the frequency of each label in the training data."
      ]
    },
    {
      "cell_type": "code",
      "metadata": {
        "colab": {
          "base_uri": "https://localhost:8080/"
        },
        "id": "yYc2ALDRUn3j",
        "outputId": "801498e7-ced3-4471-b50e-40c20266a3e8"
      },
      "source": [
        "def get_dicom_and_uid(path_to_npy):\n",
        "    '''\n",
        "    Given a filepath, return the npy file and corresponding SOPInstanceUID. \n",
        "    '''\n",
        "    path_to_npy = str(path_to_npy)\n",
        "    dicom_file = np.load(path_to_npy)\n",
        "    uid = path_to_npy.split('/')[-1].replace('.npy', '')\n",
        "    return dicom_file, uid\n",
        "  \n",
        "def convert_dicom_to_8bit(npy_file, width, level, imsize=(224.,224.), clip=True): \n",
        "    '''\n",
        "    Given a DICOM file, window specifications, and image size, \n",
        "    return the image as a Numpy array scaled to [0,255] of the specified size. \n",
        "    '''\n",
        "    array = npy_file.copy() \n",
        "    #array = array + int(dicom_file.RescaleIntercept) #we did this on preprocess\n",
        "    #array = array * int(dicom_file.RescaleSlope) #we did this on preprocess\n",
        "    array = np.clip(array, level - width / 2, level + width / 2)\n",
        "    # Rescale to [0, 255]\n",
        "    array -= np.min(array) \n",
        "    array /= np.max(array) \n",
        "    array *= 255.\n",
        "    array = array.astype('uint8')\n",
        "    \n",
        "    if clip:\n",
        "    # Sometimes there is dead space around the images -- let's get rid of that\n",
        "        nonzeros = np.nonzero(array) \n",
        "        x1 = np.min(nonzeros[0]) ; x2 = np.max(nonzeros[0])\n",
        "        y1 = np.min(nonzeros[1]) ; y2 = np.max(nonzeros[1])\n",
        "        array = array[x1:x2,y1:y2]\n",
        "\n",
        "    # Resize image if necessary\n",
        "    resize_x = float(imsize[0]) / array.shape[0] \n",
        "    resize_y = float(imsize[1]) / array.shape[1] \n",
        "    if resize_x != 1. or resize_y != 1.:\n",
        "        array = zoom(array, [resize_x, resize_y], order=1, prefilter=False)\n",
        "    return np.expand_dims(array, axis=-1)\n",
        "\n",
        "def get_label_from_sop_id(df, uid):\n",
        "    '''\n",
        "    Given the annotations dataframe and a study ID, return a one-hot encoded\n",
        "    vector with labels for that study ID. \n",
        "    '''\n",
        "    df = df[df.npyid == uid] \n",
        "    labels = np.zeros((N_CLASSES,))\n",
        "    for rownum, row in df.iterrows():\n",
        "        lbls = row.labels.split(\"-\")\n",
        "        for lbl in lbls:\n",
        "            label_index = labels_dict[lbl] \n",
        "            labels[label_index] += 1 \n",
        "    return labels\n",
        "\n",
        "# Data augmentation involves perturbing the images in your training set \n",
        "# to prevent overfitting\n",
        "def augment(p=0.5):\n",
        "    return Compose([\n",
        "        HorizontalFlip(p=0.5),\n",
        "        Blur(p=0.5),\n",
        "        OneOf([\n",
        "            RandomGamma(),\n",
        "            RandomContrast(),\n",
        "            RandomBrightness(),\n",
        "        ], p=0.5)\n",
        "    ], p=p)\n",
        "\n",
        "aug = augment(p=0.5)\n",
        "\n",
        "def ScoutDataGenerator(df, images, imsize, batchsize, augment=True):\n",
        "    '''\n",
        "    Data generator to use with Keras when training. \n",
        "    '''\n",
        "    while True:\n",
        "        # Shuffle images\n",
        "        images = np.random.permutation(images) \n",
        "        for index in range(0, len(images), batchsize): \n",
        "            # Get images \n",
        "            image_batch = images[index:(index+batchsize)]\n",
        "            dicom_and_uids = [get_dicom_and_uid(im) for im in image_batch]\n",
        "            dicom_files = [_[0] for _ in dicom_and_uids]\n",
        "            uids = [_[1] for _ in dicom_and_uids] \n",
        "            array_list = [] ; uids_list = []\n",
        "            for ind, dcm in enumerate(dicom_files): \n",
        "                try:\n",
        "                    array_list.append(convert_dicom_to_8bit(dcm, WINDOW_WIDTH, \n",
        "                                                  WINDOW_LEVEL, \n",
        "                                                  imsize=(imsize,imsize)))\n",
        "                    uids_list.append(uids[ind])\n",
        "                except: \n",
        "                    continue\n",
        "        if augment: array_list = [aug(image=arr)['image'] for arr in array_list]\n",
        "        arrays = np.asarray(array_list)\n",
        "        # Data are labeled by studies\n",
        "        # All images in a study share the same label \n",
        "        arrays = preprocess_input(arrays, mode='tf')\n",
        "        labels = np.asarray([get_label_from_sop_id(df, _) for _ in uids_list])\n",
        "        yield arrays, labels\n",
        "      \n",
        "\n",
        "# Let's look at the distribution of labels in the training data\n",
        "dicom_and_uids = [get_dicom_and_uid(im) for im in train0] \n",
        "uids = [_[1] for _ in dicom_and_uids] \n",
        "labels = np.asarray([get_label_from_sop_id(df, _) for _ in uids]) \n",
        "class_frequencies = np.mean(labels, axis=0) \n",
        "\n",
        "category_list = ['Chest', 'Abdomen', 'Pelvis']\n",
        "\n",
        "for cat_index, cat in enumerate(category_list):\n",
        "    pct_frequency = round(class_frequencies[cat_index] * 100., 1)\n",
        "    print('Frequency of {} : {}%'.format(cat, pct_frequency))"
      ],
      "execution_count": 22,
      "outputs": [
        {
          "output_type": "stream",
          "name": "stdout",
          "text": [
            "Frequency of Chest : 44.7%\n",
            "Frequency of Abdomen : 32.7%\n",
            "Frequency of Pelvis : 37.8%\n"
          ]
        }
      ]
    },
    {
      "cell_type": "markdown",
      "metadata": {
        "id": "aqeeJOqN5xcP"
      },
      "source": [
        "## Set up Keras model"
      ]
    },
    {
      "cell_type": "markdown",
      "metadata": {
        "id": "z21oN8L5kLaE"
      },
      "source": [
        "Now we can set up a basic Keras CNN model. We will use the lightweight MobileNetV2 model since our classification problem is relatively simple. Important parameters that can affect model performance include: the initial learning rate (how aggressively the model makes changes to its weights), dropout probability (a method to prevent overfitting by randomly turning neurons in the CNN off), and batch size (the number of images at each iteration to adjust the CNN weights). We use the Adam optimizer, which is a popular optimizer that performs well in most cases. We use an image size of 256 x 256. Oftentimes we would see better performance with higher image sizes up to a point, after which increases in image size do not improve or even worsen performance. However, the tradeoff is that you require more GPU memory and training time. \n",
        "\n",
        "Implementing early stopping and a learning rate annealing schedule can help improve performance. A model can quickly overfit and perfectly predict the training data, especially if the model is large and the dataset is small. Early stopping uses validation performance to determine when to stop training: if a model is no longer making improvements on the validation dataset, then stop training. How long we wait and how much progress is considered improvement are both tunable parameters. Reducing the learning rate when validation performance stagnates can also improve model performance. While the initial learning rate should be relatively large to speed up convergence, training using smaller learning rates later on in the process can help the model make smaller adjustments to better fit the specific classification task. In this example, we choose to monitor the validation loss as track changes in the loss to determine when to reduce the learning rate and stop training.\n",
        "\n",
        "We initialize our model with ImageNet pretrained weights. Our dataset is relatively small so training from scratch (randomly initialized weights) will likely result in worse performance and unstable model training. Even with larger datasets, initializing with pretrained weights can speed up model convergence. Because ImageNet is composed of 3-channel RGB natural color images and our CT scout images are 1-channel grayscale images, we need to slightly modify the first layer of the ImageNet pretrained weights.\n",
        "\n",
        "Note that we use binary crossentropy as our loss function versus categorical crossentropy. We previously discussed how our problem is multi-label in that a single image can have multiple labels (e.g., chest AND abdomen). Categorical crossentropy is better suited for multi-class problems where an image has only one label. "
      ]
    },
    {
      "cell_type": "code",
      "metadata": {
        "colab": {
          "base_uri": "https://localhost:8080/"
        },
        "id": "UT-XqAcItusp",
        "outputId": "f415522a-5201-4ad4-fe3c-b537b103a124"
      },
      "source": [
        "#######################\n",
        "# TRAINING PARAMETERS #\n",
        "#######################\n",
        "\n",
        "INITIAL_LR = 1e-4\n",
        "N_CLASSES  = 3\n",
        "BATCH_SIZE = 4\n",
        "DROPOUT    = 0.5\n",
        "IMSIZE     = 256\n",
        "# Max number of epochs to train for\n",
        "EPOCHS     = 50 \n",
        "# Pick a performance metric to determine whether the model is improving\n",
        "MONITOR    = 'val_loss' \n",
        "# Define a minimum improvement threshold\n",
        "# The model must improve validation performance by at least this amount \n",
        "# to be considered improving\n",
        "MIN_DELTA  = 0.001 \n",
        "# If the model is not improving, we should reduce the learning rate \n",
        "ANNEAL_BY  = 0.5 \n",
        "# A model may not improve after 1 epoch but could improve after the next epoch\n",
        "# without making changes to the learning rate. How many epochs should we wait?\n",
        "PATIENCE   = 2 \n",
        "# It can be a good idea to let the model \"settle in\" to a new learning rate \n",
        "# after decreasing it. How long should we wait?\n",
        "COOLDOWN   = 1\n",
        "# Stopping model training when the model isn't improving validation performance\n",
        "# can help prevent overfitting. \n",
        "STOP_AFTER = 5\n",
        "\n",
        "# Load pretrained MobileNetV2 ImageNet weights\n",
        "base_model = MobileNetV2(weights='imagenet', include_top=False, input_shape=(224,224,3))\n",
        "imagenet_weights = base_model.get_weights()\n",
        "print(imagenet_weights[0].shape) \n",
        "# Sum over axis 2 to allow for grayscale (1-channel) input\n",
        "imagenet_weights[0] = np.expand_dims(np.sum(imagenet_weights[0], axis=2), axis=2)\n",
        "print(imagenet_weights[0].shape)\n",
        "base_model = MobileNetV2(weights=None, include_top=False, input_shape=(IMSIZE,IMSIZE,1)) \n",
        "base_model.set_weights(imagenet_weights)\n",
        "x = GlobalAveragePooling2D()(base_model.output) \n",
        "x = Dropout(DROPOUT)(x) \n",
        "prediction = Dense(N_CLASSES, activation='sigmoid')(x) \n",
        "\n",
        "model = Model(inputs=base_model.input, outputs=prediction)\n",
        "model.compile(optimizer=tf.optimizers.Adam(learning_rate=INITIAL_LR), \n",
        "              loss='binary_crossentropy', \n",
        "              metrics=['accuracy'])\n",
        "\n",
        "WINDOW_LEVEL, WINDOW_WIDTH = 50, 500\n",
        "train_scoutgen = ScoutDataGenerator(df, train1, IMSIZE, BATCH_SIZE, augment=True)\n",
        "valid_scoutgen = ScoutDataGenerator(df, val1, IMSIZE, BATCH_SIZE, augment=False)"
      ],
      "execution_count": 23,
      "outputs": [
        {
          "output_type": "stream",
          "name": "stdout",
          "text": [
            "Downloading data from https://storage.googleapis.com/tensorflow/keras-applications/mobilenet_v2/mobilenet_v2_weights_tf_dim_ordering_tf_kernels_1.0_224_no_top.h5\n",
            "9412608/9406464 [==============================] - 0s 0us/step\n",
            "9420800/9406464 [==============================] - 0s 0us/step\n",
            "(3, 3, 3, 32)\n",
            "(3, 3, 1, 32)\n"
          ]
        }
      ]
    },
    {
      "cell_type": "code",
      "metadata": {
        "id": "Blw6djmlQ04w",
        "colab": {
          "base_uri": "https://localhost:8080/"
        },
        "outputId": "4af7480c-774f-4235-e3c7-49a845c77e67"
      },
      "source": [
        "# serialize model to JSON\n",
        "model_json = model.to_json()\n",
        "with open(\"model.json\", \"w\") as json_file:\n",
        "    json_file.write(model_json)"
      ],
      "execution_count": 24,
      "outputs": [
        {
          "output_type": "stream",
          "name": "stderr",
          "text": [
            "/usr/local/lib/python3.7/dist-packages/keras/engine/functional.py:1410: CustomMaskWarning: Custom mask layers require a config and must override get_config. When loading, the custom mask layer must be passed to the custom_objects argument.\n",
            "  layer_config = serialize_layer_fn(layer)\n"
          ]
        }
      ]
    },
    {
      "cell_type": "markdown",
      "metadata": {
        "id": "A7ysPBgxn1Hx"
      },
      "source": [
        "Let's take a look at an image produced by our data generator."
      ]
    },
    {
      "cell_type": "code",
      "metadata": {
        "colab": {
          "base_uri": "https://localhost:8080/",
          "height": 269
        },
        "id": "HvQtWNQk_BEP",
        "outputId": "64958519-257a-4b17-91e9-d602da91fbb6"
      },
      "source": [
        "# Show example image\n",
        "test_image = next(train_scoutgen)[0][0]\n",
        "plt.imshow(test_image[..., 0], cmap='gray'); plt.show() "
      ],
      "execution_count": 25,
      "outputs": [
        {
          "output_type": "display_data",
          "data": {
            "image/png": "[encoded data removed]",
            "text/plain": [
              "<Figure size 432x288 with 1 Axes>"
            ]
          },
          "metadata": {
            "needs_background": "light"
          }
        }
      ]
    },
    {
      "cell_type": "markdown",
      "metadata": {
        "id": "PUqn1oJCn40y"
      },
      "source": [
        "## Training the CNN"
      ]
    },
    {
      "cell_type": "markdown",
      "metadata": {
        "id": "PhLp4N9dn7yR"
      },
      "source": [
        "Once we have all of our training hyperparameters set up, training the model is simple in Keras. We validate on the validation set after every epoch. \n",
        "\n",
        "When we examined the distribution of class labels previously, we saw that there was an imbalance: abdomen and pelvis labels were both >30% whereas lower and upper extremity labels were <10%. Severe class imbalance can cause problems during training as the network will learn to simply predict the more prevalent class. Two common strategies are 1) over-/under-sampling the data so that the distributions of class labels are more similar and 2) using a weighted loss function that gives more weight to less common classes. Though our data is not severely imbalanced, adjusting for class imbalance can still result in small performance boosts. We will use an inverse-frequency weighted loss function during training."
      ]
    },
    {
      "cell_type": "code",
      "metadata": {
        "colab": {
          "base_uri": "https://localhost:8080/",
          "height": 218
        },
        "id": "ep8iH4OSz7mi",
        "outputId": "8b295430-4ad0-4120-992c-f05d8db018d3"
      },
      "source": [
        "device_name = tf.test.gpu_device_name()\n",
        "if device_name != '/device:GPU:0':\n",
        "  raise SystemError('GPU device not found')\n",
        "print('Found GPU at: {}'.format(device_name))"
      ],
      "execution_count": 26,
      "outputs": [
        {
          "output_type": "error",
          "ename": "SystemError",
          "evalue": "ignored",
          "traceback": [
            "\u001b[0;31m---------------------------------------------------------------------------\u001b[0m",
            "\u001b[0;31mSystemError\u001b[0m                               Traceback (most recent call last)",
            "\u001b[0;32m<ipython-input-26-ce08ddae0a7d>\u001b[0m in \u001b[0;36m<module>\u001b[0;34m()\u001b[0m\n\u001b[1;32m      1\u001b[0m \u001b[0mdevice_name\u001b[0m \u001b[0;34m=\u001b[0m \u001b[0mtf\u001b[0m\u001b[0;34m.\u001b[0m\u001b[0mtest\u001b[0m\u001b[0;34m.\u001b[0m\u001b[0mgpu_device_name\u001b[0m\u001b[0;34m(\u001b[0m\u001b[0;34m)\u001b[0m\u001b[0;34m\u001b[0m\u001b[0;34m\u001b[0m\u001b[0m\n\u001b[1;32m      2\u001b[0m \u001b[0;32mif\u001b[0m \u001b[0mdevice_name\u001b[0m \u001b[0;34m!=\u001b[0m \u001b[0;34m'/device:GPU:0'\u001b[0m\u001b[0;34m:\u001b[0m\u001b[0;34m\u001b[0m\u001b[0;34m\u001b[0m\u001b[0m\n\u001b[0;32m----> 3\u001b[0;31m   \u001b[0;32mraise\u001b[0m \u001b[0mSystemError\u001b[0m\u001b[0;34m(\u001b[0m\u001b[0;34m'GPU device not found'\u001b[0m\u001b[0;34m)\u001b[0m\u001b[0;34m\u001b[0m\u001b[0;34m\u001b[0m\u001b[0m\n\u001b[0m\u001b[1;32m      4\u001b[0m \u001b[0mprint\u001b[0m\u001b[0;34m(\u001b[0m\u001b[0;34m'Found GPU at: {}'\u001b[0m\u001b[0;34m.\u001b[0m\u001b[0mformat\u001b[0m\u001b[0;34m(\u001b[0m\u001b[0mdevice_name\u001b[0m\u001b[0;34m)\u001b[0m\u001b[0;34m)\u001b[0m\u001b[0;34m\u001b[0m\u001b[0;34m\u001b[0m\u001b[0m\n",
            "\u001b[0;31mSystemError\u001b[0m: GPU device not found"
          ]
        }
      ]
    },
    {
      "cell_type": "code",
      "metadata": {
        "colab": {
          "base_uri": "https://localhost:8080/"
        },
        "id": "LOnkewUQ0GQy",
        "outputId": "0ead7546-7df6-492f-9103-a36db94052b2"
      },
      "source": [
        "import timeit\n",
        "\n",
        "device_name = tf.test.gpu_device_name()\n",
        "if device_name != '/device:GPU:0':\n",
        "  print(\n",
        "      '\\n\\nThis error most likely means that this notebook is not '\n",
        "      'configured to use a GPU.  Change this in Notebook Settings via the '\n",
        "      'command palette (cmd/ctrl-shift-P) or the Edit menu.\\n\\n')\n",
        "  raise SystemError('GPU device not found')\n",
        "\n",
        "def cpu():\n",
        "  with tf.device('/cpu:0'):\n",
        "    random_image_cpu = tf.random.normal((100, 100, 100, 3))\n",
        "    net_cpu = tf.keras.layers.Conv2D(32, 7)(random_image_cpu)\n",
        "    return tf.math.reduce_sum(net_cpu)\n",
        "\n",
        "def gpu():\n",
        "  with tf.device('/device:GPU:0'):\n",
        "    random_image_gpu = tf.random.normal((100, 100, 100, 3))\n",
        "    net_gpu = tf.keras.layers.Conv2D(32, 7)(random_image_gpu)\n",
        "    return tf.math.reduce_sum(net_gpu)\n",
        "  \n",
        "# We run each op once to warm up; see: https://stackoverflow.com/a/45067900\n",
        "cpu()\n",
        "gpu()\n",
        "\n",
        "# Run the op several times.\n",
        "print('Time (s) to convolve 32x7x7x3 filter over random 100x100x100x3 images '\n",
        "      '(batch x height x width x channel). Sum of ten runs.')\n",
        "print('CPU (s):')\n",
        "cpu_time = timeit.timeit('cpu()', number=10, setup=\"from __main__ import cpu\")\n",
        "print(cpu_time)\n",
        "print('GPU (s):')\n",
        "gpu_time = timeit.timeit('gpu()', number=10, setup=\"from __main__ import gpu\")\n",
        "print(gpu_time)\n",
        "print('GPU speedup over CPU: {}x'.format(int(cpu_time/gpu_time)))"
      ],
      "execution_count": null,
      "outputs": [
        {
          "output_type": "stream",
          "name": "stdout",
          "text": [
            "Time (s) to convolve 32x7x7x3 filter over random 100x100x100x3 images (batch x height x width x channel). Sum of ten runs.\n",
            "CPU (s):\n",
            "3.8486541499996747\n",
            "GPU (s):\n",
            "0.04576006500019503\n",
            "GPU speedup over CPU: 84x\n"
          ]
        }
      ]
    },
    {
      "cell_type": "code",
      "metadata": {
        "colab": {
          "base_uri": "https://localhost:8080/"
        },
        "id": "xrErIwB_ukKy",
        "outputId": "a9fa3ea2-9bd9-40cc-84f5-3b1d034d6160"
      },
      "source": [
        "from tensorflow.python.client import device_lib\n",
        "device_lib.list_local_devices()"
      ],
      "execution_count": null,
      "outputs": [
        {
          "output_type": "execute_result",
          "data": {
            "text/plain": [
              "[name: \"/device:CPU:0\"\n",
              " device_type: \"CPU\"\n",
              " memory_limit: 268435456\n",
              " locality {\n",
              " }\n",
              " incarnation: 15505149711756714593, name: \"/device:GPU:0\"\n",
              " device_type: \"GPU\"\n",
              " memory_limit: 11345264640\n",
              " locality {\n",
              "   bus_id: 1\n",
              "   links {\n",
              "   }\n",
              " }\n",
              " incarnation: 11759578883334113384\n",
              " physical_device_desc: \"device: 0, name: Tesla K80, pci bus id: 0000:00:04.0, compute capability: 3.7\"]"
            ]
          },
          "metadata": {},
          "execution_count": 33
        }
      ]
    },
    {
      "cell_type": "code",
      "metadata": {
        "colab": {
          "base_uri": "https://localhost:8080/"
        },
        "id": "NvJ6cyB3l-cM",
        "outputId": "7361ee83-126c-4af3-d91f-274f47b8dbe6"
      },
      "source": [
        "# this is on just MGUH images starting from scratch\n",
        "callbacks = [\n",
        "    EarlyStopping(monitor=MONITOR, patience=STOP_AFTER, min_delta=MIN_DELTA,\n",
        "                  restore_best_weights=True),\n",
        "    ReduceLROnPlateau(monitor=MONITOR, factor=ANNEAL_BY, patience=PATIENCE,\n",
        "                      min_delta=MIN_DELTA, mode='min', cooldown=COOLDOWN, \n",
        "                      verbose=1)\n",
        "]\n",
        "\n",
        "# Let's weight each class in the loss function by the inverse of its frequency\n",
        "weights = {} ; total_weight = 0.\n",
        "for freq_index, freq in enumerate(class_frequencies): \n",
        "    weights[freq_index] = 1. / freq\n",
        "    total_weight += weights[freq_index]\n",
        "\n",
        "# Scale so that sum of weights equals the number of classes\n",
        "for each_class in weights.keys(): \n",
        "    weights[each_class] = weights[each_class] / total_weight * N_CLASSES\n",
        "\n",
        "model.fit_generator(train_scoutgen, epochs=EPOCHS, \n",
        "                    steps_per_epoch=len(train1) / BATCH_SIZE, \n",
        "                    validation_data=valid_scoutgen, \n",
        "                    validation_steps=len(val1) / BATCH_SIZE,\n",
        "                    callbacks=callbacks,\n",
        "                    class_weight=weights) "
      ],
      "execution_count": null,
      "outputs": [
        {
          "output_type": "stream",
          "name": "stderr",
          "text": [
            "/usr/local/lib/python3.7/dist-packages/keras/engine/training.py:1972: UserWarning: `Model.fit_generator` is deprecated and will be removed in a future version. Please use `Model.fit`, which supports generators.\n",
            "  warnings.warn('`Model.fit_generator` is deprecated and '\n"
          ]
        },
        {
          "output_type": "stream",
          "name": "stdout",
          "text": [
            "Epoch 1/50\n",
            "421/871 [=============>................] - ETA: 3:28:39 - loss: 0.4075 - accuracy: 0.7229"
          ]
        }
      ]
    },
    {
      "cell_type": "code",
      "metadata": {
        "id": "6rdAVXFhZIlb"
      },
      "source": [
        "title = \"mguh-multilabel.h5\"\n",
        "model.save_weights(title)"
      ],
      "execution_count": null,
      "outputs": []
    },
    {
      "cell_type": "code",
      "metadata": {
        "id": "Zmm8yOm7A-_m"
      },
      "source": [
        "model.load_weights('weights_slices_2.h5')"
      ],
      "execution_count": null,
      "outputs": []
    },
    {
      "cell_type": "code",
      "metadata": {
        "id": "PxqTbUQbSpLt"
      },
      "source": [
        "# this is starting with TCGA/Anouk weights and then training on MGUH data\n",
        "callbacks = [\n",
        "    EarlyStopping(monitor=MONITOR, patience=STOP_AFTER, min_delta=MIN_DELTA,\n",
        "                  restore_best_weights=True),\n",
        "    ReduceLROnPlateau(monitor=MONITOR, factor=ANNEAL_BY, patience=PATIENCE,\n",
        "                      min_delta=MIN_DELTA, mode='min', cooldown=COOLDOWN, \n",
        "                      verbose=1)\n",
        "]\n",
        "\n",
        "# Let's weight each class in the loss function by the inverse of its frequency\n",
        "weights = {} ; total_weight = 0.\n",
        "for freq_index, freq in enumerate(class_frequencies): \n",
        "    weights[freq_index] = 1. / freq\n",
        "    total_weight += weights[freq_index]\n",
        "\n",
        "# Scale so that sum of weights equals the number of classes\n",
        "for each_class in weights.keys(): \n",
        "    weights[each_class] = weights[each_class] / total_weight * N_CLASSES\n",
        "\n",
        "model.fit_generator(train_scoutgen, epochs=EPOCHS, \n",
        "                    steps_per_epoch=len(train1) / BATCH_SIZE, \n",
        "                    validation_data=valid_scoutgen, \n",
        "                    validation_steps=len(val1) / BATCH_SIZE,\n",
        "                    callbacks=callbacks,\n",
        "                    class_weight=weights) "
      ],
      "execution_count": null,
      "outputs": []
    },
    {
      "cell_type": "code",
      "metadata": {
        "id": "TsCAxyjNSpLu"
      },
      "source": [
        "title = \"tcga-mguh-multilabel.h5\"\n",
        "model.save_weights(title)"
      ],
      "execution_count": null,
      "outputs": []
    },
    {
      "cell_type": "code",
      "metadata": {
        "id": "QVLMxApf-yRq"
      },
      "source": [
        "!ls"
      ],
      "execution_count": null,
      "outputs": []
    },
    {
      "cell_type": "markdown",
      "metadata": {
        "id": "usHk3ZalFjU_"
      },
      "source": [
        "## Predict on test set"
      ]
    },
    {
      "cell_type": "markdown",
      "metadata": {
        "id": "7dOLinK6p5Zz"
      },
      "source": [
        "Now let's evaluate predictions on the test data. Note that the CNN predicts labels for each image but labels exist at an exam-level. Thus we need to combine predictions for each image in an exam to produce an exam-level label. We will do so by simply averaging the prediction scores across all images in an exam. "
      ]
    },
    {
      "cell_type": "code",
      "metadata": {
        "id": "RfV9FAvBSpLw"
      },
      "source": [
        "model.load_weights('mguh-multilabel.h5')  #Just Georgetown"
      ],
      "execution_count": null,
      "outputs": []
    },
    {
      "cell_type": "code",
      "metadata": {
        "id": "UvVfWzhhSpLx"
      },
      "source": [
        "model.load_weights('tcga-mguh-multilabel.h5')  #federated"
      ],
      "execution_count": null,
      "outputs": []
    },
    {
      "cell_type": "code",
      "metadata": {
        "id": "sYTxJI4St5vy"
      },
      "source": [
        "def predict_test(model, df, images, imsize):\n",
        "    '''\n",
        "    Small modifications to data generator to allow for prediction on test data.\n",
        "    '''\n",
        "    test_arrays = [] \n",
        "    test_labels = [] \n",
        "    test_probas = [] \n",
        "    test_uids   = []\n",
        "    for im in images: \n",
        "        dicom_file, uid = get_dicom_and_uid(im) \n",
        "        try:\n",
        "            array = convert_dicom_to_8bit(dicom_file, WINDOW_WIDTH, WINDOW_LEVEL, \n",
        "                                    imsize=(imsize,imsize))\n",
        "        except: \n",
        "            continue\n",
        "        # Data are labeled by studies\n",
        "        # All images in a study share the same label \n",
        "        array = preprocess_input(array, mode='tf')\n",
        "        label = get_label_from_sop_id(df, uid)\n",
        "        test_arrays.append(array) \n",
        "        test_labels.append(label)\n",
        "        test_probas.append(model.predict(np.expand_dims(array, axis=0)))\n",
        "        test_uids.append(uid)\n",
        "    return test_uids, test_arrays, test_labels, test_probas\n",
        "                                    \n",
        "uids, X, y_true, y_prob = predict_test(model, df, test0, IMSIZE)\n",
        "# Predictions are made at the image level\n",
        "# We need to combine image-level predictions and get exam-level predictions\n",
        "# We will simply average the predictions for each image in the exam \n",
        "# to get exam-level predictions\n",
        "test_pred_df = pd.DataFrame({'uid': uids, 'X': X, 'y_true': y_true, \n",
        "                             'y_prob': y_prob})\n",
        "test_pred_by_uid = [_[1] for _ in list(test_pred_df.groupby('uid'))]\n",
        "\n",
        "uids = []\n",
        "X = [] \n",
        "y_prob = [] \n",
        "y_true = [] \n",
        "for each_df in test_pred_by_uid: \n",
        "    uids.append(each_df.uid.values[0])\n",
        "    row_counter = 0.\n",
        "    tmp_y_prob = np.zeros((N_CLASSES,)).astype('float32') \n",
        "    y_true.append(each_df.y_true.values[0])\n",
        "    tmp_X = []\n",
        "    for rownum, row in each_df.iterrows():\n",
        "        row_counter += 1. \n",
        "        tmp_y_prob += row.y_prob[0]\n",
        "        tmp_X.append(row.X) \n",
        "    X.append(tmp_X) \n",
        "    y_prob.append(tmp_y_prob / row_counter)\n",
        "\n",
        "y_pred = [] \n",
        "for p in y_prob: \n",
        "    tmp_pred = np.round(p) \n",
        "    # Prediction can't be all zeros, so lower threshold if it is\n",
        "    threshold = 0.5\n",
        "    while np.sum(tmp_pred) == 0: \n",
        "        threshold -= 0.05\n",
        "        tmp_pred = p >= threshold \n",
        "    y_pred.append(tmp_pred.astype('float32'))"
      ],
      "execution_count": null,
      "outputs": []
    },
    {
      "cell_type": "markdown",
      "metadata": {
        "id": "DwvDfBJpqrRB"
      },
      "source": [
        "Let's take a look at how many exams were perfectly predicted. All labels must be correctly predicted to count as a correct prediction. "
      ]
    },
    {
      "cell_type": "code",
      "metadata": {
        "id": "k4l_Q5P8Nc9t"
      },
      "source": [
        "# All labels must be correctly predicted to be count as a correct prediction\n",
        "correct = 0 \n",
        "for index, i in enumerate(y_pred): \n",
        "    if np.sum(i == y_true[index]) == N_CLASSES: correct += 1\n",
        "\n",
        "print('{}% of test image predictions are completely correct'.format(round(float(correct) / len(y_pred) * 100., 1)))"
      ],
      "execution_count": null,
      "outputs": []
    },
    {
      "cell_type": "code",
      "metadata": {
        "id": "o0hXXuuFSpLz"
      },
      "source": [
        "# federated All labels must be correctly predicted to be count as a correct prediction\n",
        "correct = 0 \n",
        "for index, i in enumerate(y_pred): \n",
        "    if np.sum(i == y_true[index]) == N_CLASSES: correct += 1\n",
        "\n",
        "print('{}% of test image predictions are completely correct'.format(round(float(correct) / len(y_pred) * 100., 1)))"
      ],
      "execution_count": null,
      "outputs": []
    },
    {
      "cell_type": "markdown",
      "metadata": {
        "id": "RRn5Q0lDsJ26"
      },
      "source": [
        "How about partially correct predictions? We define partially correct as having at least one correct overlapping label. "
      ]
    },
    {
      "cell_type": "code",
      "metadata": {
        "id": "JJ4dFInZsUA6"
      },
      "source": [
        "part_correct = 0 \n",
        "for index, i in enumerate(y_pred): \n",
        "    if np.sum((i == 1) & (y_true[index] == 1)) > 0: part_correct += 1\n",
        "\n",
        "print('{}% of test image predictions are partially correct'.format(round(float(part_correct) / len(y_pred) * 100., 1)))"
      ],
      "execution_count": null,
      "outputs": []
    },
    {
      "cell_type": "code",
      "metadata": {
        "id": "_Q0Ss5rVSpL0"
      },
      "source": [
        "#federated\n",
        "part_correct = 0 \n",
        "for index, i in enumerate(y_pred): \n",
        "    if np.sum((i == 1) & (y_true[index] == 1)) > 0: part_correct += 1\n",
        "\n",
        "print('{}% of test image predictions are partially correct'.format(round(float(part_correct) / len(y_pred) * 100., 1)))"
      ],
      "execution_count": null,
      "outputs": []
    },
    {
      "cell_type": "markdown",
      "metadata": {
        "id": "Fq2pRccCq0gH"
      },
      "source": [
        "Now, let's examine accuracy for each class. That is, for each class, how many images were correctly predicted to be positive or negative for that label? This is the binary classification accuracy for each category."
      ]
    },
    {
      "cell_type": "code",
      "metadata": {
        "id": "F9ap7fi0ybCP"
      },
      "source": [
        "# Next, let's category-level accuracy\n",
        "# For each category (i.e. exam type), what percentage of images were \n",
        "# correctly predicted to be in that category? \n",
        "\n",
        "category_list = ['CHEST', 'ABDOMEN', 'PELVIS']\n",
        "\n",
        "category_correct_list = [] \n",
        "for category_index in range(len(category_list)): \n",
        "    correct = 0 \n",
        "    for index, i in enumerate(y_pred): \n",
        "        if i[category_index] == y_true[index][category_index]: correct += 1\n",
        "    category_correct_list.append(round(float(correct) / len(y_pred) * 100., 1))\n",
        "  \n",
        "for cat_index, each_cat in enumerate(category_list):\n",
        "    print('{}% of images were correctly labeled with: {}'.format(category_correct_list[cat_index], each_cat))"
      ],
      "execution_count": null,
      "outputs": []
    },
    {
      "cell_type": "code",
      "metadata": {
        "id": "ayG4WpCFSpL2"
      },
      "source": [
        "#federated\n",
        "# Next, let's category-level accuracy\n",
        "# For each category (i.e. exam type), what percentage of images were \n",
        "# correctly predicted to be in that category? \n",
        "\n",
        "category_list = ['CHEST', 'ABDOMEN', 'PELVIS']\n",
        "\n",
        "category_correct_list = [] \n",
        "for category_index in range(len(category_list)): \n",
        "    correct = 0 \n",
        "    for index, i in enumerate(y_pred): \n",
        "        if i[category_index] == y_true[index][category_index]: correct += 1\n",
        "    category_correct_list.append(round(float(correct) / len(y_pred) * 100., 1))\n",
        "  \n",
        "for cat_index, each_cat in enumerate(category_list):\n",
        "    print('{}% of images were correctly labeled with: {}'.format(category_correct_list[cat_index], each_cat))"
      ],
      "execution_count": null,
      "outputs": []
    },
    {
      "cell_type": "markdown",
      "metadata": {
        "id": "UjiJWlilrJOa"
      },
      "source": [
        "This shows that the model is fairly accurate when we look at individual classes. One might expect that CT scout images that contain parts of different regions but were not labeled as such would be more difficult to predict accurately. For example, if half of the thorax was present in an image, it might not have been labeled as chest -- but the presence of part of the thorax could lead the model to make that prediction. Let's examine our incorrect test predictions."
      ]
    },
    {
      "cell_type": "code",
      "metadata": {
        "id": "SwfWr126JlcS"
      },
      "source": [
        "# Let's take a look at some incorrect predictions\n",
        "\n",
        "def convert_numbers_to_words(label, category_list):\n",
        "    return ' | '.join(list(np.asarray(category_list)[label.astype('bool')]))\n",
        "  \n",
        "\n",
        "def show_predictions(img, uid, y_true, y_pred, category_list): \n",
        "    if len(img) == 1:\n",
        "        fig = plt.figure(figsize=(8,8))\n",
        "    else:\n",
        "        fig = plt.figure(figsize=(8,6))\n",
        "    y_true = convert_numbers_to_words(y_true, category_list)\n",
        "    y_pred = convert_numbers_to_words(y_pred, category_list) \n",
        "    fig.suptitle('{}\\nACTUAL: {}\\nPREDICTED: {}'.format(uid, y_true, y_pred))\n",
        "    for im_index, im in enumerate(img): \n",
        "        ax = fig.add_subplot(1,len(img),im_index+1)\n",
        "        ax.imshow(im[..., 0], cmap='gray')\n",
        "    plt.show() \n",
        "  \n",
        "incorrect_predictions = []\n",
        "for index, i in enumerate(y_pred): \n",
        "    if np.sum(i == y_true[index]) < N_CLASSES: \n",
        "        incorrect_predictions.append(index)\n",
        "\n",
        "for im2show in incorrect_predictions:\n",
        "    show_predictions(X[im2show], \n",
        "                   uids[im2show], \n",
        "                   y_true[im2show], \n",
        "                   y_pred[im2show], \n",
        "                   category_list)"
      ],
      "execution_count": null,
      "outputs": []
    },
    {
      "cell_type": "code",
      "metadata": {
        "id": "jAwNiSAzSpL3"
      },
      "source": [
        "#federated\n",
        "# Let's take a look at some incorrect predictions\n",
        "\n",
        "def convert_numbers_to_words(label, category_list):\n",
        "    return ' | '.join(list(np.asarray(category_list)[label.astype('bool')]))\n",
        "  \n",
        "\n",
        "def show_predictions(img, uid, y_true, y_pred, category_list): \n",
        "    if len(img) == 1:\n",
        "        fig = plt.figure(figsize=(8,8))\n",
        "    else:\n",
        "        fig = plt.figure(figsize=(8,6))\n",
        "    y_true = convert_numbers_to_words(y_true, category_list)\n",
        "    y_pred = convert_numbers_to_words(y_pred, category_list) \n",
        "    fig.suptitle('{}\\nACTUAL: {}\\nPREDICTED: {}'.format(uid, y_true, y_pred))\n",
        "    for im_index, im in enumerate(img): \n",
        "        ax = fig.add_subplot(1,len(img),im_index+1)\n",
        "        ax.imshow(im[..., 0], cmap='gray')\n",
        "    plt.show() \n",
        "  \n",
        "incorrect_predictions = []\n",
        "for index, i in enumerate(y_pred): \n",
        "    if np.sum(i == y_true[index]) < N_CLASSES: \n",
        "        incorrect_predictions.append(index)\n",
        "\n",
        "for im2show in incorrect_predictions:\n",
        "    show_predictions(X[im2show], \n",
        "                   uids[im2show], \n",
        "                   y_true[im2show], \n",
        "                   y_pred[im2show], \n",
        "                   category_list)"
      ],
      "execution_count": null,
      "outputs": []
    },
    {
      "cell_type": "markdown",
      "metadata": {
        "id": "vffywqr-sCt1"
      },
      "source": [
        "We can see from our incorrect predictions that for the most part our model makes sensible incorrect predictions (omitting/adding regions that are partially present).\n",
        "\n",
        "That concludes this notebook. We trained a basic CNN to label CT scout exams with their anatomical regions. Feel free to read up on tips and tricks for further improving model performance and tackling more difficult problems. There are plenty of openly available resources on the Internet!"
      ]
    },
    {
      "cell_type": "code",
      "metadata": {
        "id": "auoBQzUKOXxh"
      },
      "source": [
        "#Inference\n",
        "def predict(model, images, imsize):\n",
        "    '''\n",
        "    Small modifications to data generator to allow for prediction on test data.\n",
        "    '''\n",
        "    test_arrays = [] \n",
        " \n",
        "    test_probas = [] \n",
        "    test_uids   = []\n",
        "    for im in images: \n",
        "        dicom_file, uid = get_dicom_and_uid(im) \n",
        "        try:\n",
        "            array = convert_dicom_to_8bit(dicom_file, WINDOW_WIDTH, WINDOW_LEVEL, \n",
        "                                    imsize=(imsize,imsize))\n",
        "        except: \n",
        "            continue\n",
        "      \n",
        "        array = preprocess_input(array, mode='tf')\n",
        "        test_arrays.append(array) \n",
        "\n",
        "        test_probas.append(model.predict(np.expand_dims(array, axis=0)))\n",
        "        test_uids.append(uid)\n",
        "    return test_uids, test_arrays, test_probas\n",
        "\n",
        "imagesForInference = imageList[0:10]\n",
        "                                    \n",
        "#uids, X, y_prob = predict(model, imagesForInference, IMSIZE)\n",
        "uids, X, y_prob = predict(model, testList, IMSIZE)\n",
        "# Predictions are made at the image level\n",
        "\n",
        "test_pred_df = pd.DataFrame({'uid': uids, 'X': X, 'y_prob': y_prob})"
      ],
      "execution_count": null,
      "outputs": []
    },
    {
      "cell_type": "code",
      "metadata": {
        "id": "Zm5AbqjR7jkT"
      },
      "source": [
        "test_pred_df"
      ],
      "execution_count": null,
      "outputs": []
    },
    {
      "cell_type": "code",
      "metadata": {
        "id": "bBC4dmQZSpL5"
      },
      "source": [
        "test_pred_df.apply(lambda row: row['y_prob'], axis=1)"
      ],
      "execution_count": null,
      "outputs": []
    },
    {
      "cell_type": "code",
      "metadata": {
        "id": "_YxwRaoySpL5"
      },
      "source": [
        "chest = np.stack(test_pred_df['y_prob'])[:,0][:,0]\n",
        "abd = np.stack(test_pred_df['y_prob'])[:,0][:,1]\n",
        "pelv = np.stack(test_pred_df['y_prob'])[:,0][:,2]"
      ],
      "execution_count": null,
      "outputs": []
    },
    {
      "cell_type": "markdown",
      "metadata": {
        "id": "dM_ozfPJSpL5"
      },
      "source": [
        "Below I'm testing on a completely random denovo/naive MGUH CT dataset"
      ]
    },
    {
      "cell_type": "code",
      "metadata": {
        "id": "m3OaAxZKSpL6",
        "scrolled": true
      },
      "source": [
        "#raw MGUH\n",
        "plt.plot(chest)\n",
        "plt.plot(abd)\n",
        "plt.plot(pelv)"
      ],
      "execution_count": null,
      "outputs": []
    },
    {
      "cell_type": "code",
      "metadata": {
        "id": "lYBLafTWSpL6",
        "scrolled": false
      },
      "source": [
        "#raw TCGA-MGUH\n",
        "fig, ax1 = plt.subplots(figsize=(15,10))\n",
        "ax1.set_xlabel(\"Slice Number\", fontsize=20)\n",
        "ax1.set_ylabel(\"Confidence\", fontsize=20)\n",
        "plt.xticks(fontsize=12)\n",
        "plt.yticks(fontsize=12)\n",
        "plt.plot(chest,linewidth=2,label=\"Chest\")\n",
        "plt.plot(abd,linewidth=2,label=\"Abdomen\")\n",
        "plt.plot(pelv,linewidth=2,label=\"Pelvis\")\n",
        "plt.legend(fontsize=16)"
      ],
      "execution_count": null,
      "outputs": []
    },
    {
      "cell_type": "code",
      "metadata": {
        "id": "sGZ5eP3tSpL6"
      },
      "source": [
        "numaveslices = 5\n",
        "avepreds = []\n",
        "allpreds = np.stack(test_pred_df['y_prob'])[:,0]\n",
        "for idx,arr in enumerate(allpreds):\n",
        "    low = int(max(0,idx-(numaveslices-1)/2))\n",
        "    high = int(min(len(allpreds),idx+(numaveslices+1)/2))\n",
        "    avepreds.append(np.mean(allpreds[low:high],axis=0))\n",
        "    \n",
        "chest = np.stack(avepreds)[:,0]\n",
        "abd = np.stack(avepreds)[:,1]\n",
        "pelv = np.stack(avepreds)[:,2]"
      ],
      "execution_count": null,
      "outputs": []
    },
    {
      "cell_type": "code",
      "metadata": {
        "id": "TN57-dxtSpL7",
        "scrolled": true
      },
      "source": [
        "#MGUH averaged over 5 slices\n",
        "plt.plot(chest)\n",
        "plt.plot(abd)\n",
        "plt.plot(pelv)"
      ],
      "execution_count": null,
      "outputs": []
    },
    {
      "cell_type": "code",
      "metadata": {
        "id": "vegakQB7SpL8",
        "scrolled": false
      },
      "source": [
        "#TCGA-MGUH averaged over 5 slices\n",
        "fig, ax1 = plt.subplots(figsize=(17,10))\n",
        "ax1.set_xlabel(\"Slice Number\", fontsize=20)\n",
        "ax1.set_ylabel(\"Confidence\", fontsize=20)\n",
        "plt.xticks([0,30,60,90,120,150,180,210],fontsize=12)\n",
        "plt.yticks(fontsize=12)\n",
        "ax1.axvline(30,color='gray',ymax=0.1)\n",
        "ax1.axvline(82,color='gray',ymax=0.1)\n",
        "ax1.axvline(120,color='gray',ymax=0.1)\n",
        "ax1.axvline(172,color='gray',ymax=0.1)\n",
        "ax1.axvline(195,color='gray',ymax=0.1)\n",
        "plt.plot(chest,linewidth=2,label=\"Chest\")\n",
        "plt.plot(abd,linewidth=2,label=\"Abdomen\")\n",
        "plt.plot(pelv,linewidth=2,label=\"Pelvis\")\n",
        "plt.legend(fontsize=16)"
      ],
      "execution_count": null,
      "outputs": []
    },
    {
      "cell_type": "code",
      "metadata": {
        "id": "TrnP8FVoSpL8"
      },
      "source": [
        "displayImages([testList[30],testList[82],testList[120],testList[172],testList[195]],[30,82,120,172,195])"
      ],
      "execution_count": null,
      "outputs": []
    },
    {
      "cell_type": "code",
      "metadata": {
        "id": "4KewbkChSpL9",
        "scrolled": true
      },
      "source": [
        "#MGUH averaged over 9 slices\n",
        "plt.plot(chest)\n",
        "plt.plot(abd)\n",
        "plt.plot(pelv)"
      ],
      "execution_count": null,
      "outputs": []
    },
    {
      "cell_type": "code",
      "metadata": {
        "id": "kkFQDSY7SpL9",
        "scrolled": true
      },
      "source": [
        "#TCGA-MGUH averaged over 9 slices\n",
        "plt.plot(chest)\n",
        "plt.plot(abd)\n",
        "plt.plot(pelv)"
      ],
      "execution_count": null,
      "outputs": []
    },
    {
      "cell_type": "code",
      "metadata": {
        "id": "coA58JFhSpL9"
      },
      "source": [
        "def displayImage(file):\n",
        "    dicom_file, uid = get_dicom_and_uid(file)\n",
        "    img = convert_dicom_to_8bit(dicom_file, WINDOW_WIDTH, WINDOW_LEVEL, clip=False)\n",
        "    plt.imshow(img[..., 0], cmap='gray'); plt.show()"
      ],
      "execution_count": null,
      "outputs": []
    },
    {
      "cell_type": "code",
      "metadata": {
        "id": "SxfWWnk_lnBl"
      },
      "source": [
        "displayImage(testList[0])"
      ],
      "execution_count": null,
      "outputs": []
    },
    {
      "cell_type": "code",
      "metadata": {
        "id": "iaOvJ0bGSpL-"
      },
      "source": [
        "def displayImages(imgs,labels):\n",
        "    numimgs = len(imgs)\n",
        "    plt.figure(figsize=(20,10))\n",
        "    for idx,img in enumerate(imgs):\n",
        "        dicom_file, uid = get_dicom_and_uid(img)\n",
        "        img = convert_dicom_to_8bit(dicom_file, WINDOW_WIDTH, WINDOW_LEVEL, clip=False)\n",
        "        plt.subplot(\"1%i%i\" % (numimgs,idx+1))\n",
        "        plt.imshow(img[...,0],cmap='gray')\n",
        "        plt.title(labels[idx])\n",
        "        plt.axis('off')"
      ],
      "execution_count": null,
      "outputs": []
    },
    {
      "cell_type": "code",
      "metadata": {
        "id": "HmC4a59WSpL-"
      },
      "source": [
        "#chest/abd border\n",
        "displayImages(testList[66:72])"
      ],
      "execution_count": null,
      "outputs": []
    },
    {
      "cell_type": "code",
      "metadata": {
        "id": "7pXJYM19SpL-"
      },
      "source": [
        "displayImages(testList[75:81])"
      ],
      "execution_count": null,
      "outputs": []
    },
    {
      "cell_type": "code",
      "metadata": {
        "id": "B3db7IsnSpMA"
      },
      "source": [
        "#abd/pelv\n",
        "displayImages(testList[132:138])"
      ],
      "execution_count": null,
      "outputs": []
    },
    {
      "cell_type": "code",
      "metadata": {
        "id": "z9y40Z1HSpMA"
      },
      "source": [
        ""
      ],
      "execution_count": null,
      "outputs": []
    }
  ]
}