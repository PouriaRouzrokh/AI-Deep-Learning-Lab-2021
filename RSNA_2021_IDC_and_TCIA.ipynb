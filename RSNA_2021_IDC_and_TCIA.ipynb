{
  "nbformat": 4,
  "nbformat_minor": 0,
  "metadata": {
    "colab": {
      "name": "RSNA 2021: TCIA and IDC",
      "provenance": [],
      "collapsed_sections": [],
      "authorship_tag": "ABX9TyNtqnGPiVB6kF0HFFzT58wQ",
      "include_colab_link": true
    },
    "kernelspec": {
      "name": "python3",
      "display_name": "Python 3"
    },
    "language_info": {
      "name": "python"
    },
    "accelerator": "GPU",
    "widgets": {
      "application/vnd.jupyter.widget-state+json": {
        "d8fe5ebaba524f4189deee399d84585d": {
          "model_module": "@jupyter-widgets/controls",
          "model_name": "VBoxModel",
          "model_module_version": "1.5.0",
          "state": {
            "_view_name": "VBoxView",
            "_dom_classes": [
              "widget-interact"
            ],
            "_model_name": "VBoxModel",
            "_view_module": "@jupyter-widgets/controls",
            "_model_module_version": "1.5.0",
            "_view_count": null,
            "_view_module_version": "1.5.0",
            "box_style": "",
            "layout": "IPY_MODEL_902fe2f3d1c046ed96c78f841bce9828",
            "_model_module": "@jupyter-widgets/controls",
            "children": [
              "IPY_MODEL_dc0f93365b4e4568b8b6a41ff20d85a4"
            ]
          }
        },
        "902fe2f3d1c046ed96c78f841bce9828": {
          "model_module": "@jupyter-widgets/base",
          "model_name": "LayoutModel",
          "model_module_version": "1.2.0",
          "state": {
            "_view_name": "LayoutView",
            "grid_template_rows": null,
            "right": null,
            "justify_content": null,
            "_view_module": "@jupyter-widgets/base",
            "overflow": null,
            "_model_module_version": "1.2.0",
            "_view_count": null,
            "flex_flow": null,
            "width": null,
            "min_width": null,
            "border": null,
            "align_items": null,
            "bottom": null,
            "_model_module": "@jupyter-widgets/base",
            "top": null,
            "grid_column": null,
            "overflow_y": null,
            "overflow_x": null,
            "grid_auto_flow": null,
            "grid_area": null,
            "grid_template_columns": null,
            "flex": null,
            "_model_name": "LayoutModel",
            "justify_items": null,
            "grid_row": null,
            "max_height": null,
            "align_content": null,
            "visibility": null,
            "align_self": null,
            "height": null,
            "min_height": null,
            "padding": null,
            "grid_auto_rows": null,
            "grid_gap": null,
            "max_width": null,
            "order": null,
            "_view_module_version": "1.2.0",
            "grid_template_areas": null,
            "object_position": null,
            "object_fit": null,
            "grid_auto_columns": null,
            "margin": null,
            "display": null,
            "left": null
          }
        },
        "dc0f93365b4e4568b8b6a41ff20d85a4": {
          "model_module": "@jupyter-widgets/output",
          "model_name": "OutputModel",
          "model_module_version": "1.0.0",
          "state": {
            "_view_name": "OutputView",
            "msg_id": "",
            "_dom_classes": [],
            "_model_name": "OutputModel",
            "outputs": [
              {
                "output_type": "display_data",
                "data": {
                  "application/vnd.jupyter.widget-view+json": {
                    "model_id": "b026571f64ab4886b3b929c10a02b814",
                    "version_minor": 0,
                    "version_major": 2
                  },
                  "text/plain": "interactive(children=(IntSlider(value=0, description='Axial slice:', max=110), Output()), _dom_classes=('widge…"
                },
                "metadata": {}
              }
            ],
            "_view_module": "@jupyter-widgets/output",
            "_model_module_version": "1.0.0",
            "_view_count": null,
            "_view_module_version": "1.0.0",
            "layout": "IPY_MODEL_6e8328554a9e49a19967c2e7bd2f2f54",
            "_model_module": "@jupyter-widgets/output"
          }
        },
        "b026571f64ab4886b3b929c10a02b814": {
          "model_module": "@jupyter-widgets/controls",
          "model_name": "VBoxModel",
          "model_module_version": "1.5.0",
          "state": {
            "_view_name": "VBoxView",
            "_dom_classes": [
              "widget-interact"
            ],
            "_model_name": "VBoxModel",
            "_view_module": "@jupyter-widgets/controls",
            "_model_module_version": "1.5.0",
            "_view_count": null,
            "_view_module_version": "1.5.0",
            "box_style": "",
            "layout": "IPY_MODEL_27f14ca5440341cd9a50aeb1226dd345",
            "_model_module": "@jupyter-widgets/controls",
            "children": [
              "IPY_MODEL_3f13fae7690c4e3986a3dbbf2c5d11e1",
              "IPY_MODEL_68226e3dc0f54a9e8fb7f91aa7c1cc34"
            ]
          }
        },
        "6e8328554a9e49a19967c2e7bd2f2f54": {
          "model_module": "@jupyter-widgets/base",
          "model_name": "LayoutModel",
          "model_module_version": "1.2.0",
          "state": {
            "_view_name": "LayoutView",
            "grid_template_rows": null,
            "right": null,
            "justify_content": null,
            "_view_module": "@jupyter-widgets/base",
            "overflow": null,
            "_model_module_version": "1.2.0",
            "_view_count": null,
            "flex_flow": null,
            "width": null,
            "min_width": null,
            "border": null,
            "align_items": null,
            "bottom": null,
            "_model_module": "@jupyter-widgets/base",
            "top": null,
            "grid_column": null,
            "overflow_y": null,
            "overflow_x": null,
            "grid_auto_flow": null,
            "grid_area": null,
            "grid_template_columns": null,
            "flex": null,
            "_model_name": "LayoutModel",
            "justify_items": null,
            "grid_row": null,
            "max_height": null,
            "align_content": null,
            "visibility": null,
            "align_self": null,
            "height": null,
            "min_height": null,
            "padding": null,
            "grid_auto_rows": null,
            "grid_gap": null,
            "max_width": null,
            "order": null,
            "_view_module_version": "1.2.0",
            "grid_template_areas": null,
            "object_position": null,
            "object_fit": null,
            "grid_auto_columns": null,
            "margin": null,
            "display": null,
            "left": null
          }
        },
        "27f14ca5440341cd9a50aeb1226dd345": {
          "model_module": "@jupyter-widgets/base",
          "model_name": "LayoutModel",
          "model_module_version": "1.2.0",
          "state": {
            "_view_name": "LayoutView",
            "grid_template_rows": null,
            "right": null,
            "justify_content": null,
            "_view_module": "@jupyter-widgets/base",
            "overflow": null,
            "_model_module_version": "1.2.0",
            "_view_count": null,
            "flex_flow": null,
            "width": null,
            "min_width": null,
            "border": null,
            "align_items": null,
            "bottom": null,
            "_model_module": "@jupyter-widgets/base",
            "top": null,
            "grid_column": null,
            "overflow_y": null,
            "overflow_x": null,
            "grid_auto_flow": null,
            "grid_area": null,
            "grid_template_columns": null,
            "flex": null,
            "_model_name": "LayoutModel",
            "justify_items": null,
            "grid_row": null,
            "max_height": null,
            "align_content": null,
            "visibility": null,
            "align_self": null,
            "height": null,
            "min_height": null,
            "padding": null,
            "grid_auto_rows": null,
            "grid_gap": null,
            "max_width": null,
            "order": null,
            "_view_module_version": "1.2.0",
            "grid_template_areas": null,
            "object_position": null,
            "object_fit": null,
            "grid_auto_columns": null,
            "margin": null,
            "display": null,
            "left": null
          }
        },
        "3f13fae7690c4e3986a3dbbf2c5d11e1": {
          "model_module": "@jupyter-widgets/controls",
          "model_name": "IntSliderModel",
          "model_module_version": "1.5.0",
          "state": {
            "_view_name": "IntSliderView",
            "style": "IPY_MODEL_0aaa7ff2055a41d6af61c5047b7446cc",
            "_dom_classes": [],
            "description": "Axial slice:",
            "step": 1,
            "_model_name": "IntSliderModel",
            "orientation": "horizontal",
            "max": 110,
            "_view_module": "@jupyter-widgets/controls",
            "_model_module_version": "1.5.0",
            "value": 17,
            "_view_count": null,
            "disabled": false,
            "_view_module_version": "1.5.0",
            "min": 0,
            "continuous_update": true,
            "readout_format": "d",
            "description_tooltip": null,
            "readout": true,
            "_model_module": "@jupyter-widgets/controls",
            "layout": "IPY_MODEL_4ab4135d2c614af4b9a75a3aaf54efe7"
          }
        },
        "68226e3dc0f54a9e8fb7f91aa7c1cc34": {
          "model_module": "@jupyter-widgets/output",
          "model_name": "OutputModel",
          "model_module_version": "1.0.0",
          "state": {
            "_view_name": "OutputView",
            "msg_id": "",
            "_dom_classes": [],
            "_model_name": "OutputModel",
            "outputs": [
              {
                "output_type": "display_data",
                "data": {
                  "image/png": "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\n",
                  "text/plain": "<Figure size 1200x1200 with 2 Axes>"
                },
                "metadata": {
                  "needs_background": "light"
                }
              }
            ],
            "_view_module": "@jupyter-widgets/output",
            "_model_module_version": "1.0.0",
            "_view_count": null,
            "_view_module_version": "1.0.0",
            "layout": "IPY_MODEL_0b2e583b98724142a3ef98715d56df54",
            "_model_module": "@jupyter-widgets/output"
          }
        },
        "0aaa7ff2055a41d6af61c5047b7446cc": {
          "model_module": "@jupyter-widgets/controls",
          "model_name": "SliderStyleModel",
          "model_module_version": "1.5.0",
          "state": {
            "_view_name": "StyleView",
            "handle_color": null,
            "_model_name": "SliderStyleModel",
            "description_width": "",
            "_view_module": "@jupyter-widgets/base",
            "_model_module_version": "1.5.0",
            "_view_count": null,
            "_view_module_version": "1.2.0",
            "_model_module": "@jupyter-widgets/controls"
          }
        },
        "4ab4135d2c614af4b9a75a3aaf54efe7": {
          "model_module": "@jupyter-widgets/base",
          "model_name": "LayoutModel",
          "model_module_version": "1.2.0",
          "state": {
            "_view_name": "LayoutView",
            "grid_template_rows": null,
            "right": null,
            "justify_content": null,
            "_view_module": "@jupyter-widgets/base",
            "overflow": null,
            "_model_module_version": "1.2.0",
            "_view_count": null,
            "flex_flow": null,
            "width": null,
            "min_width": null,
            "border": null,
            "align_items": null,
            "bottom": null,
            "_model_module": "@jupyter-widgets/base",
            "top": null,
            "grid_column": null,
            "overflow_y": null,
            "overflow_x": null,
            "grid_auto_flow": null,
            "grid_area": null,
            "grid_template_columns": null,
            "flex": null,
            "_model_name": "LayoutModel",
            "justify_items": null,
            "grid_row": null,
            "max_height": null,
            "align_content": null,
            "visibility": null,
            "align_self": null,
            "height": null,
            "min_height": null,
            "padding": null,
            "grid_auto_rows": null,
            "grid_gap": null,
            "max_width": null,
            "order": null,
            "_view_module_version": "1.2.0",
            "grid_template_areas": null,
            "object_position": null,
            "object_fit": null,
            "grid_auto_columns": null,
            "margin": null,
            "display": null,
            "left": null
          }
        },
        "0b2e583b98724142a3ef98715d56df54": {
          "model_module": "@jupyter-widgets/base",
          "model_name": "LayoutModel",
          "model_module_version": "1.2.0",
          "state": {
            "_view_name": "LayoutView",
            "grid_template_rows": null,
            "right": null,
            "justify_content": null,
            "_view_module": "@jupyter-widgets/base",
            "overflow": null,
            "_model_module_version": "1.2.0",
            "_view_count": null,
            "flex_flow": null,
            "width": null,
            "min_width": null,
            "border": null,
            "align_items": null,
            "bottom": null,
            "_model_module": "@jupyter-widgets/base",
            "top": null,
            "grid_column": null,
            "overflow_y": null,
            "overflow_x": null,
            "grid_auto_flow": null,
            "grid_area": null,
            "grid_template_columns": null,
            "flex": null,
            "_model_name": "LayoutModel",
            "justify_items": null,
            "grid_row": null,
            "max_height": null,
            "align_content": null,
            "visibility": null,
            "align_self": null,
            "height": null,
            "min_height": null,
            "padding": null,
            "grid_auto_rows": null,
            "grid_gap": null,
            "max_width": null,
            "order": null,
            "_view_module_version": "1.2.0",
            "grid_template_areas": null,
            "object_position": null,
            "object_fit": null,
            "grid_auto_columns": null,
            "margin": null,
            "display": null,
            "left": null
          }
        },
        "577ebea178e545c8be0f29624aa7cfd0": {
          "model_module": "@jupyter-widgets/controls",
          "model_name": "VBoxModel",
          "model_module_version": "1.5.0",
          "state": {
            "_view_name": "VBoxView",
            "_dom_classes": [
              "widget-interact"
            ],
            "_model_name": "VBoxModel",
            "_view_module": "@jupyter-widgets/controls",
            "_model_module_version": "1.5.0",
            "_view_count": null,
            "_view_module_version": "1.5.0",
            "box_style": "",
            "layout": "IPY_MODEL_5fc36a6ad7214f818da794ec38fdbf86",
            "_model_module": "@jupyter-widgets/controls",
            "children": [
              "IPY_MODEL_9b88d5044d9b4402ae747f766f9b5c20"
            ]
          }
        },
        "5fc36a6ad7214f818da794ec38fdbf86": {
          "model_module": "@jupyter-widgets/base",
          "model_name": "LayoutModel",
          "model_module_version": "1.2.0",
          "state": {
            "_view_name": "LayoutView",
            "grid_template_rows": null,
            "right": null,
            "justify_content": null,
            "_view_module": "@jupyter-widgets/base",
            "overflow": null,
            "_model_module_version": "1.2.0",
            "_view_count": null,
            "flex_flow": null,
            "width": null,
            "min_width": null,
            "border": null,
            "align_items": null,
            "bottom": null,
            "_model_module": "@jupyter-widgets/base",
            "top": null,
            "grid_column": null,
            "overflow_y": null,
            "overflow_x": null,
            "grid_auto_flow": null,
            "grid_area": null,
            "grid_template_columns": null,
            "flex": null,
            "_model_name": "LayoutModel",
            "justify_items": null,
            "grid_row": null,
            "max_height": null,
            "align_content": null,
            "visibility": null,
            "align_self": null,
            "height": null,
            "min_height": null,
            "padding": null,
            "grid_auto_rows": null,
            "grid_gap": null,
            "max_width": null,
            "order": null,
            "_view_module_version": "1.2.0",
            "grid_template_areas": null,
            "object_position": null,
            "object_fit": null,
            "grid_auto_columns": null,
            "margin": null,
            "display": null,
            "left": null
          }
        },
        "9b88d5044d9b4402ae747f766f9b5c20": {
          "model_module": "@jupyter-widgets/output",
          "model_name": "OutputModel",
          "model_module_version": "1.0.0",
          "state": {
            "_view_name": "OutputView",
            "msg_id": "",
            "_dom_classes": [],
            "_model_name": "OutputModel",
            "outputs": [
              {
                "output_type": "display_data",
                "data": {
                  "application/vnd.jupyter.widget-view+json": {
                    "model_id": "cfd6bce01ca247b2a85566bddf793ebe",
                    "version_minor": 0,
                    "version_major": 2
                  },
                  "text/plain": "interactive(children=(IntSlider(value=0, description='Axial slice:', max=110), Output()), _dom_classes=('widge…"
                },
                "metadata": {}
              }
            ],
            "_view_module": "@jupyter-widgets/output",
            "_model_module_version": "1.0.0",
            "_view_count": null,
            "_view_module_version": "1.0.0",
            "layout": "IPY_MODEL_3095a84453814fb9975c4477e342a0b9",
            "_model_module": "@jupyter-widgets/output"
          }
        },
        "cfd6bce01ca247b2a85566bddf793ebe": {
          "model_module": "@jupyter-widgets/controls",
          "model_name": "VBoxModel",
          "model_module_version": "1.5.0",
          "state": {
            "_view_name": "VBoxView",
            "_dom_classes": [
              "widget-interact"
            ],
            "_model_name": "VBoxModel",
            "_view_module": "@jupyter-widgets/controls",
            "_model_module_version": "1.5.0",
            "_view_count": null,
            "_view_module_version": "1.5.0",
            "box_style": "",
            "layout": "IPY_MODEL_40f4b838c9f8401d86fa7db429870bf3",
            "_model_module": "@jupyter-widgets/controls",
            "children": [
              "IPY_MODEL_74f20225d20b43af9d790fceaa03ccbf",
              "IPY_MODEL_89b06ed3f7fa49eca23941fcc23b1c2b"
            ]
          }
        },
        "3095a84453814fb9975c4477e342a0b9": {
          "model_module": "@jupyter-widgets/base",
          "model_name": "LayoutModel",
          "model_module_version": "1.2.0",
          "state": {
            "_view_name": "LayoutView",
            "grid_template_rows": null,
            "right": null,
            "justify_content": null,
            "_view_module": "@jupyter-widgets/base",
            "overflow": null,
            "_model_module_version": "1.2.0",
            "_view_count": null,
            "flex_flow": null,
            "width": null,
            "min_width": null,
            "border": null,
            "align_items": null,
            "bottom": null,
            "_model_module": "@jupyter-widgets/base",
            "top": null,
            "grid_column": null,
            "overflow_y": null,
            "overflow_x": null,
            "grid_auto_flow": null,
            "grid_area": null,
            "grid_template_columns": null,
            "flex": null,
            "_model_name": "LayoutModel",
            "justify_items": null,
            "grid_row": null,
            "max_height": null,
            "align_content": null,
            "visibility": null,
            "align_self": null,
            "height": null,
            "min_height": null,
            "padding": null,
            "grid_auto_rows": null,
            "grid_gap": null,
            "max_width": null,
            "order": null,
            "_view_module_version": "1.2.0",
            "grid_template_areas": null,
            "object_position": null,
            "object_fit": null,
            "grid_auto_columns": null,
            "margin": null,
            "display": null,
            "left": null
          }
        },
        "40f4b838c9f8401d86fa7db429870bf3": {
          "model_module": "@jupyter-widgets/base",
          "model_name": "LayoutModel",
          "model_module_version": "1.2.0",
          "state": {
            "_view_name": "LayoutView",
            "grid_template_rows": null,
            "right": null,
            "justify_content": null,
            "_view_module": "@jupyter-widgets/base",
            "overflow": null,
            "_model_module_version": "1.2.0",
            "_view_count": null,
            "flex_flow": null,
            "width": null,
            "min_width": null,
            "border": null,
            "align_items": null,
            "bottom": null,
            "_model_module": "@jupyter-widgets/base",
            "top": null,
            "grid_column": null,
            "overflow_y": null,
            "overflow_x": null,
            "grid_auto_flow": null,
            "grid_area": null,
            "grid_template_columns": null,
            "flex": null,
            "_model_name": "LayoutModel",
            "justify_items": null,
            "grid_row": null,
            "max_height": null,
            "align_content": null,
            "visibility": null,
            "align_self": null,
            "height": null,
            "min_height": null,
            "padding": null,
            "grid_auto_rows": null,
            "grid_gap": null,
            "max_width": null,
            "order": null,
            "_view_module_version": "1.2.0",
            "grid_template_areas": null,
            "object_position": null,
            "object_fit": null,
            "grid_auto_columns": null,
            "margin": null,
            "display": null,
            "left": null
          }
        },
        "74f20225d20b43af9d790fceaa03ccbf": {
          "model_module": "@jupyter-widgets/controls",
          "model_name": "IntSliderModel",
          "model_module_version": "1.5.0",
          "state": {
            "_view_name": "IntSliderView",
            "style": "IPY_MODEL_1707ce2868d64da696b8c6e2c9758899",
            "_dom_classes": [],
            "description": "Axial slice:",
            "step": 1,
            "_model_name": "IntSliderModel",
            "orientation": "horizontal",
            "max": 110,
            "_view_module": "@jupyter-widgets/controls",
            "_model_module_version": "1.5.0",
            "value": 35,
            "_view_count": null,
            "disabled": false,
            "_view_module_version": "1.5.0",
            "min": 0,
            "continuous_update": true,
            "readout_format": "d",
            "description_tooltip": null,
            "readout": true,
            "_model_module": "@jupyter-widgets/controls",
            "layout": "IPY_MODEL_ac16b8dfb9b14108bd916c06fe31e9e3"
          }
        },
        "89b06ed3f7fa49eca23941fcc23b1c2b": {
          "model_module": "@jupyter-widgets/output",
          "model_name": "OutputModel",
          "model_module_version": "1.0.0",
          "state": {
            "_view_name": "OutputView",
            "msg_id": "",
            "_dom_classes": [],
            "_model_name": "OutputModel",
            "outputs": [
              {
                "output_type": "display_data",
                "data": {
                  "image/png": "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\n",
                  "text/plain": "<Figure size 800x800 with 1 Axes>"
                },
                "metadata": {
                  "needs_background": "light"
                }
              }
            ],
            "_view_module": "@jupyter-widgets/output",
            "_model_module_version": "1.0.0",
            "_view_count": null,
            "_view_module_version": "1.0.0",
            "layout": "IPY_MODEL_3394593d2b604ebaac3fba962038a2c4",
            "_model_module": "@jupyter-widgets/output"
          }
        },
        "1707ce2868d64da696b8c6e2c9758899": {
          "model_module": "@jupyter-widgets/controls",
          "model_name": "SliderStyleModel",
          "model_module_version": "1.5.0",
          "state": {
            "_view_name": "StyleView",
            "handle_color": null,
            "_model_name": "SliderStyleModel",
            "description_width": "",
            "_view_module": "@jupyter-widgets/base",
            "_model_module_version": "1.5.0",
            "_view_count": null,
            "_view_module_version": "1.2.0",
            "_model_module": "@jupyter-widgets/controls"
          }
        },
        "ac16b8dfb9b14108bd916c06fe31e9e3": {
          "model_module": "@jupyter-widgets/base",
          "model_name": "LayoutModel",
          "model_module_version": "1.2.0",
          "state": {
            "_view_name": "LayoutView",
            "grid_template_rows": null,
            "right": null,
            "justify_content": null,
            "_view_module": "@jupyter-widgets/base",
            "overflow": null,
            "_model_module_version": "1.2.0",
            "_view_count": null,
            "flex_flow": null,
            "width": null,
            "min_width": null,
            "border": null,
            "align_items": null,
            "bottom": null,
            "_model_module": "@jupyter-widgets/base",
            "top": null,
            "grid_column": null,
            "overflow_y": null,
            "overflow_x": null,
            "grid_auto_flow": null,
            "grid_area": null,
            "grid_template_columns": null,
            "flex": null,
            "_model_name": "LayoutModel",
            "justify_items": null,
            "grid_row": null,
            "max_height": null,
            "align_content": null,
            "visibility": null,
            "align_self": null,
            "height": null,
            "min_height": null,
            "padding": null,
            "grid_auto_rows": null,
            "grid_gap": null,
            "max_width": null,
            "order": null,
            "_view_module_version": "1.2.0",
            "grid_template_areas": null,
            "object_position": null,
            "object_fit": null,
            "grid_auto_columns": null,
            "margin": null,
            "display": null,
            "left": null
          }
        },
        "3394593d2b604ebaac3fba962038a2c4": {
          "model_module": "@jupyter-widgets/base",
          "model_name": "LayoutModel",
          "model_module_version": "1.2.0",
          "state": {
            "_view_name": "LayoutView",
            "grid_template_rows": null,
            "right": null,
            "justify_content": null,
            "_view_module": "@jupyter-widgets/base",
            "overflow": null,
            "_model_module_version": "1.2.0",
            "_view_count": null,
            "flex_flow": null,
            "width": null,
            "min_width": null,
            "border": null,
            "align_items": null,
            "bottom": null,
            "_model_module": "@jupyter-widgets/base",
            "top": null,
            "grid_column": null,
            "overflow_y": null,
            "overflow_x": null,
            "grid_auto_flow": null,
            "grid_area": null,
            "grid_template_columns": null,
            "flex": null,
            "_model_name": "LayoutModel",
            "justify_items": null,
            "grid_row": null,
            "max_height": null,
            "align_content": null,
            "visibility": null,
            "align_self": null,
            "height": null,
            "min_height": null,
            "padding": null,
            "grid_auto_rows": null,
            "grid_gap": null,
            "max_width": null,
            "order": null,
            "_view_module_version": "1.2.0",
            "grid_template_areas": null,
            "object_position": null,
            "object_fit": null,
            "grid_auto_columns": null,
            "margin": null,
            "display": null,
            "left": null
          }
        }
      }
    }
  },
  "cells": [
    {
      "cell_type": "markdown",
      "metadata": {
        "id": "view-in-github",
        "colab_type": "text"
      },
      "source": [
        "<a href=\"https://colab.research.google.com/github/fedorov/AI-Deep-Learning-Lab-2021/blob/idc-tcia/RSNA_2021_IDC_and_TCIA.ipynb\" target=\"_parent\"><img src=\"https://colab.research.google.com/assets/colab-badge.svg\" alt=\"Open In Colab\"/></a>"
      ]
    },
    {
      "cell_type": "markdown",
      "metadata": {
        "id": "gy9vfOYmSgiz"
      },
      "source": [
        "# RSNA 2021: Working with public datasets: TCIA and IDC\n",
        "\n",
        "The goal of this session is to introduce you to the two data repositories supported by the US National Cancer Institute:\n",
        "\n",
        "* The Cancer Imaging Archive (TCIA)\n",
        "* Imaging Data Commons (IDC), which is the imaging repository within NCI Cancer Research Data Commons (CRDC)\n",
        "\n",
        "**Learning Objectives:**\n",
        "1. Understand basic capabilities of TCIA and IDC, and the differences between the two repositories.\n",
        "2. Explore relevant functionality of TCIA and IDC to support data exploration, cohort definition, and retrieval of the data.\n",
        "3. Learn how to analyze the data retrieved from TCIA/IDC on an example of a lung nodule segmentation task.\n",
        "\n",
        "This notebook will guide you thought the complete process of identifying a relevant dataset, retrieving it, preparing it for processing by the specific analysis tool, installing the tool and applying it to the dataset, and visualizing the segmentation results produced by the tool.\n",
        "\n",
        "Note that it is not the purpose of this tutorial to promote a specific tool, or assess its robustness. \n",
        "\n",
        "We aim to provide an example of how a tool can be used for analyzing a sample dataset from TCIA/IDC. We hope that after completing this tutorial you will be empowered and motivated to experiment with more tools and apply them to more datasets in TCIA/IDC!\n",
        "\n",
        "**Session Authors**\n",
        "\n",
        "* Andrey Fedorov\n",
        "* Justin Kirby\n",
        "* Dennis Bontempi"
      ]
    },
    {
      "cell_type": "markdown",
      "metadata": {
        "id": "fY1nlTbvZg2b"
      },
      "source": [
        "## Outline\n",
        "\n",
        "1. Overview of the capabilities of the repositories\n",
        "2. Installation of prerequisites\n",
        "3. Lung nodule segmentation\n",
        "4. Selection and download data from TCIA or IDC\n",
        "4. Preprocessing of the data\n",
        "5. Segmentation using nn-Unet\n",
        "6. Preparation for the visualization of the results\n",
        "6. Visualization of segmentation results\n",
        "7. Exercises, next steps, getting help, references\n",
        "\n",
        "TODO:\n",
        "* cross link TCIA, IDC, nn-Unet...\n",
        "* add references to publications\n",
        "\n"
      ]
    },
    {
      "cell_type": "markdown",
      "metadata": {
        "id": "wMDzWEcX90lX"
      },
      "source": [
        "## Prerequisites\n",
        "\n",
        "Make sure your Colab instance has a GPU! For this check \"Runtime > Change runtime type\" and make sure to choose the GPU runtime.\n",
        "\n",
        "* google account\n",
        "* Google cloud project with configured billing"
      ]
    },
    {
      "cell_type": "markdown",
      "metadata": {
        "id": "ySyKkGA4b0R6"
      },
      "source": [
        "## The Cancer Imaging Archive (TCIA)\n"
      ]
    },
    {
      "cell_type": "markdown",
      "metadata": {
        "id": "FdJhtWIAcOj5"
      },
      "source": [
        "\n",
        "## Imaging Data Commons (IDC)"
      ]
    },
    {
      "cell_type": "markdown",
      "metadata": {
        "id": "VmShpMwpcW4W"
      },
      "source": [
        "## Lung nodule segmentation\n",
        "\n",
        "For the sake of the example, we will focus on the problem of segmenting lung nodules, since there are numerous public collections that have data suitable for exploring this task, as well as various tools available. Notably, there are imaging collections that include manual segmentations of the nodules, which can be used to assess accuracy of automated analysis."
      ]
    },
    {
      "cell_type": "markdown",
      "metadata": {
        "id": "Duil1tviGWaG"
      },
      "source": [
        "## Data selection\n",
        "\n",
        "The model is trained to segment organs in chest CT. Let's identify some datasets that are suitable for using with this model."
      ]
    },
    {
      "cell_type": "markdown",
      "metadata": {
        "id": "azGjFr-qG0us"
      },
      "source": [
        "### Selection and download of data from IDC\n",
        "\n",
        "We will utilize IDC BigQuery SQL search interface to get the list of instances for the specific case we will use in the tutorial. \n",
        "\n",
        "You can also use portal, and we will have other examples of querying the data towards the end (Andrey TBD)."
      ]
    },
    {
      "cell_type": "code",
      "metadata": {
        "id": "ZDHCwK-TG4n2"
      },
      "source": [
        "# TODO: need to discuss cloud prerequisites and project\n",
        "from google.colab import auth\n",
        "auth.authenticate_user()"
      ],
      "execution_count": 1,
      "outputs": []
    },
    {
      "cell_type": "code",
      "metadata": {
        "id": "-dhXZF07n8Le"
      },
      "source": [
        "global my_PatientID = \"LUNG1-002\"\n",
        "global my_CollectionID = \"NSCLC-Radiomics\""
      ],
      "execution_count": null,
      "outputs": []
    },
    {
      "cell_type": "code",
      "metadata": {
        "id": "ZOAQXiqNhVqR"
      },
      "source": [
        "### %%bigquery --project=idc-tcia  --params={\"patient_id\":\"LUNG1-002\",\"collection_id\":\"NSCLC-Radiomics\"} case002_df \n"
      ],
      "execution_count": null,
      "outputs": []
    },
    {
      "cell_type": "markdown",
      "metadata": {
        "id": "FEWsk41Mnw35"
      },
      "source": [
        "TODO: replace the below with BQ python client to simplify parameterization"
      ]
    },
    {
      "cell_type": "code",
      "metadata": {
        "id": "v8ZNHX_2Gw8O"
      },
      "source": [
        "%%bigquery --project=idc-tcia  --params={\"patient_id\":\"100014\",\"collection_id\":\"NLST\"} case002_df \n",
        "\n",
        "WITH\n",
        "  idc_manifest AS (\n",
        "  SELECT\n",
        "    PatientID,\n",
        "    StudyInstanceUID,\n",
        "    SeriesInstanceUID,\n",
        "    SOPInstanceUID,\n",
        "    Modality,\n",
        "    SeriesDescription,\n",
        "    gcs_url,\n",
        "    collection_id as idc_collection_id\n",
        "  FROM\n",
        "    `canceridc-data.idc_current.dicom_all`\n",
        "  WHERE\n",
        "    PatientID = @patient_id\n",
        ")\n",
        "SELECT\n",
        "  idc_manifest.*,\n",
        "  # this is necessary since collection IDs used internally by IDC and TCIA are a bit different,\n",
        "  # so we need to get the TCIA collection ID that will be recognized by TCIA API\n",
        "  aux_table.tcia_api_collection_id\n",
        "FROM\n",
        "  idc_manifest\n",
        "JOIN\n",
        "  `canceridc-data.idc_current.auxiliary_metadata` AS aux_table\n",
        "ON\n",
        "  idc_manifest.SOPInstanceUID = aux_table.SOPInstanceUID\n",
        "WHERE \n",
        "    # PatientID is unique and parameterization by collection_id is not really necessary,\n",
        "    # but we use it here for consistency with the query we use with NBIA API, which does\n",
        "    # require collection ID to be specified\n",
        "    aux_table.tcia_api_collection_id = @collection_id\n"
      ],
      "execution_count": 62,
      "outputs": []
    },
    {
      "cell_type": "code",
      "metadata": {
        "colab": {
          "base_uri": "https://localhost:8080/",
          "height": 1000
        },
        "id": "0yrVZazpHvsX",
        "outputId": "6d9d409f-a0a0-49b7-d29a-00831a955b19"
      },
      "source": [
        "case002_df"
      ],
      "execution_count": 63,
      "outputs": [
        {
          "output_type": "execute_result",
          "data": {
            "text/html": [
              "<div>\n",
              "<style scoped>\n",
              "    .dataframe tbody tr th:only-of-type {\n",
              "        vertical-align: middle;\n",
              "    }\n",
              "\n",
              "    .dataframe tbody tr th {\n",
              "        vertical-align: top;\n",
              "    }\n",
              "\n",
              "    .dataframe thead th {\n",
              "        text-align: right;\n",
              "    }\n",
              "</style>\n",
              "<table border=\"1\" class=\"dataframe\">\n",
              "  <thead>\n",
              "    <tr style=\"text-align: right;\">\n",
              "      <th></th>\n",
              "      <th>PatientID</th>\n",
              "      <th>StudyInstanceUID</th>\n",
              "      <th>SeriesInstanceUID</th>\n",
              "      <th>SOPInstanceUID</th>\n",
              "      <th>Modality</th>\n",
              "      <th>SeriesDescription</th>\n",
              "      <th>gcs_url</th>\n",
              "      <th>idc_collection_id</th>\n",
              "      <th>tcia_api_collection_id</th>\n",
              "    </tr>\n",
              "  </thead>\n",
              "  <tbody>\n",
              "    <tr>\n",
              "      <th>0</th>\n",
              "      <td>100014</td>\n",
              "      <td>1.2.840.113654.2.55.24837621142213487608020073...</td>\n",
              "      <td>1.2.840.113654.2.55.11312260835561211814968851...</td>\n",
              "      <td>1.2.840.113654.2.55.22165131652241387214537793...</td>\n",
              "      <td>CT</td>\n",
              "      <td>1,OPA,SE,SEN16,B30f,314,2,120,40,32,na</td>\n",
              "      <td>gs://idc-open/aeaf1172-4740-4ecb-93f8-9137e02c...</td>\n",
              "      <td>nlst</td>\n",
              "      <td>NLST</td>\n",
              "    </tr>\n",
              "    <tr>\n",
              "      <th>1</th>\n",
              "      <td>100014</td>\n",
              "      <td>1.2.840.113654.2.55.24837621142213487608020073...</td>\n",
              "      <td>1.2.840.113654.2.55.11312260835561211814968851...</td>\n",
              "      <td>1.2.840.113654.2.55.25966844408640269564956948...</td>\n",
              "      <td>CT</td>\n",
              "      <td>1,OPA,SE,SEN16,B30f,314,2,120,40,32,na</td>\n",
              "      <td>gs://idc-open/40056330-6cd2-4c47-ab73-0390e63f...</td>\n",
              "      <td>nlst</td>\n",
              "      <td>NLST</td>\n",
              "    </tr>\n",
              "    <tr>\n",
              "      <th>2</th>\n",
              "      <td>100014</td>\n",
              "      <td>1.2.840.113654.2.55.24837621142213487608020073...</td>\n",
              "      <td>1.2.840.113654.2.55.11312260835561211814968851...</td>\n",
              "      <td>1.2.840.113654.2.55.28931453271474684717696986...</td>\n",
              "      <td>CT</td>\n",
              "      <td>1,OPA,SE,SEN16,B30f,314,2,120,40,32,na</td>\n",
              "      <td>gs://idc-open/1f2784f9-592a-420d-90b6-815f2c8e...</td>\n",
              "      <td>nlst</td>\n",
              "      <td>NLST</td>\n",
              "    </tr>\n",
              "    <tr>\n",
              "      <th>3</th>\n",
              "      <td>100014</td>\n",
              "      <td>1.2.840.113654.2.55.24837621142213487608020073...</td>\n",
              "      <td>1.2.840.113654.2.55.11312260835561211814968851...</td>\n",
              "      <td>1.2.840.113654.2.55.24024226320090963106361964...</td>\n",
              "      <td>CT</td>\n",
              "      <td>1,OPA,SE,SEN16,B30f,314,2,120,40,32,na</td>\n",
              "      <td>gs://idc-open/d90a133f-5761-4844-948c-4665f016...</td>\n",
              "      <td>nlst</td>\n",
              "      <td>NLST</td>\n",
              "    </tr>\n",
              "    <tr>\n",
              "      <th>4</th>\n",
              "      <td>100014</td>\n",
              "      <td>1.2.840.113654.2.55.24837621142213487608020073...</td>\n",
              "      <td>1.2.840.113654.2.55.11312260835561211814968851...</td>\n",
              "      <td>1.2.840.113654.2.55.19956863316011512678250117...</td>\n",
              "      <td>CT</td>\n",
              "      <td>1,OPA,SE,SEN16,B30f,314,2,120,40,32,na</td>\n",
              "      <td>gs://idc-open/d1da7759-187d-44a3-80bd-5e9bde4b...</td>\n",
              "      <td>nlst</td>\n",
              "      <td>NLST</td>\n",
              "    </tr>\n",
              "    <tr>\n",
              "      <th>...</th>\n",
              "      <td>...</td>\n",
              "      <td>...</td>\n",
              "      <td>...</td>\n",
              "      <td>...</td>\n",
              "      <td>...</td>\n",
              "      <td>...</td>\n",
              "      <td>...</td>\n",
              "      <td>...</td>\n",
              "      <td>...</td>\n",
              "    </tr>\n",
              "    <tr>\n",
              "      <th>460</th>\n",
              "      <td>100014</td>\n",
              "      <td>1.2.840.113654.2.55.24837621142213487608020073...</td>\n",
              "      <td>1.2.840.113654.2.55.11312260835561211814968851...</td>\n",
              "      <td>1.2.840.113654.2.55.30269068226283240818007390...</td>\n",
              "      <td>CT</td>\n",
              "      <td>1,OPA,SE,SEN16,B30f,314,2,120,40,32,na</td>\n",
              "      <td>gs://idc-open/a3c7180a-9ba2-421b-a1c1-f67f42fa...</td>\n",
              "      <td>nlst</td>\n",
              "      <td>NLST</td>\n",
              "    </tr>\n",
              "    <tr>\n",
              "      <th>461</th>\n",
              "      <td>100014</td>\n",
              "      <td>1.2.840.113654.2.55.32681317118862120019139812...</td>\n",
              "      <td>1.2.840.113654.2.55.24212552127631641689348892...</td>\n",
              "      <td>1.2.840.113654.2.55.32357059180709804019649200...</td>\n",
              "      <td>CT</td>\n",
              "      <td>2,OPA,SE,SEN16,B30f,297,2,120,40,32,na</td>\n",
              "      <td>gs://idc-open/bc77b19d-53d5-40fa-b69e-90c577fd...</td>\n",
              "      <td>nlst</td>\n",
              "      <td>NLST</td>\n",
              "    </tr>\n",
              "    <tr>\n",
              "      <th>462</th>\n",
              "      <td>100014</td>\n",
              "      <td>1.2.840.113654.2.55.23011183264553864936438136...</td>\n",
              "      <td>1.2.840.113654.2.55.10598059449409563834581839...</td>\n",
              "      <td>1.2.840.113654.2.55.44423699335405841753134292...</td>\n",
              "      <td>CT</td>\n",
              "      <td>0,OPA,SE,SEN16,B30f,280,2,120,40,32,na</td>\n",
              "      <td>gs://idc-open/c7a445c7-8155-4b4e-9af1-2d0e1b8b...</td>\n",
              "      <td>nlst</td>\n",
              "      <td>NLST</td>\n",
              "    </tr>\n",
              "    <tr>\n",
              "      <th>463</th>\n",
              "      <td>100014</td>\n",
              "      <td>1.2.840.113654.2.55.23011183264553864936438136...</td>\n",
              "      <td>1.2.840.113654.2.55.10598059449409563834581839...</td>\n",
              "      <td>1.2.840.113654.2.55.21456577190815092306718770...</td>\n",
              "      <td>CT</td>\n",
              "      <td>0,OPA,SE,SEN16,B30f,280,2,120,40,32,na</td>\n",
              "      <td>gs://idc-open/753aab9e-d276-45f1-91f8-d73e1c2f...</td>\n",
              "      <td>nlst</td>\n",
              "      <td>NLST</td>\n",
              "    </tr>\n",
              "    <tr>\n",
              "      <th>464</th>\n",
              "      <td>100014</td>\n",
              "      <td>1.2.840.113654.2.55.32681317118862120019139812...</td>\n",
              "      <td>1.2.840.113654.2.55.24212552127631641689348892...</td>\n",
              "      <td>1.2.840.113654.2.55.21279993833170595673147311...</td>\n",
              "      <td>CT</td>\n",
              "      <td>2,OPA,SE,SEN16,B30f,297,2,120,40,32,na</td>\n",
              "      <td>gs://idc-open/a11fc4d8-2e72-4947-94b5-9293cc1b...</td>\n",
              "      <td>nlst</td>\n",
              "      <td>NLST</td>\n",
              "    </tr>\n",
              "  </tbody>\n",
              "</table>\n",
              "<p>465 rows × 9 columns</p>\n",
              "</div>"
            ],
            "text/plain": [
              "    PatientID  ... tcia_api_collection_id\n",
              "0      100014  ...                   NLST\n",
              "1      100014  ...                   NLST\n",
              "2      100014  ...                   NLST\n",
              "3      100014  ...                   NLST\n",
              "4      100014  ...                   NLST\n",
              "..        ...  ...                    ...\n",
              "460    100014  ...                   NLST\n",
              "461    100014  ...                   NLST\n",
              "462    100014  ...                   NLST\n",
              "463    100014  ...                   NLST\n",
              "464    100014  ...                   NLST\n",
              "\n",
              "[465 rows x 9 columns]"
            ]
          },
          "metadata": {},
          "execution_count": 63
        }
      ]
    },
    {
      "cell_type": "markdown",
      "metadata": {
        "id": "mG2USrvUd7yl"
      },
      "source": [
        "### Visualization of the selected study\n",
        "\n",
        "TODO: explain that the data visualized is not the one here on VM, but in IDC and referenced by StudyInstanceUID"
      ]
    },
    {
      "cell_type": "code",
      "metadata": {
        "colab": {
          "base_uri": "https://localhost:8080/"
        },
        "id": "HawHLzymeGcb",
        "outputId": "bceff2bf-eefb-4302-c0b3-5d88b9848d80"
      },
      "source": [
        "def get_idc_viewer_url(studyUID):\n",
        "  return \"https://viewer.imaging.datacommons.cancer.gov/viewer/\"+studyUID\n",
        "\n",
        "study_uid = case002_df[\"StudyInstanceUID\"].unique()[0]\n",
        "print(get_idc_viewer_url(study_uid))"
      ],
      "execution_count": 64,
      "outputs": [
        {
          "output_type": "stream",
          "name": "stdout",
          "text": [
            "https://viewer.imaging.datacommons.cancer.gov/viewer/1.2.840.113654.2.55.248376211422134876080200734633596809407\n"
          ]
        }
      ]
    },
    {
      "cell_type": "code",
      "metadata": {
        "colab": {
          "base_uri": "https://localhost:8080/"
        },
        "id": "37HX58FxH5jx",
        "outputId": "a97fe337-8e6f-4905-a84c-a33781c5f631"
      },
      "source": [
        "import pandas as pd\n",
        "case002_df['SeriesInstanceUID'].unique()"
      ],
      "execution_count": 65,
      "outputs": [
        {
          "output_type": "execute_result",
          "data": {
            "text/plain": [
              "array(['1.2.840.113654.2.55.113122608355612118149688511074855524649',\n",
              "       '1.2.840.113654.2.55.242125521276316416893488922442135031827',\n",
              "       '1.2.840.113654.2.55.105980594494095638345818398307575745148',\n",
              "       '1.2.840.113654.2.55.224370998422513161237132457653669305128',\n",
              "       '1.2.840.113654.2.55.335578899304552476938977231801665435563',\n",
              "       '1.2.840.113654.2.55.115865465855988191201389124609998041309'],\n",
              "      dtype=object)"
            ]
          },
          "metadata": {},
          "execution_count": 65
        }
      ]
    },
    {
      "cell_type": "code",
      "metadata": {
        "colab": {
          "base_uri": "https://localhost:8080/",
          "height": 255
        },
        "id": "2oER5RpuIUYi",
        "outputId": "1c78a186-8423-4824-a44b-92977f43c941"
      },
      "source": [
        "pd.set_option('display.max_colwidth', None)\n",
        "case002_df.groupby(['StudyInstanceUID','SeriesInstanceUID','SeriesDescription','Modality']).size().reset_index().rename(columns={0:'count'})\n"
      ],
      "execution_count": 69,
      "outputs": [
        {
          "output_type": "execute_result",
          "data": {
            "text/html": [
              "<div>\n",
              "<style scoped>\n",
              "    .dataframe tbody tr th:only-of-type {\n",
              "        vertical-align: middle;\n",
              "    }\n",
              "\n",
              "    .dataframe tbody tr th {\n",
              "        vertical-align: top;\n",
              "    }\n",
              "\n",
              "    .dataframe thead th {\n",
              "        text-align: right;\n",
              "    }\n",
              "</style>\n",
              "<table border=\"1\" class=\"dataframe\">\n",
              "  <thead>\n",
              "    <tr style=\"text-align: right;\">\n",
              "      <th></th>\n",
              "      <th>StudyInstanceUID</th>\n",
              "      <th>SeriesInstanceUID</th>\n",
              "      <th>SeriesDescription</th>\n",
              "      <th>Modality</th>\n",
              "      <th>count</th>\n",
              "    </tr>\n",
              "  </thead>\n",
              "  <tbody>\n",
              "    <tr>\n",
              "      <th>0</th>\n",
              "      <td>1.2.840.113654.2.55.230111832645538649364381369281963718932</td>\n",
              "      <td>1.2.840.113654.2.55.105980594494095638345818398307575745148</td>\n",
              "      <td>0,OPA,SE,SEN16,B30f,280,2,120,40,32,na</td>\n",
              "      <td>CT</td>\n",
              "      <td>153</td>\n",
              "    </tr>\n",
              "    <tr>\n",
              "      <th>1</th>\n",
              "      <td>1.2.840.113654.2.55.230111832645538649364381369281963718932</td>\n",
              "      <td>1.2.840.113654.2.55.335578899304552476938977231801665435563</td>\n",
              "      <td>0,OPL,SE,SEN16,T20s,512,na,120,195.5,195,na</td>\n",
              "      <td>CT</td>\n",
              "      <td>2</td>\n",
              "    </tr>\n",
              "    <tr>\n",
              "      <th>2</th>\n",
              "      <td>1.2.840.113654.2.55.248376211422134876080200734633596809407</td>\n",
              "      <td>1.2.840.113654.2.55.113122608355612118149688511074855524649</td>\n",
              "      <td>1,OPA,SE,SEN16,B30f,314,2,120,40,32,na</td>\n",
              "      <td>CT</td>\n",
              "      <td>150</td>\n",
              "    </tr>\n",
              "    <tr>\n",
              "      <th>3</th>\n",
              "      <td>1.2.840.113654.2.55.248376211422134876080200734633596809407</td>\n",
              "      <td>1.2.840.113654.2.55.224370998422513161237132457653669305128</td>\n",
              "      <td>1,OPL,SE,SEN16,T20s,512,na,80,208,208,na</td>\n",
              "      <td>CT</td>\n",
              "      <td>2</td>\n",
              "    </tr>\n",
              "    <tr>\n",
              "      <th>4</th>\n",
              "      <td>1.2.840.113654.2.55.326813171188621200191398126261396586729</td>\n",
              "      <td>1.2.840.113654.2.55.115865465855988191201389124609998041309</td>\n",
              "      <td>2,OPL,SE,SEN16,T20s,512,na,80,205.6,205,na</td>\n",
              "      <td>CT</td>\n",
              "      <td>1</td>\n",
              "    </tr>\n",
              "    <tr>\n",
              "      <th>5</th>\n",
              "      <td>1.2.840.113654.2.55.326813171188621200191398126261396586729</td>\n",
              "      <td>1.2.840.113654.2.55.242125521276316416893488922442135031827</td>\n",
              "      <td>2,OPA,SE,SEN16,B30f,297,2,120,40,32,na</td>\n",
              "      <td>CT</td>\n",
              "      <td>157</td>\n",
              "    </tr>\n",
              "  </tbody>\n",
              "</table>\n",
              "</div>"
            ],
            "text/plain": [
              "                                              StudyInstanceUID  ... count\n",
              "0  1.2.840.113654.2.55.230111832645538649364381369281963718932  ...   153\n",
              "1  1.2.840.113654.2.55.230111832645538649364381369281963718932  ...     2\n",
              "2  1.2.840.113654.2.55.248376211422134876080200734633596809407  ...   150\n",
              "3  1.2.840.113654.2.55.248376211422134876080200734633596809407  ...     2\n",
              "4  1.2.840.113654.2.55.326813171188621200191398126261396586729  ...     1\n",
              "5  1.2.840.113654.2.55.326813171188621200191398126261396586729  ...   157\n",
              "\n",
              "[6 rows x 5 columns]"
            ]
          },
          "metadata": {},
          "execution_count": 69
        }
      ]
    },
    {
      "cell_type": "code",
      "metadata": {
        "id": "ivbO7k-6kztg"
      },
      "source": [
        "# CHANGE ME!\n",
        "StudyInstanceUID = \"1.2.840.113654.2.55.248376211422134876080200734633596809407\""
      ],
      "execution_count": 70,
      "outputs": []
    },
    {
      "cell_type": "code",
      "metadata": {
        "id": "X4YXrk6PIkJe"
      },
      "source": [
        "import os\n",
        "idc_download_folder = \"/content/IDC_downloads\"\n",
        "if not os.path.exists(idc_download_folder):\n",
        "  os.mkdir(idc_download_folder)\n",
        "\n",
        "case002_manifest = os.path.join(idc_download_folder, \"idc_manifest.txt\")\n",
        "case002_df[case002_df[\"StudyInstanceUID\"]==StudyInstanceUID][\"gcs_url\"].to_csv(case002_manifest, header=False, index=False)"
      ],
      "execution_count": 76,
      "outputs": []
    },
    {
      "cell_type": "code",
      "metadata": {
        "colab": {
          "base_uri": "https://localhost:8080/"
        },
        "id": "mIKSKvW8mdsN",
        "outputId": "e8e8537b-4447-49c6-b924-6b8e0fd68b02"
      },
      "source": [
        "!cat /content/IDC_downloads/idc_manifest.txt |wc"
      ],
      "execution_count": 74,
      "outputs": [
        {
          "output_type": "stream",
          "name": "stdout",
          "text": [
            "    152     152    8360\n"
          ]
        }
      ]
    },
    {
      "cell_type": "code",
      "metadata": {
        "id": "6ydwu1tSYScJ"
      },
      "source": [
        "%%capture\n",
        "!rm -rf /content/IDC_downloads/*.dcm\n",
        "!cat /content/IDC_downloads/idc_manifest.txt | gsutil -u idc-tcia -m cp -I /content/IDC_downloads"
      ],
      "execution_count": null,
      "outputs": []
    },
    {
      "cell_type": "markdown",
      "metadata": {
        "id": "hxJzr-GDIlAV"
      },
      "source": [
        "### Selection and download of data from TCIA\n",
        "\n",
        "For the sake of simplicity, we will download images for a specific case that we know has CT of the chest, and segmentations of the organs of interest. You can utilize TCIA portal, or other features of TCIA API to select data (Justin TBD what should be discussed here).\n",
        "\n"
      ]
    },
    {
      "cell_type": "code",
      "metadata": {
        "id": "qfeBJ2D_nEFD"
      },
      "source": [
        "!rm -rf /content/TCIA_downloads/*.dcm"
      ],
      "execution_count": 78,
      "outputs": []
    },
    {
      "cell_type": "code",
      "metadata": {
        "id": "TfWQjFEQNEbJ"
      },
      "source": [
        "import requests\n",
        "params = {\"Collection\":\"NSCLC-Radiomics\", \"PatientID\":\"LUNG1-002\"}\n",
        "r = requests.get(\"https://services.cancerimagingarchive.net/nbia-api/services/v1/getSeries\", params=params)\n",
        "if r.status_code == 200:\n",
        "  df = pd.read_json(r.text)\n",
        "else:\n",
        "  print(f\"Failed with {r.status_code}\")"
      ],
      "execution_count": 79,
      "outputs": []
    },
    {
      "cell_type": "code",
      "metadata": {
        "colab": {
          "base_uri": "https://localhost:8080/",
          "height": 213
        },
        "id": "w5i2UGL8nhBU",
        "outputId": "6fe859b5-983d-4a1d-cd23-b6cb8b42f525"
      },
      "source": [
        "df"
      ],
      "execution_count": 80,
      "outputs": [
        {
          "output_type": "execute_result",
          "data": {
            "text/html": [
              "<div>\n",
              "<style scoped>\n",
              "    .dataframe tbody tr th:only-of-type {\n",
              "        vertical-align: middle;\n",
              "    }\n",
              "\n",
              "    .dataframe tbody tr th {\n",
              "        vertical-align: top;\n",
              "    }\n",
              "\n",
              "    .dataframe thead th {\n",
              "        text-align: right;\n",
              "    }\n",
              "</style>\n",
              "<table border=\"1\" class=\"dataframe\">\n",
              "  <thead>\n",
              "    <tr style=\"text-align: right;\">\n",
              "      <th></th>\n",
              "      <th>SeriesInstanceUID</th>\n",
              "      <th>StudyInstanceUID</th>\n",
              "      <th>Modality</th>\n",
              "      <th>BodyPartExamined</th>\n",
              "      <th>SeriesNumber</th>\n",
              "      <th>Collection</th>\n",
              "      <th>PatientID</th>\n",
              "      <th>Manufacturer</th>\n",
              "      <th>ManufacturerModelName</th>\n",
              "      <th>SoftwareVersions</th>\n",
              "      <th>ImageCount</th>\n",
              "      <th>TimeStamp</th>\n",
              "      <th>SeriesDate</th>\n",
              "      <th>SeriesDescription</th>\n",
              "    </tr>\n",
              "  </thead>\n",
              "  <tbody>\n",
              "    <tr>\n",
              "      <th>0</th>\n",
              "      <td>1.3.6.1.4.1.32722.99.99.232988001551799080335895423941323261228</td>\n",
              "      <td>1.3.6.1.4.1.32722.99.99.203715003805996641695765332389135385095</td>\n",
              "      <td>CT</td>\n",
              "      <td>LUNG</td>\n",
              "      <td>1</td>\n",
              "      <td>NSCLC-Radiomics</td>\n",
              "      <td>LUNG1-002</td>\n",
              "      <td>CMS, Inc.</td>\n",
              "      <td>XiO</td>\n",
              "      <td>4.34.02</td>\n",
              "      <td>111</td>\n",
              "      <td>2020-10-07 14:01:19</td>\n",
              "      <td>NaN</td>\n",
              "      <td>NaN</td>\n",
              "    </tr>\n",
              "    <tr>\n",
              "      <th>1</th>\n",
              "      <td>1.3.6.1.4.1.32722.99.99.243267551266911245830259417117543245931</td>\n",
              "      <td>1.3.6.1.4.1.32722.99.99.203715003805996641695765332389135385095</td>\n",
              "      <td>RTSTRUCT</td>\n",
              "      <td>NaN</td>\n",
              "      <td>4</td>\n",
              "      <td>NSCLC-Radiomics</td>\n",
              "      <td>LUNG1-002</td>\n",
              "      <td>Varian Medical Systems</td>\n",
              "      <td>ARIA RadOnc</td>\n",
              "      <td>15.5.11</td>\n",
              "      <td>1</td>\n",
              "      <td>2020-10-08 14:18:10</td>\n",
              "      <td>NaN</td>\n",
              "      <td>NaN</td>\n",
              "    </tr>\n",
              "    <tr>\n",
              "      <th>2</th>\n",
              "      <td>1.2.276.0.7230010.3.1.3.2323910823.11504.1597260515.421</td>\n",
              "      <td>1.3.6.1.4.1.32722.99.99.203715003805996641695765332389135385095</td>\n",
              "      <td>SEG</td>\n",
              "      <td>LUNG</td>\n",
              "      <td>300</td>\n",
              "      <td>NSCLC-Radiomics</td>\n",
              "      <td>LUNG1-002</td>\n",
              "      <td>QIICR</td>\n",
              "      <td>https://github.com/qiicr/dcmqi.git</td>\n",
              "      <td>3efde87</td>\n",
              "      <td>1</td>\n",
              "      <td>2020-08-20 18:38:20</td>\n",
              "      <td>2020-08-12 00:00:00.0</td>\n",
              "      <td>Segmentation</td>\n",
              "    </tr>\n",
              "  </tbody>\n",
              "</table>\n",
              "</div>"
            ],
            "text/plain": [
              "                                                 SeriesInstanceUID  ... SeriesDescription\n",
              "0  1.3.6.1.4.1.32722.99.99.232988001551799080335895423941323261228  ...               NaN\n",
              "1  1.3.6.1.4.1.32722.99.99.243267551266911245830259417117543245931  ...               NaN\n",
              "2          1.2.276.0.7230010.3.1.3.2323910823.11504.1597260515.421  ...      Segmentation\n",
              "\n",
              "[3 rows x 14 columns]"
            ]
          },
          "metadata": {},
          "execution_count": 80
        }
      ]
    },
    {
      "cell_type": "code",
      "metadata": {
        "colab": {
          "base_uri": "https://localhost:8080/"
        },
        "id": "skFm7Y-6Mu9L",
        "outputId": "f3890b9b-118b-4fdc-f0e8-839fe6459312"
      },
      "source": [
        "import json, zipfile\n",
        "series_list = [item[\"SeriesInstanceUID\"] for item in json.loads(r.text)]\n",
        "print(series_list)\n",
        "\n",
        "tcia_download_folder = \"/content/TCIA_downloads\"\n",
        "if not os.path.exists(tcia_download_folder):\n",
        "  os.mkdir(tcia_download_folder)\n",
        "\n",
        "for series_uid in series_list:\n",
        "\n",
        "  # download zip file with the series instances\n",
        "  params = {\"SeriesInstanceUID\":series_uid}\n",
        "  image_request = requests.get(\" https://services.cancerimagingarchive.net/nbia-api/services/v1/getImage\", params=params, stream=True)\n",
        "  print(f\"Completed request: {image_request.url}\")\n",
        "  if image_request.status_code == 200:\n",
        "    series_zip_name = os.path.join(tcia_download_folder, f\"{series_uid}.zip\")\n",
        "    with open(series_zip_name, \"wb\") as f:\n",
        "      for chunk in image_request.iter_content(chunk_size=1024):\n",
        "        f.write(chunk)\n",
        "    print(f\"Downloaded and saved series {series_uid}\")\n",
        "\n",
        "    # extract individual instances from the series zip file\n",
        "    series_folder_name = os.path.join(tcia_download_folder, series_uid)\n",
        "    if not os.path.exists(series_folder_name):\n",
        "      os.mkdir(series_folder_name)\n",
        "    with zipfile.ZipFile(series_zip_name, 'r') as zip_ref:\n",
        "      zip_ref.extractall(series_folder_name)\n",
        "  else:\n",
        "    print(f\"Failed with {r.status_code}\")"
      ],
      "execution_count": null,
      "outputs": [
        {
          "output_type": "stream",
          "name": "stdout",
          "text": [
            "['1.3.6.1.4.1.32722.99.99.232988001551799080335895423941323261228', '1.3.6.1.4.1.32722.99.99.243267551266911245830259417117543245931', '1.2.276.0.7230010.3.1.3.2323910823.11504.1597260515.421']\n",
            "Completed request: https://services.cancerimagingarchive.net/nbia-api/services/v1/getImage?SeriesInstanceUID=1.3.6.1.4.1.32722.99.99.232988001551799080335895423941323261228\n",
            "Downloaded and saved series 1.3.6.1.4.1.32722.99.99.232988001551799080335895423941323261228\n",
            "Completed request: https://services.cancerimagingarchive.net/nbia-api/services/v1/getImage?SeriesInstanceUID=1.3.6.1.4.1.32722.99.99.243267551266911245830259417117543245931\n",
            "Downloaded and saved series 1.3.6.1.4.1.32722.99.99.243267551266911245830259417117543245931\n",
            "Completed request: https://services.cancerimagingarchive.net/nbia-api/services/v1/getImage?SeriesInstanceUID=1.2.276.0.7230010.3.1.3.2323910823.11504.1597260515.421\n",
            "Downloaded and saved series 1.2.276.0.7230010.3.1.3.2323910823.11504.1597260515.421\n"
          ]
        }
      ]
    },
    {
      "cell_type": "code",
      "metadata": {
        "colab": {
          "base_uri": "https://localhost:8080/"
        },
        "id": "GsePTNBmM9sw",
        "outputId": "d80a7e7d-b443-4553-9744-eb8c8a384763"
      },
      "source": [
        "!git clone https://github.com/pieper/dicomsort.git\n",
        "!pip install pydicom\n",
        "!python dicomsort/dicomsort.py --help"
      ],
      "execution_count": 25,
      "outputs": [
        {
          "output_type": "stream",
          "name": "stdout",
          "text": [
            "Cloning into 'dicomsort'...\n",
            "remote: Enumerating objects: 126, done.\u001b[K\n",
            "remote: Total 126 (delta 0), reused 0 (delta 0), pack-reused 126\u001b[K\n",
            "Receiving objects: 100% (126/126), 37.03 KiB | 9.26 MiB/s, done.\n",
            "Resolving deltas: 100% (63/63), done.\n",
            "Requirement already satisfied: pydicom in /usr/local/lib/python3.7/dist-packages (2.2.2)\n",
            "\n",
            "% dicomsort.py --help\n",
            "dicomsort [options...] sourceDir targetDir/<patterns>\n",
            "\n",
            " where [options...] can be:\n",
            "    [-z,--compressTargets] - create a .zip file in the target directory\n",
            "    [-d,--deleteSource] - remove source files/directories after sorting\n",
            "    [-f,--forceDelete] - remove source without confirmation\n",
            "    [-k,--keepGoing] - report but ignore dupicate target files\n",
            "    [-v,--verbose] - print diagnostics while processing\n",
            "    [-s,--symlink] - create a symlink to dicom files in sourceDir instead of copying them\n",
            "    [-t,--test] - run the built in self test (requires internet)\n",
            "    [-u,--unsafe] - do not replace unsafe characters with '_' in the path\n",
            "    [--help] - print this message\n",
            "\n",
            " where sourceDir is directory to be scanned or \"\" (null string) to read file list from stdin\n",
            "\n",
            " where targetDir/<patterns...> is a string defining the output file and directory\n",
            " names based on the dicom tags in the file.\n",
            "\n",
            "If patterns are not specified, the following default is used:\n",
            "\n",
            "  %PatientName-%Modality%StudyID-%StudyDescription-%StudyDate/%SeriesNumber_%SeriesDescription-%InstanceNumber.dcm\n",
            "\n",
            "Example 1:\n",
            "\n",
            "  dicomsort data sorted/%PatientName/%StudyDate/%SeriesDescription-%InstanceNumber.dcm\n",
            "\n",
            "  could create a folder structure like:\n",
            "\n",
            "  sorted/JohnDoe/2013-40-18/FLAIR-2.dcm\n",
            "\n",
            "Example 2:\n",
            "\n",
            "  find DicomSourceDir/ | grep \"IMA$\" | dicomsort -s \"\" DicomTargetDir\n",
            "\n",
            "  would scan DicomSourceDir for file pathnames ending in IMA and create an\n",
            "  output directory DicomTargetDir. The folder structure will be created using\n",
            "  the default pattern with symbolic links to the source dicom data files.\n",
            "\n"
          ]
        }
      ]
    },
    {
      "cell_type": "code",
      "metadata": {
        "colab": {
          "base_uri": "https://localhost:8080/"
        },
        "id": "q9aVI7qAbaT0",
        "outputId": "5bbeb204-6e2f-4162-cf06-a81cafc7cf10"
      },
      "source": [
        "!mkdir -p IDC_sorted && mkdir -p TCIA_sorted\n",
        "!python dicomsort/dicomsort.py -k -u IDC_downloads IDC_sorted/%PatientID/%StudyInstanceUID/%SeriesInstanceUID/%SOPInstanceUID.dcm\n",
        "!python dicomsort/dicomsort.py -k -u TCIA_downloads TCIA_sorted/%PatientID/%StudyInstanceUID/%SeriesInstanceUID/%SOPInstanceUID.dcm"
      ],
      "execution_count": 26,
      "outputs": [
        {
          "output_type": "stream",
          "name": "stdout",
          "text": [
            "100% 114/114 [00:02<00:00, 40.55it/s]\n",
            "Files sorted\n",
            "Source directory does not exist: TCIA_downloads\n"
          ]
        }
      ]
    },
    {
      "cell_type": "markdown",
      "metadata": {
        "id": "ZvlSBfPRdRpz"
      },
      "source": [
        "### Download consistency check\n",
        "\n",
        "Let's check the content downloaded from the two repositories is identical, just in case."
      ]
    },
    {
      "cell_type": "code",
      "metadata": {
        "colab": {
          "base_uri": "https://localhost:8080/"
        },
        "id": "TNDv9Eq5czJx",
        "outputId": "d8a32caf-af88-4876-cf88-81be9904afb5"
      },
      "source": [
        "!diff -r IDC_sorted TCIA_sorted"
      ],
      "execution_count": null,
      "outputs": [
        {
          "output_type": "stream",
          "name": "stdout",
          "text": [
            "Only in IDC_sorted: LUNG1-002.json\n"
          ]
        }
      ]
    },
    {
      "cell_type": "code",
      "metadata": {
        "id": "DZ_LAvUGEGxj"
      },
      "source": [
        "!mkdir -p tutorial/data/dicom && mv IDC_sorted/* tutorial/data/dicom"
      ],
      "execution_count": 27,
      "outputs": []
    },
    {
      "cell_type": "markdown",
      "metadata": {
        "id": "eRtmCas7dT6D"
      },
      "source": [
        "## Setup of the Colab VM\n",
        "\n",
        "\n",
        "\n",
        "In the following cells we will confirm you have a GPU before doing anything else, and will install and import all the Python dependencies. \n",
        "\n",
        "The main python packages we need to install are:\n",
        "* `nnunet` - which is the [codebase for the nn-UNet framework](https://github.com/MIC-DKFZ/nnUNet) we are going to be using for the segmentation step;\n",
        "* `pydicom`, a Python [package](https://github.com/pydicom/pydicom) that lets the use read, modify, and write DICOM data in an easy \"pythonic\" way - that we are going to use to distinguish different DICOM objects from each other."
      ]
    },
    {
      "cell_type": "markdown",
      "metadata": {
        "id": "zLvysANUArnm"
      },
      "source": [
        "### GPU checks"
      ]
    },
    {
      "cell_type": "code",
      "metadata": {
        "id": "Pf2j172mddvK"
      },
      "source": [
        "# check wether the Colab Instance was correctly changed to a GPU instance\n",
        "gpu_list = !nvidia-smi --list-gpus\n",
        "\n",
        "has_gpu = False if \"failed\" in gpu_list[0] else True\n",
        "\n",
        "if not has_gpu:\n",
        "  print(\"Your Colab VM does not have a GPU - check \\\"Runtime > Change runtime type\\\"\")"
      ],
      "execution_count": 11,
      "outputs": []
    },
    {
      "cell_type": "code",
      "metadata": {
        "colab": {
          "base_uri": "https://localhost:8080/"
        },
        "id": "kL6xCvo3eKQ0",
        "outputId": "7a220948-b796-4cf9-b072-71e243ca917b"
      },
      "source": [
        "# check which model of GPU the notebook is equipped with - a Tesla K80 or T4\n",
        "# T4 is the best performing on the two - and can about half the GPU processing time\n",
        "\n",
        "!nvidia-smi"
      ],
      "execution_count": 12,
      "outputs": [
        {
          "output_type": "stream",
          "name": "stdout",
          "text": [
            "Mon Nov 15 19:00:17 2021       \n",
            "+-----------------------------------------------------------------------------+\n",
            "| NVIDIA-SMI 495.44       Driver Version: 460.32.03    CUDA Version: 11.2     |\n",
            "|-------------------------------+----------------------+----------------------+\n",
            "| GPU  Name        Persistence-M| Bus-Id        Disp.A | Volatile Uncorr. ECC |\n",
            "| Fan  Temp  Perf  Pwr:Usage/Cap|         Memory-Usage | GPU-Util  Compute M. |\n",
            "|                               |                      |               MIG M. |\n",
            "|===============================+======================+======================|\n",
            "|   0  Tesla K80           Off  | 00000000:00:04.0 Off |                    0 |\n",
            "| N/A   35C    P8    27W / 149W |      0MiB / 11441MiB |      0%      Default |\n",
            "|                               |                      |                  N/A |\n",
            "+-------------------------------+----------------------+----------------------+\n",
            "                                                                               \n",
            "+-----------------------------------------------------------------------------+\n",
            "| Processes:                                                                  |\n",
            "|  GPU   GI   CI        PID   Type   Process name                  GPU Memory |\n",
            "|        ID   ID                                                   Usage      |\n",
            "|=============================================================================|\n",
            "|  No running processes found                                                 |\n",
            "+-----------------------------------------------------------------------------+\n"
          ]
        }
      ]
    },
    {
      "cell_type": "markdown",
      "metadata": {
        "id": "0Ev-JlpCAuMs"
      },
      "source": [
        "### Python packages"
      ]
    },
    {
      "cell_type": "code",
      "metadata": {
        "id": "7XMzq-8nRvKd"
      },
      "source": [
        "%%capture\n",
        "!pip install nnunet\n",
        "!pip install pydicom"
      ],
      "execution_count": 13,
      "outputs": []
    },
    {
      "cell_type": "code",
      "metadata": {
        "colab": {
          "base_uri": "https://localhost:8080/"
        },
        "id": "cURjj8rzAa2L",
        "outputId": "663a3af9-6305-461d-dffc-0f464324a0f1"
      },
      "source": [
        "import os\n",
        "import sys\n",
        "import shutil\n",
        "\n",
        "import time\n",
        "import gdown\n",
        "\n",
        "import json\n",
        "import pprint\n",
        "import numpy as np\n",
        "import pandas as pd\n",
        "\n",
        "import pydicom\n",
        "import nibabel as nib\n",
        "import SimpleITK as sitk\n",
        "\n",
        "from medpy.metric.binary import dc as dice_coef\n",
        "from medpy.metric.binary import hd as hausdorff_distance\n",
        "from medpy.metric.binary import asd as avg_surf_distance\n",
        "\n",
        "from medpy.filter.binary import largest_connected_component\n",
        "\n",
        "# use the \"tensorflow_version\" magic to make sure TF 1.x is imported\n",
        "%tensorflow_version 1.x\n",
        "import tensorflow as tf\n",
        "import keras\n",
        "\n",
        "print(\"Python version               : \", sys.version.split('\\n')[0])\n",
        "print(\"Numpy version                : \", np.__version__)\n",
        "print(\"TensorFlow version           : \", tf.__version__)\n",
        "print(\"Keras (stand-alone) version  : \", keras.__version__)\n",
        "\n",
        "print(\"\\nThis Colab instance is equipped with a GPU.\")\n",
        "\n",
        "# ----------------------------------------\n",
        "\n",
        "#everything that has to do with plotting goes here below\n",
        "import matplotlib\n",
        "matplotlib.use(\"agg\")\n",
        "\n",
        "import matplotlib.pyplot as plt\n",
        "from matplotlib.colors import ListedColormap\n",
        "\n",
        "%matplotlib inline\n",
        "%config InlineBackend.figure_format = \"png\"\n",
        "\n",
        "import ipywidgets as ipyw\n",
        "\n",
        "## ----------------------------------------\n",
        "\n",
        "# create new colormap appending the alpha channel to the selected one\n",
        "# (so that we don't get a \\\"color overlay\\\" when plotting the segmask superimposed to the CT)\n",
        "cmap = plt.cm.Reds\n",
        "my_reds = cmap(np.arange(cmap.N))\n",
        "my_reds[:,-1] = np.linspace(0, 1, cmap.N)\n",
        "my_reds = ListedColormap(my_reds)\n",
        "\n",
        "cmap = plt.cm.Greens\n",
        "my_greens = cmap(np.arange(cmap.N))\n",
        "my_greens[:,-1] = np.linspace(0, 1, cmap.N)\n",
        "my_greens = ListedColormap(my_greens)\n",
        "\n",
        "cmap = plt.cm.Blues\n",
        "my_blues = cmap(np.arange(cmap.N))\n",
        "my_blues[:,-1] = np.linspace(0, 1, cmap.N)\n",
        "my_blues = ListedColormap(my_blues)\n",
        "\n",
        "cmap = plt.cm.spring\n",
        "my_spring = cmap(np.arange(cmap.N))\n",
        "my_spring[:,-1] = np.linspace(0, 1, cmap.N)\n",
        "my_spring = ListedColormap(my_spring)\n",
        "## ----------------------------------------\n",
        "\n",
        "import seaborn as sns"
      ],
      "execution_count": 14,
      "outputs": [
        {
          "output_type": "stream",
          "name": "stdout",
          "text": [
            "TensorFlow 1.x selected.\n",
            "Python version               :  3.7.12 (default, Sep 10 2021, 00:21:48) \n",
            "Numpy version                :  1.19.5\n",
            "TensorFlow version           :  1.15.2\n",
            "Keras (stand-alone) version  :  2.3.1\n",
            "\n",
            "This Colab instance is equipped with a GPU.\n"
          ]
        },
        {
          "output_type": "stream",
          "name": "stderr",
          "text": [
            "Using TensorFlow backend.\n"
          ]
        }
      ]
    },
    {
      "cell_type": "code",
      "metadata": {
        "colab": {
          "base_uri": "https://localhost:8080/"
        },
        "id": "UrAh2kjqb2Be",
        "outputId": "cb3a395c-48e7-4dbe-8522-0c8cfe077e52"
      },
      "source": [
        "# PyPlastimatch - python wrapper for Plastimatch (and interactive notebook visualisation)\n",
        "!svn checkout https://github.com/AIM-Harvard/pyplastimatch/trunk/pyplastimatch tutorial/pyplastimatch"
      ],
      "execution_count": 46,
      "outputs": [
        {
          "output_type": "stream",
          "name": "stdout",
          "text": [
            "svn: E155000: '/content/tutorial/pyplastimatch' is already a working copy for a different URL\n"
          ]
        }
      ]
    },
    {
      "cell_type": "markdown",
      "metadata": {
        "id": "40E3HnI5A0SX"
      },
      "source": [
        "### Command-line tools\n",
        "\n",
        "\n",
        "The only package we will need for this tutorial is [Plastimatch](https://plastimatch.org/index.html). Plastimatch is considered to be the swiss army knife of medical images processing: we will use it to convert DICOM (CT, RTSTRUCT) series to NRRD files - but it can be used for a multitude of other tasks, such as registration, resampling, cropping, and computing statistics to name a few. Plastimatch is also available as a 3DSlicer plug-in and can be used directly from the Slicer GUI.\n",
        "\n",
        "For the sake of clarity and simplicity, we will call Plastimatch from a very simple [Python wrapper](https://github.com/denbonte/pyplastimatch) written for the occasion (unfortunately, Plastimatch does not provide an official one) - more on this later."
      ]
    },
    {
      "cell_type": "code",
      "metadata": {
        "id": "ZZL6-ByHA7XY"
      },
      "source": [
        "%%capture\n",
        "!sudo apt update\n",
        "\n",
        "!sudo apt install plastimatch"
      ],
      "execution_count": 15,
      "outputs": []
    },
    {
      "cell_type": "code",
      "metadata": {
        "colab": {
          "base_uri": "https://localhost:8080/"
        },
        "id": "LMovHnKgBEfC",
        "outputId": "0f8a742a-5b2c-4098-8dc3-bd721882e7b8"
      },
      "source": [
        "!echo $(plastimatch --version)"
      ],
      "execution_count": null,
      "outputs": [
        {
          "output_type": "stream",
          "name": "stdout",
          "text": [
            "plastimatch version 1.7.0\n"
          ]
        }
      ]
    },
    {
      "cell_type": "markdown",
      "metadata": {
        "id": "fFRWendbBH72"
      },
      "source": [
        "We are also going to install subversion, a tool that will allow us to clone GitHub repositories only partially (to save time and space)."
      ]
    },
    {
      "cell_type": "code",
      "metadata": {
        "id": "YBEJRe-2BKah"
      },
      "source": [
        "%%capture\n",
        "\n",
        "!sudo apt install subversion"
      ],
      "execution_count": 16,
      "outputs": []
    },
    {
      "cell_type": "code",
      "metadata": {
        "colab": {
          "base_uri": "https://localhost:8080/"
        },
        "id": "WI1_BixWBN1O",
        "outputId": "2683e1a7-2437-49e2-dc08-451db3de10ac"
      },
      "source": [
        "!echo $(svn --version | head -n 2)"
      ],
      "execution_count": null,
      "outputs": [
        {
          "output_type": "stream",
          "name": "stdout",
          "text": [
            "svn, version 1.9.7 (r1800392) compiled Mar 28 2018, 08:49:13 on x86_64-pc-linux-gnu\n"
          ]
        }
      ]
    },
    {
      "cell_type": "code",
      "metadata": {
        "id": "mYM_BUZzBV_R"
      },
      "source": [
        ""
      ],
      "execution_count": null,
      "outputs": []
    },
    {
      "cell_type": "markdown",
      "metadata": {
        "id": "ZJhwBz2ABT_p"
      },
      "source": [
        "### Environment Setup\n",
        "\n",
        "Set the Linux environment variables needed to run the nnU-Net pipeline. \n",
        "\n",
        "Three main variables are needed by default to run the nnU-Net segmentation pipelines:\n",
        "* `nnUNet_raw_data_base` is the path to the folder where the segmentation pipeline expects to find the data to process;\n",
        "* `nnUNet_preprocessed` is the path to the folder where the preprocessed data are saved;\n",
        "* `RESULTS_FOLDER` is the path to the folder storing by default the model weights and, in our case, for simplicity, the segmentation masks produced by the pipeline.\n",
        "\n",
        "We will use the additional variable `PATH_TO_MODEL_FILE` to point to the location where the pre-trained model weights for the chosen model will be stored (more on this later).\n",
        "\n",
        "Please notice that these variables need to be set using `os.environ[]` in Google Colab - as `!export` is not sufficient to guarantee the variables are kept from one cell to the other. For more in-depth information regarding what the nnU-Net framework uses these folders for, please visit [the dedicated nnU-Net documentation page](https://github.com/MIC-DKFZ/nnUNet/blob/master/documentation/setting_up_paths.md)"
      ]
    },
    {
      "cell_type": "code",
      "metadata": {
        "id": "gjiHm26cBdKm"
      },
      "source": [
        "# set env variables for the bash process\n",
        "import os\n",
        "os.environ['nnUNet_raw_data_base'] = \"/content/tutorial/data/nnUNet_raw_data/\"\n",
        "os.environ['nnUNet_preprocessed'] = \"/content/tutorial/data/processed/\"\n",
        "\n",
        "os.environ[\"RESULTS_FOLDER\"] = \"/content/tutorial/output/\"\n",
        "os.environ[\"PATH_TO_MODEL_FILE\"] = \"/content/tutorial/models/Task055_SegTHOR.zip\""
      ],
      "execution_count": 17,
      "outputs": []
    },
    {
      "cell_type": "markdown",
      "metadata": {
        "id": "kGobegw-Bvz5"
      },
      "source": [
        "## nn-UNet model setup\n",
        "\n",
        "### Thoracic Organs at Risk Segmentation AI Model\n",
        "\n",
        "While the nnU-Net framework should take care of the model download (from Zenodo), some of the zip files containing the pre-trained weights are particularly large, so the download can take a lot of time, get stuck, or produce errors (as [reported by other users](https://github.com/MIC-DKFZ/nnUNet/issues/358#issue-726410474) and in the [repository FAQ](https://github.com/MIC-DKFZ/nnUNet/blob/master/documentation/common_problems_and_solutions.md#downloading-pretrained-models-unzip-cannot-find-zipfile-directory-in-one-of-homeisenseennunetdownload_16031094034174126)) .\n",
        "\n",
        "For this reason, and for the purpose of speeding up this tutorial, we decided to copy the relevant model weights in a shared Dropbox folder. In the following cells, we use Linux `wget` to pull such files from the folder - and exploit the nnU-Net framework command `nnUNet_install_pretrained_model_from_zip` to unpack and install the pre-trained model."
      ]
    },
    {
      "cell_type": "code",
      "metadata": {
        "id": "9sipNQgeB7fo"
      },
      "source": [
        "# create the directory tree\n",
        "!mkdir -p tutorial \n",
        "!mkdir -p tutorial/models tutorial/data tutorial/output\n",
        "!mkdir -p tutorial/data/dicom tutorial/data/processed tutorial/data/nnUNet_raw_data"
      ],
      "execution_count": 18,
      "outputs": []
    },
    {
      "cell_type": "code",
      "metadata": {
        "colab": {
          "base_uri": "https://localhost:8080/"
        },
        "id": "AzPWnwbqB-Bt",
        "outputId": "d211d27e-6e0a-4689-e651-26a88a860235"
      },
      "source": [
        "# this will usually take between one and five minutes (but can sometimes take up to eight)\n",
        "seg_model_url = \"https://www.dropbox.com/s/m7es2ojn8h0ybhv/Task055_SegTHOR.zip?dl=0\"\n",
        "output_path = \"tutorial/models/Task055_SegTHOR.zip\"\n",
        "\n",
        "!wget -O $output_path $seg_model_url"
      ],
      "execution_count": 19,
      "outputs": [
        {
          "output_type": "stream",
          "name": "stdout",
          "text": [
            "--2021-11-15 19:14:37--  https://www.dropbox.com/s/m7es2ojn8h0ybhv/Task055_SegTHOR.zip?dl=0\n",
            "Resolving www.dropbox.com (www.dropbox.com)... 162.125.68.18, 2620:100:6023:18::a27d:4312\n",
            "Connecting to www.dropbox.com (www.dropbox.com)|162.125.68.18|:443... connected.\n",
            "HTTP request sent, awaiting response... 301 Moved Permanently\n",
            "Location: /s/raw/m7es2ojn8h0ybhv/Task055_SegTHOR.zip [following]\n",
            "--2021-11-15 19:14:37--  https://www.dropbox.com/s/raw/m7es2ojn8h0ybhv/Task055_SegTHOR.zip\n",
            "Reusing existing connection to www.dropbox.com:443.\n",
            "HTTP request sent, awaiting response... 302 Found\n",
            "Location: https://uc6b8200b0308203dd2f29eff6c2.dl.dropboxusercontent.com/cd/0/inline/BaDwWWqCFxYRuQmpLKCdihbbhlBz7_eZJ7BBYtxBTba5f76VsBVPu3yx7f6aMW3ZuSuWgedhojWeYXL3cxvEW9PhuI8yn-XTD9Rzt6ot6_KOBLu7gKrCL5ZvxjBOjd71pv_Wcn33vBIhAJrCbSs499Hc/file# [following]\n",
            "--2021-11-15 19:14:37--  https://uc6b8200b0308203dd2f29eff6c2.dl.dropboxusercontent.com/cd/0/inline/BaDwWWqCFxYRuQmpLKCdihbbhlBz7_eZJ7BBYtxBTba5f76VsBVPu3yx7f6aMW3ZuSuWgedhojWeYXL3cxvEW9PhuI8yn-XTD9Rzt6ot6_KOBLu7gKrCL5ZvxjBOjd71pv_Wcn33vBIhAJrCbSs499Hc/file\n",
            "Resolving uc6b8200b0308203dd2f29eff6c2.dl.dropboxusercontent.com (uc6b8200b0308203dd2f29eff6c2.dl.dropboxusercontent.com)... 162.125.68.15, 2620:100:6023:15::a27d:430f\n",
            "Connecting to uc6b8200b0308203dd2f29eff6c2.dl.dropboxusercontent.com (uc6b8200b0308203dd2f29eff6c2.dl.dropboxusercontent.com)|162.125.68.15|:443... connected.\n",
            "HTTP request sent, awaiting response... 302 Found\n",
            "Location: /cd/0/inline2/BaD9x5_0OrRfc62qOf8UM1kMjUBs8NsKCGkEOXf5dUl5rSFekb9P2C7jsvyW0ISM6PooU0em8DehXCC6YeFmdg-5QpybmoR82FT6kegTGDCJ-u798uVX4lS2-Cbj9R_tAzoaJYZtKbHuUWjdADHp3NgdvRggFVwM5rsBem_G9-6bSleMI3994u8f02_t9NpJUCiwCIe7DnClqsSQHB95bHYQwE9NIxNJBopvK-QzQ88ajPv2i2ZTd0UFHJTpM7cfxrIs06JZcXfkOkLzXFh2S37EAmxS4DAxgncLImAr7pXNSL27l2cwPZV7XzwyuZ71nxgWM5zzqYgNPiO8tMey0DoEOvRAYFAaHXna1X4fksCjD7YEmlJNaGoPoLB9ZzACrUo/file [following]\n",
            "--2021-11-15 19:14:38--  https://uc6b8200b0308203dd2f29eff6c2.dl.dropboxusercontent.com/cd/0/inline2/BaD9x5_0OrRfc62qOf8UM1kMjUBs8NsKCGkEOXf5dUl5rSFekb9P2C7jsvyW0ISM6PooU0em8DehXCC6YeFmdg-5QpybmoR82FT6kegTGDCJ-u798uVX4lS2-Cbj9R_tAzoaJYZtKbHuUWjdADHp3NgdvRggFVwM5rsBem_G9-6bSleMI3994u8f02_t9NpJUCiwCIe7DnClqsSQHB95bHYQwE9NIxNJBopvK-QzQ88ajPv2i2ZTd0UFHJTpM7cfxrIs06JZcXfkOkLzXFh2S37EAmxS4DAxgncLImAr7pXNSL27l2cwPZV7XzwyuZ71nxgWM5zzqYgNPiO8tMey0DoEOvRAYFAaHXna1X4fksCjD7YEmlJNaGoPoLB9ZzACrUo/file\n",
            "Reusing existing connection to uc6b8200b0308203dd2f29eff6c2.dl.dropboxusercontent.com:443.\n",
            "HTTP request sent, awaiting response... 200 OK\n",
            "Length: 5019434005 (4.7G) [application/zip]\n",
            "Saving to: ‘tutorial/models/Task055_SegTHOR.zip’\n",
            "\n",
            "tutorial/models/Tas 100%[===================>]   4.67G  14.8MB/s    in 4m 36s  \n",
            "\n",
            "2021-11-15 19:19:14 (17.3 MB/s) - ‘tutorial/models/Task055_SegTHOR.zip’ saved [5019434005/5019434005]\n",
            "\n"
          ]
        }
      ]
    },
    {
      "cell_type": "markdown",
      "metadata": {
        "id": "62yhEkkjITzn"
      },
      "source": [
        "Unpack and install model (under `PATH_TO_MODEL_FILE`)."
      ]
    },
    {
      "cell_type": "code",
      "metadata": {
        "id": "QOVsPuzxIOXX"
      },
      "source": [
        "%%capture\n",
        "!nnUNet_install_pretrained_model_from_zip $PATH_TO_MODEL_FILE"
      ],
      "execution_count": 37,
      "outputs": []
    },
    {
      "cell_type": "markdown",
      "metadata": {
        "id": "5jerJXiNbcgo"
      },
      "source": [
        "## Data Pre-processing\n",
        "\n",
        "In order to run the AI segmentation pipeline, we need to convert the DICOM data in a format which python can easily handle\n",
        "\n",
        "Using the simple Plastimatch wrapper, let's convert the DICOM CT series in both NRRD (very flexible, simple handling with SimpleITK) and NIfTI (as required by the nnU-Net pipeline) format. Furthermore, we are going to convert the DICOM RTSTRUCT Series into a NRRD volume as well - to allow for comparison between the manual and automatic segmentation, later in the notebook.\n"
      ]
    },
    {
      "cell_type": "code",
      "metadata": {
        "id": "vI7JuZhZbiXP"
      },
      "source": [
        "from tutorial.pyplastimatch import pyplastimatch as pypla\n",
        "from tutorial.pyplastimatch.utils import viz as viz_utils\n",
        "from tutorial.pyplastimatch.utils import data as data_utils"
      ],
      "execution_count": 22,
      "outputs": []
    },
    {
      "cell_type": "code",
      "metadata": {
        "colab": {
          "base_uri": "https://localhost:8080/"
        },
        "id": "7gLUnOsJDmaU",
        "outputId": "a7f1deb3-2f27-462e-c7f5-09ccb2cc6024"
      },
      "source": [
        "pat = \"LUNG1-002\"\n",
        "StudyInstanceUID = case002_df[\"StudyInstanceUID\"].unique()[0]\n",
        "SeriesInstanceUID_ct = case002_df[case002_df[\"Modality\"]==\"CT\"][\"SeriesInstanceUID\"].unique()[0]\n",
        "SeriesInstanceUID_rt = case002_df[case002_df[\"Modality\"]==\"RTSTRUCT\"][\"SeriesInstanceUID\"].unique()[0]\n",
        "\n",
        "# directories storing NRRD and NIfTI files\n",
        "base_preproc_path = \"tutorial/data/processed\"\n",
        "\n",
        "pat_dir_path_nrrd = os.path.join(base_preproc_path, \"nrrd\", pat)\n",
        "pat_dir_path_nii = os.path.join(base_preproc_path, \"nii\", pat)\n",
        "  \n",
        "# patient subfolder where all the preprocessed NRRDs will be stored\n",
        "if not os.path.exists(pat_dir_path_nrrd): os.makedirs(pat_dir_path_nrrd)\n",
        "  \n",
        "# patient subfolder where all the preprocessed NIfTIs will be stored\n",
        "if not os.path.exists(pat_dir_path_nii): os.makedirs(pat_dir_path_nii)\n",
        "\n",
        "# path to the directory where the DICOM CT file is stored\n",
        "path_to_ct_dir = os.path.join(\"tutorial/data/dicom\", pat,\n",
        "                              StudyInstanceUID, SeriesInstanceUID_ct)\n",
        "\n",
        "# path to the files where the NRRD and NIfTI CTs will be stored\n",
        "ct_nrrd_path = os.path.join(pat_dir_path_nrrd, pat + \"_ct.nrrd\")\n",
        "ct_nii_path = os.path.join(pat_dir_path_nii, pat + \"_ct.nii.gz\")\n",
        "\n",
        "\n",
        "# path to the directory where the DICOM RTSTRUCT file is stored\n",
        "path_to_rt_dir = os.path.join(\"tutorial/data/dicom\", pat,\n",
        "                              StudyInstanceUID, SeriesInstanceUID_rt)\n",
        "\n",
        "# path to the files where the NRRD RTSTRUCTs will be stored\n",
        "rt_folder = os.path.join(pat_dir_path_nrrd, \"RTSTRUCT\")\n",
        "rt_list_path = os.path.join(pat_dir_path_nrrd, \"RTSTRUCT_content\")\n",
        "\n",
        "\n",
        "verbose = True\n",
        "\n",
        "# logfile for the plastimatch conversion\n",
        "log_file_path_nrrd = os.path.join(pat_dir_path_nrrd, pat + '_pypla.log')\n",
        "log_file_path_nii = os.path.join(pat_dir_path_nii, pat + '_pypla.log')\n",
        "  \n",
        "# DICOM CT to NRRD conversion (if the file doesn't exist yet)\n",
        "if not os.path.exists(ct_nrrd_path):\n",
        "  convert_args_ct = {\"input\" : path_to_ct_dir,\n",
        "                     \"output-img\" : ct_nrrd_path}\n",
        "  \n",
        "  # clean old log file if it exist\n",
        "  if os.path.exists(log_file_path_nrrd): os.remove(log_file_path_nrrd)\n",
        "  \n",
        "  pypla.convert(verbose = verbose, path_to_log_file = log_file_path_nrrd, **convert_args_ct)\n",
        "\n",
        "# DICOM RTSTRUCT to NRRD conversion (if the file doesn't exist yet)\n",
        "if not os.path.exists(rt_folder):\n",
        "  convert_args_rt = {\"input\" : path_to_rt_dir, \n",
        "                     \"referenced-ct\" : path_to_ct_dir,\n",
        "                     \"output-prefix\" : rt_folder,\n",
        "                     \"prefix-format\" : 'nrrd',\n",
        "                     \"output-ss-list\" : rt_list_path}\n",
        "  \n",
        "  # clean old log file if it exist\n",
        "  if os.path.exists(log_file_path_nrrd): os.remove(log_file_path_nrrd)\n",
        "  \n",
        "  pypla.convert(verbose = verbose, path_to_log_file = log_file_path_nrrd, **convert_args_rt)\n",
        "\n",
        "# DICOM CT to NIfTI conversion (if the file doesn't exist yet)\n",
        "if not os.path.exists(ct_nii_path):\n",
        "  convert_args_nii = {\"input\" : path_to_ct_dir, \n",
        "                      \"output-img\" : ct_nii_path}\n",
        "  \n",
        "  # clean old log file if it exist\n",
        "  if os.path.exists(log_file_path_nii): os.remove(log_file_path_nii)\n",
        "  \n",
        "  pypla.convert(verbose = verbose, path_to_log_file = log_file_path_nii, **convert_args_nii)"
      ],
      "execution_count": 31,
      "outputs": [
        {
          "output_type": "stream",
          "name": "stdout",
          "text": [
            "\n",
            "Running 'plastimatch convert' with the specified arguments:\n",
            "  --input tutorial/data/dicom/LUNG1-002/1.3.6.1.4.1.32722.99.99.203715003805996641695765332389135385095/1.3.6.1.4.1.32722.99.99.232988001551799080335895423941323261228\n",
            "  --output-img tutorial/data/processed/nrrd/LUNG1-002/LUNG1-002_ct.nrrd\n",
            "... Done.\n",
            "\n",
            "Running 'plastimatch convert' with the specified arguments:\n",
            "  --input tutorial/data/dicom/LUNG1-002/1.3.6.1.4.1.32722.99.99.203715003805996641695765332389135385095/1.3.6.1.4.1.32722.99.99.243267551266911245830259417117543245931\n",
            "  --referenced-ct tutorial/data/dicom/LUNG1-002/1.3.6.1.4.1.32722.99.99.203715003805996641695765332389135385095/1.3.6.1.4.1.32722.99.99.232988001551799080335895423941323261228\n",
            "  --output-prefix tutorial/data/processed/nrrd/LUNG1-002/RTSTRUCT\n",
            "  --prefix-format nrrd\n",
            "  --output-ss-list tutorial/data/processed/nrrd/LUNG1-002/RTSTRUCT_content\n",
            "... Done.\n",
            "\n",
            "Running 'plastimatch convert' with the specified arguments:\n",
            "  --input tutorial/data/dicom/LUNG1-002/1.3.6.1.4.1.32722.99.99.203715003805996641695765332389135385095/1.3.6.1.4.1.32722.99.99.232988001551799080335895423941323261228\n",
            "  --output-img tutorial/data/processed/nii/LUNG1-002/LUNG1-002_ct.nii.gz\n",
            "... Done.\n"
          ]
        }
      ]
    },
    {
      "cell_type": "markdown",
      "metadata": {
        "id": "CcYxd4NAFNps"
      },
      "source": [
        "As a last step before running the lung nodules segmentation pipeline, we need to make sure the folder storing the data follows the structure required by the nnU-Net framework, described at the [dedicated documentation page](https://github.com/MIC-DKFZ/nnUNet/blob/master/documentation/dataset_conversion.md)."
      ]
    },
    {
      "cell_type": "code",
      "metadata": {
        "id": "3CFhNcscFOtA"
      },
      "source": [
        "# create a folder (random task name) for nnU-Net inference\n",
        "proc_folder_path = os.path.join(os.environ[\"nnUNet_raw_data_base\"],\n",
        "                                \"segthor\", \"imagesTs\")\n",
        "\n",
        "!mkdir -p $proc_folder_path\n",
        "\n",
        "# populate the folder following the nnU-Net naming conventions\n",
        "copy_path = os.path.join(proc_folder_path, pat + \"_0000.nii.gz\")\n",
        "\n",
        "# copy NIfTI to the right dir for nnU-Net processing\n",
        "if not os.path.exists(copy_path):\n",
        "  shutil.copy(src = ct_nii_path, dst = copy_path)"
      ],
      "execution_count": 32,
      "outputs": []
    },
    {
      "cell_type": "markdown",
      "metadata": {
        "id": "O2ci1vFuJTlG"
      },
      "source": [
        "## Segmentation of thoracic structures from CT series"
      ]
    },
    {
      "cell_type": "markdown",
      "metadata": {
        "id": "xvazHm6AFXVx"
      },
      "source": [
        "### Inference \n",
        "\n",
        "In order to run the segmentation pipeline, we can follow the [\"run inference\" section of the nnU-Net documentation](https://github.com/MIC-DKFZ/nnUNet#how-to-run-inference-with-pretrained-models), specifying the path to the input and output folders defined in the sections above, and the pretrained model we want to use (i.e., the one we downloaded earlier).\n",
        "\n",
        "For the purpose of this notebook, to make the processing faster, we are not going to use an ensemble of different U-Net configurations for inference or test time augmentation (TTA). You are invited to explore these options later - and if you decide to do so, you can read [this example](https://github.com/MIC-DKFZ/nnUNet/blob/master/documentation/inference_example_Prostate.md) from the nnU-Net documentation to learn how this can be achieved.\n",
        "\n",
        "To learn more about all the arguments that can be specified to the `nnUNet_predict` command, run `nnUNet_predict --help`."
      ]
    },
    {
      "cell_type": "code",
      "metadata": {
        "colab": {
          "base_uri": "https://localhost:8080/"
        },
        "id": "c0y_wAH7HC8b",
        "outputId": "7bdf8e35-4aec-473f-b860-96554977f502"
      },
      "source": [
        "!echo $RESULTS_FOLDER"
      ],
      "execution_count": 34,
      "outputs": [
        {
          "output_type": "stream",
          "name": "stdout",
          "text": [
            "/content/tutorial/output/\n"
          ]
        }
      ]
    },
    {
      "cell_type": "code",
      "metadata": {
        "id": "Ru-h4nGMH1Pw"
      },
      "source": [
        "!mkdir -p /content/tutorial/output/nnUNet/2d/Task055_SegTHOR/nnUNetTrainerV2__nnUNetPlansv2.1"
      ],
      "execution_count": 35,
      "outputs": []
    },
    {
      "cell_type": "code",
      "metadata": {
        "colab": {
          "base_uri": "https://localhost:8080/"
        },
        "id": "cAEBKIbQFgLw",
        "outputId": "de8e5a01-a9bb-495f-b2de-3c59cca720e9"
      },
      "source": [
        "# run the inference phase\n",
        "# accepted options for --model are: 2d, 3d_lowres, 3d_fullres or 3d_cascade_fullres\n",
        "!nnUNet_predict --input_folder \"tutorial/data/nnUNet_raw_data/segthor/imagesTs\" \\\n",
        "                --output_folder $RESULTS_FOLDER \\\n",
        "                --task_name \"Task055_SegTHOR\" --model 2d --disable_tta "
      ],
      "execution_count": 38,
      "outputs": [
        {
          "output_type": "stream",
          "name": "stdout",
          "text": [
            "\n",
            "\n",
            "Please cite the following paper when using nnUNet:\n",
            "\n",
            "Isensee, F., Jaeger, P.F., Kohl, S.A.A. et al. \"nnU-Net: a self-configuring method for deep learning-based biomedical image segmentation.\" Nat Methods (2020). https://doi.org/10.1038/s41592-020-01008-z\n",
            "\n",
            "\n",
            "If you have questions or suggestions, feel free to open an issue at https://github.com/MIC-DKFZ/nnUNet\n",
            "\n",
            "using model stored in  /content/tutorial/output/nnUNet/2d/Task055_SegTHOR/nnUNetTrainerV2__nnUNetPlansv2.1\n",
            "This model expects 1 input modalities for each image\n",
            "Found 1 unique case ids, here are some examples: ['LUNG1-002']\n",
            "If they don't look right, make sure to double check your filenames. They must end with _0000.nii.gz etc\n",
            "number of cases: 1\n",
            "number of cases that still need to be predicted: 1\n",
            "emptying cuda cache\n",
            "loading parameters for folds, None\n",
            "folds is None so we will automatically look for output folders (not using 'all'!)\n",
            "found the following folds:  ['/content/tutorial/output/nnUNet/2d/Task055_SegTHOR/nnUNetTrainerV2__nnUNetPlansv2.1/fold_0', '/content/tutorial/output/nnUNet/2d/Task055_SegTHOR/nnUNetTrainerV2__nnUNetPlansv2.1/fold_1', '/content/tutorial/output/nnUNet/2d/Task055_SegTHOR/nnUNetTrainerV2__nnUNetPlansv2.1/fold_2', '/content/tutorial/output/nnUNet/2d/Task055_SegTHOR/nnUNetTrainerV2__nnUNetPlansv2.1/fold_3', '/content/tutorial/output/nnUNet/2d/Task055_SegTHOR/nnUNetTrainerV2__nnUNetPlansv2.1/fold_4']\n",
            "using the following model files:  ['/content/tutorial/output/nnUNet/2d/Task055_SegTHOR/nnUNetTrainerV2__nnUNetPlansv2.1/fold_0/model_final_checkpoint.model', '/content/tutorial/output/nnUNet/2d/Task055_SegTHOR/nnUNetTrainerV2__nnUNetPlansv2.1/fold_1/model_final_checkpoint.model', '/content/tutorial/output/nnUNet/2d/Task055_SegTHOR/nnUNetTrainerV2__nnUNetPlansv2.1/fold_2/model_final_checkpoint.model', '/content/tutorial/output/nnUNet/2d/Task055_SegTHOR/nnUNetTrainerV2__nnUNetPlansv2.1/fold_3/model_final_checkpoint.model', '/content/tutorial/output/nnUNet/2d/Task055_SegTHOR/nnUNetTrainerV2__nnUNetPlansv2.1/fold_4/model_final_checkpoint.model']\n",
            "starting preprocessing generator\n",
            "starting prediction...\n",
            "preprocessing /content/tutorial/output/LUNG1-002.nii.gz\n",
            "using preprocessor PreprocessorFor2D\n",
            "before crop: (1, 111, 512, 512) after crop: (1, 111, 512, 512) spacing: [2.99999952 0.977      0.977     ] \n",
            "\n",
            "no resampling necessary\n",
            "no resampling necessary\n",
            "before: {'spacing': array([2.99999952, 0.977     , 0.977     ]), 'spacing_transposed': array([2.99999952, 0.977     , 0.977     ]), 'data.shape (data is transposed)': (1, 111, 512, 512)} \n",
            "after:  {'spacing': array([2.99999952, 0.97656202, 0.97656202]), 'data.shape (data is resampled)': (1, 111, 512, 512)} \n",
            "\n",
            "normalization...\n",
            "normalization done\n",
            "(1, 111, 512, 512)\n",
            "This worker has ended successfully, no errors to report\n",
            "predicting /content/tutorial/output/LUNG1-002.nii.gz\n",
            "debug: mirroring False mirror_axes (0, 1)\n",
            "debug: mirroring False mirror_axes (0, 1)\n",
            "debug: mirroring False mirror_axes (0, 1)\n",
            "debug: mirroring False mirror_axes (0, 1)\n",
            "debug: mirroring False mirror_axes (0, 1)\n",
            "inference done. Now waiting for the segmentation export to finish...\n",
            "force_separate_z: None interpolation order: 1\n",
            "no resampling necessary\n",
            "postprocessing...\n"
          ]
        }
      ]
    },
    {
      "cell_type": "markdown",
      "metadata": {
        "id": "wu7UIDM6JY2Z"
      },
      "source": [
        "### Post-processing of inference results\n",
        "\n",
        "After the inference is finished, we can convert the segmentation masks back to NRRD for visualisation purposes and for easier handling."
      ]
    },
    {
      "cell_type": "code",
      "metadata": {
        "colab": {
          "base_uri": "https://localhost:8080/"
        },
        "id": "Lq1fP6XHJfoS",
        "outputId": "58124f60-7c02-4318-8bde-1897689af690"
      },
      "source": [
        "pred_nii_path = os.path.join(os.environ[\"RESULTS_FOLDER\"], pat + \".nii.gz\")\n",
        "\n",
        "sitk_ct = sitk.ReadImage(ct_nrrd_path)\n",
        "\n",
        "nrrd_spacing = sitk_ct.GetSpacing()\n",
        "nrrd_dim = sitk_ct.GetSize()\n",
        "\n",
        "nii_spacing = tuple(nib.load(pred_nii_path).header['pixdim'][1:4])\n",
        "nii_dim = tuple(nib.load(pred_nii_path).get_fdata().shape)\n",
        "\n",
        "assert (nrrd_spacing == nii_spacing) & (nrrd_dim == nii_dim)\n",
        "\n",
        "## ----------------------------------------\n",
        "# NIfTI TO NRRD CONVERSION\n",
        "\n",
        "# path to the output NRRD file (inferred segmasks)\n",
        "pred_nrrd_path = os.path.join(pat_dir_path_nrrd, pat + \"_pred_segthor.nrrd\")\n",
        "log_file_path = os.path.join(pat_dir_path_nrrd, pat + \"_pypla.log\")\n",
        "\n",
        "# Inferred NIfTI segmask to NRRD\n",
        "convert_args_pred = {\"input\" : pred_nii_path, \n",
        "                     \"output-img\" : pred_nrrd_path}\n",
        "\n",
        "pypla.convert(path_to_log_file = log_file_path, **convert_args_pred)"
      ],
      "execution_count": 39,
      "outputs": [
        {
          "output_type": "stream",
          "name": "stdout",
          "text": [
            "\n",
            "Running 'plastimatch convert' with the specified arguments:\n",
            "  --input /content/tutorial/output/LUNG1-002.nii.gz\n",
            "  --output-img tutorial/data/processed/nrrd/LUNG1-002/LUNG1-002_pred_segthor.nrrd\n",
            "... Done.\n"
          ]
        }
      ]
    },
    {
      "cell_type": "markdown",
      "metadata": {
        "id": "ShIjT6jEJkK-"
      },
      "source": [
        "### Visualising the Segmentation Masks\n",
        "\n",
        "We can visualise the raw AI-inferred segmentation mask (heart, aorta, esophagus, amd treachea - in green, yellow, red, and blue, respectively) and compare the heart (and esophagus, if available for the randomly selected patient) segmentation to the manual delineation."
      ]
    },
    {
      "cell_type": "code",
      "metadata": {
        "id": "p__wFByuJjrL"
      },
      "source": [
        "# load NRRD volumes\n",
        "ct_nrrd = sitk.GetArrayFromImage(sitk_ct)\n",
        "\n",
        "# inferred segmask\n",
        "pred_nrrd_segthor = sitk.GetArrayFromImage(sitk.ReadImage(pred_nrrd_path))\n",
        "\n",
        "pred_nrrd_esophagus = np.copy(pred_nrrd_segthor)\n",
        "pred_nrrd_heart = np.copy(pred_nrrd_segthor)\n",
        "pred_nrrd_trachea = np.copy(pred_nrrd_segthor)\n",
        "pred_nrrd_aorta = np.copy(pred_nrrd_segthor)\n",
        "  \n",
        "# zero every segmask other than the esophagus and make the mask binary (0/1)\n",
        "pred_nrrd_esophagus[pred_nrrd_segthor != 1] = 0\n",
        "pred_nrrd_esophagus[pred_nrrd_esophagus != 0] = 1\n",
        "  \n",
        "# zero every segmask other than the heart and make the mask binary (0/1)\n",
        "pred_nrrd_heart[pred_nrrd_segthor != 2] = 0\n",
        "pred_nrrd_heart[pred_nrrd_heart != 0] = 1\n",
        "  \n",
        "# zero every segmask other than the trachea and make the mask binary (0/1)\n",
        "pred_nrrd_trachea[pred_nrrd_segthor != 3] = 0\n",
        "pred_nrrd_trachea[pred_nrrd_trachea != 0] = 1\n",
        "  \n",
        "# zero every segmask other than the aorta and make the mask binary (0/1)\n",
        "pred_nrrd_aorta[pred_nrrd_segthor != 4] = 0\n",
        "pred_nrrd_aorta[pred_nrrd_aorta != 0] = 1\n",
        "\n",
        "\n",
        "# manual segmask (from the RTSTRUCT)\n",
        "rt_segmask_heart = os.path.join(pat_dir_path_nrrd, \"RTSTRUCT\", \"Heart.nrrd\")\n",
        "rt_nrrd_heart = sitk.GetArrayFromImage(sitk.ReadImage(rt_segmask_heart))\n",
        "\n",
        "try:\n",
        "  rt_segmask_esophagus = os.path.join(pat_dir_path_nrrd, \"RTSTRUCT\", \"Esophagus.nrrd\")\n",
        "  rt_nrrd_esophagus = sitk.GetArrayFromImage(sitk.ReadImage(rt_segmask_esophagus))\n",
        "except:\n",
        "  # for the sake of simplicity, fill the volume with zeros\n",
        "  # (so that we can keep the code that comes after the same)\n",
        "  rt_nrrd_esophagus = np.zeros(rt_nrrd_heart.shape)"
      ],
      "execution_count": 40,
      "outputs": []
    },
    {
      "cell_type": "code",
      "metadata": {
        "colab": {
          "base_uri": "https://localhost:8080/",
          "height": 537,
          "referenced_widgets": [
            "d8fe5ebaba524f4189deee399d84585d",
            "902fe2f3d1c046ed96c78f841bce9828",
            "dc0f93365b4e4568b8b6a41ff20d85a4",
            "b026571f64ab4886b3b929c10a02b814",
            "6e8328554a9e49a19967c2e7bd2f2f54",
            "27f14ca5440341cd9a50aeb1226dd345",
            "3f13fae7690c4e3986a3dbbf2c5d11e1",
            "68226e3dc0f54a9e8fb7f91aa7c1cc34",
            "0aaa7ff2055a41d6af61c5047b7446cc",
            "4ab4135d2c614af4b9a75a3aaf54efe7",
            "0b2e583b98724142a3ef98715d56df54"
          ]
        },
        "id": "I2Ll9UABJsFg",
        "outputId": "4a59b5ad-636c-4f82-d009-18133c828323"
      },
      "source": [
        "_ = viz_utils.AxialSliceSegmaskComparison(ct_volume = ct_nrrd,\n",
        "                                          segmask_ai_dict = {\"Heart\" : pred_nrrd_heart,\n",
        "                                                             \"Aorta\" : pred_nrrd_aorta,\n",
        "                                                             \"Trachea\" : pred_nrrd_trachea,\n",
        "                                                             \"Esophagus\" : pred_nrrd_esophagus},\n",
        "                                          segmask_manual_dict = {\"Heart\" : rt_nrrd_heart,\n",
        "                                                                 \"Esophagus\" : rt_nrrd_esophagus},\n",
        "                                          segmask_cmap_dict = {\"Heart\" : my_greens,\n",
        "                                                               \"Aorta\" : my_spring,\n",
        "                                                               \"Esophagus\" : my_reds,\n",
        "                                                               \"Trachea\" : my_blues},\n",
        "                                          dpi = 100)"
      ],
      "execution_count": 41,
      "outputs": [
        {
          "output_type": "display_data",
          "data": {
            "application/vnd.jupyter.widget-view+json": {
              "model_id": "d8fe5ebaba524f4189deee399d84585d",
              "version_minor": 0,
              "version_major": 2
            },
            "text/plain": [
              "interactive(children=(Output(),), _dom_classes=('widget-interact',))"
            ]
          },
          "metadata": {}
        }
      ]
    },
    {
      "cell_type": "code",
      "metadata": {
        "colab": {
          "base_uri": "https://localhost:8080/",
          "height": 701,
          "referenced_widgets": [
            "577ebea178e545c8be0f29624aa7cfd0",
            "5fc36a6ad7214f818da794ec38fdbf86",
            "9b88d5044d9b4402ae747f766f9b5c20",
            "cfd6bce01ca247b2a85566bddf793ebe",
            "3095a84453814fb9975c4477e342a0b9",
            "40f4b838c9f8401d86fa7db429870bf3",
            "74f20225d20b43af9d790fceaa03ccbf",
            "89b06ed3f7fa49eca23941fcc23b1c2b",
            "1707ce2868d64da696b8c6e2c9758899",
            "ac16b8dfb9b14108bd916c06fe31e9e3",
            "3394593d2b604ebaac3fba962038a2c4"
          ]
        },
        "id": "_TiIfDIvQ317",
        "outputId": "3d68b679-4fe7-4bc8-dd5e-c6abb8acaba2"
      },
      "source": [
        "_ = viz_utils.AxialSliceSegmaskViz(ct_volume = ct_nrrd,\n",
        "                                          segmask_dict = {\"Heart\" : pred_nrrd_heart,\n",
        "                                                             \"Aorta\" : pred_nrrd_aorta,\n",
        "                                                             \"Trachea\" : pred_nrrd_trachea,\n",
        "                                                             \"Esophagus\" : pred_nrrd_esophagus},\n",
        "                                          segmask_cmap_dict = {\"Heart\" : my_greens,\n",
        "                                                               \"Aorta\" : my_spring,\n",
        "                                                               \"Esophagus\" : my_reds,\n",
        "                                                               \"Trachea\" : my_blues},\n",
        "                                          dpi = 100)"
      ],
      "execution_count": 48,
      "outputs": [
        {
          "output_type": "display_data",
          "data": {
            "application/vnd.jupyter.widget-view+json": {
              "model_id": "577ebea178e545c8be0f29624aa7cfd0",
              "version_minor": 0,
              "version_major": 2
            },
            "text/plain": [
              "interactive(children=(Output(),), _dom_classes=('widget-interact',))"
            ]
          },
          "metadata": {}
        }
      ]
    },
    {
      "cell_type": "markdown",
      "metadata": {
        "id": "MhfNqPxNJ-xz"
      },
      "source": [
        "### Quantitative assessment of the results\n",
        "\n",
        "Let's start by defining a function to compute the center of mass (CoM) of the segmentation masks. Before computing the common segmentation metrics, the CoM can give us a rough idea of how different the 3D delineations are and if there are any major labelling errors (which we could correct, e.g., with a largest connected component analysis).\n",
        "\n",
        "We will base our function on the [implementation](https://github.com/AIM-Harvard/pyradiomics/blob/master/radiomics/generalinfo.py) found in the open source [PyRadiomics library](https://github.com/AIM-Harvard/pyradiomics)."
      ]
    },
    {
      "cell_type": "code",
      "metadata": {
        "id": "tYF05ymwKMhE"
      },
      "source": [
        "def getCenterOfMassIndexValue(input_mask):\n",
        "    \n",
        "    \"\"\"\n",
        "    Returns z, y and x coordinates of the center of mass of the ROI in terms of\n",
        "    the image coordinate space (continuous index).\n",
        "\n",
        "    Calculation is based on the original (non-resampled) mask.\n",
        "    Because this represents the continuous index, the order of x, y and z is reversed,\n",
        "    i.e. the first element is the z index, the second the y index and the last element is the x index.\n",
        "\n",
        "    @params:\n",
        "      input_mask - required : numpy (binary) volume storing the segmentation mask.\n",
        "\n",
        "    \"\"\"\n",
        "\n",
        "    if input_mask is not None:\n",
        "      mask_coordinates = np.array(np.where(input_mask == 1))\n",
        "      center_index = np.mean(mask_coordinates, axis = 1)\n",
        "      return tuple(center_index)\n",
        "    else:\n",
        "      return None"
      ],
      "execution_count": 42,
      "outputs": []
    },
    {
      "cell_type": "code",
      "metadata": {
        "colab": {
          "base_uri": "https://localhost:8080/"
        },
        "id": "Xl_qnwbuKOn8",
        "outputId": "26cd8df7-c881-4b3f-e7e7-bec35af2f625"
      },
      "source": [
        "com_manual_heart = np.array(getCenterOfMassIndexValue(rt_nrrd_heart))\n",
        "com_manual_heart_int = np.ceil(com_manual_heart).astype(dtype = np.uint16)\n",
        "\n",
        "com_raw_heart = np.array(getCenterOfMassIndexValue(pred_nrrd_heart))\n",
        "com_raw_heart_int = np.ceil(com_raw_heart).astype(dtype = np.uint16)\n",
        "\n",
        "print(\"Heart Center of Mass (raw AI segmentation) \\t:\", com_raw_heart_int)\n",
        "print(\"Heart Center of Mass (manual segmentation) \\t:\", com_manual_heart_int)"
      ],
      "execution_count": 43,
      "outputs": [
        {
          "output_type": "stream",
          "name": "stdout",
          "text": [
            "Heart Center of Mass (raw AI segmentation) \t: [ 37 210 287]\n",
            "Heart Center of Mass (manual segmentation) \t: [ 34 208 292]\n"
          ]
        }
      ]
    },
    {
      "cell_type": "code",
      "metadata": {
        "colab": {
          "base_uri": "https://localhost:8080/"
        },
        "id": "jnN020q0KS_e",
        "outputId": "84150d03-e8e2-41e6-f27d-7c3a17825fe4"
      },
      "source": [
        "com_manual_heart = np.array(getCenterOfMassIndexValue(rt_nrrd_heart))\n",
        "com_manual_heart_int = np.ceil(com_manual_heart).astype(dtype = np.uint16)\n",
        "\n",
        "com_raw_heart = np.array(getCenterOfMassIndexValue(pred_nrrd_heart))\n",
        "com_raw_heart_int = np.ceil(com_raw_heart).astype(dtype = np.uint16)\n",
        "\n",
        "print(\"Heart Center of Mass (raw AI segmentation) \\t:\", com_raw_heart_int)\n",
        "print(\"Heart Center of Mass (manual segmentation) \\t:\", com_manual_heart_int)\n",
        "\n",
        "## ----------------------------------------\n",
        "\n",
        "# run this if and only if a manual esophagus segmentation mask is available\n",
        "if np.sum(rt_nrrd_esophagus):\n",
        "\n",
        "  com_manual_esophagus = np.array(getCenterOfMassIndexValue(rt_nrrd_esophagus))\n",
        "  com_manual_esophagus_int = np.ceil(com_manual_esophagus).astype(dtype = np.uint16)\n",
        "\n",
        "  com_raw_esophagus = np.array(getCenterOfMassIndexValue(pred_nrrd_esophagus))\n",
        "  com_raw_esophagus_int = np.ceil(com_raw_esophagus).astype(dtype = np.uint16)\n",
        "\n",
        "  print(\"\\nEsophagus Center of Mass (raw AI segmentation) \\t:\", com_raw_esophagus_int)\n",
        "  print(\"Esophagus Center of Mass (manual segmentation) \\t:\", com_manual_esophagus_int)"
      ],
      "execution_count": 44,
      "outputs": [
        {
          "output_type": "stream",
          "name": "stdout",
          "text": [
            "Heart Center of Mass (raw AI segmentation) \t: [ 37 210 287]\n",
            "Heart Center of Mass (manual segmentation) \t: [ 34 208 292]\n",
            "\n",
            "Esophagus Center of Mass (raw AI segmentation) \t: [ 58 260 263]\n",
            "Esophagus Center of Mass (manual segmentation) \t: [ 55 255 267]\n"
          ]
        }
      ]
    },
    {
      "cell_type": "markdown",
      "metadata": {
        "id": "rYBAo8SzKW31"
      },
      "source": [
        "Another common way to evaluate the quality of the segmentation is computing the Dice Coefficient between the AI segmentation and the manual one. To do so, we will use [MedPy's implementation of the Dice coefficient](https://loli.github.io/medpy/generated/medpy.metric.binary.dc.html#medpy-metric-binary-dc) (for binary masks).\n",
        "\n",
        "We can use other MedPy's functions to compute the Hausdorff distance and the average surface distance as well*.\n",
        "\n",
        "_*in most cases, the Hausdorff Distance will be quite high for both the heart segmentation and, if available with the randomly selected patient, the esophagus one. This is not a clear indication the model performance is poor: rather, it could also be the segmentation guidelines of the two datasets (the one the nnU-Net model was trained on and the external and independent validation dataset pulled from IDC) differ significantly._"
      ]
    },
    {
      "cell_type": "code",
      "metadata": {
        "colab": {
          "base_uri": "https://localhost:8080/"
        },
        "id": "k1xANs3rKWTo",
        "outputId": "11e587a1-eb82-48d2-8812-ccc0320edb5b"
      },
      "source": [
        "pred_nrrd_path = os.path.join(pat_dir_path_nrrd, pat + \"_pred_segthor.nrrd\")\n",
        "\n",
        "\n",
        "voxel_spacing = list(sitk_ct.GetSpacing())\n",
        "\n",
        "dc_heart = dice_coef(pred_nrrd_heart, rt_nrrd_heart)\n",
        "hd_heart = hausdorff_distance(pred_nrrd_heart, rt_nrrd_heart, voxelspacing = voxel_spacing)\n",
        "asd_heart = avg_surf_distance(pred_nrrd_heart, rt_nrrd_heart, voxelspacing = voxel_spacing)\n",
        "\n",
        "print(\"Heart Dice Coefficient (raw segmentation) :\", dc_heart)\n",
        "print(\"Heart Hausdorff Distance (raw segmentation) [mm]:\", hd_heart)\n",
        "print(\"Heart Average Surface Distance (raw segmentation) [mm]:\", asd_heart)\n",
        "\n",
        "\n",
        "# run this if and only if a manual esophagus segmentation mask is available\n",
        "if np.sum(rt_nrrd_esophagus):\n",
        "  dc_esophagus = dice_coef(pred_nrrd_esophagus, rt_nrrd_esophagus)\n",
        "  hd_esophagus = hausdorff_distance(pred_nrrd_esophagus, rt_nrrd_esophagus, voxelspacing = voxel_spacing)\n",
        "  asd_esophagus = avg_surf_distance(pred_nrrd_esophagus, rt_nrrd_esophagus, voxelspacing = voxel_spacing)\n",
        "\n",
        "  print(\"\\nEsophagus Dice Coefficient (raw segmentation) :\", dc_esophagus)\n",
        "  print(\"Esophagus Hausdorff Distance (raw segmentation) [mm]:\", hd_esophagus)\n",
        "  print(\"Esophagus Average Surface Distance (raw segmentation) [mm]:\", asd_esophagus)\n",
        "\n"
      ],
      "execution_count": 45,
      "outputs": [
        {
          "output_type": "stream",
          "name": "stdout",
          "text": [
            "Heart Dice Coefficient (raw segmentation) : 0.8252127939466718\n",
            "Heart Hausdorff Distance (raw segmentation) [mm]: 12.700999975204468\n",
            "Heart Average Surface Distance (raw segmentation) [mm]: 2.9681121353266513\n",
            "\n",
            "Esophagus Dice Coefficient (raw segmentation) : 0.726747077841333\n",
            "Esophagus Hausdorff Distance (raw segmentation) [mm]: 84.63958609029844\n",
            "Esophagus Average Surface Distance (raw segmentation) [mm]: 1.016668111527261\n"
          ]
        }
      ]
    },
    {
      "cell_type": "markdown",
      "metadata": {
        "id": "6ehkQblEkgxe"
      },
      "source": [
        "## Exercises, next steps, getting help, references\n",
        "\n",
        "* I want to train my network, not run inference - what do I do?"
      ]
    }
  ]
}