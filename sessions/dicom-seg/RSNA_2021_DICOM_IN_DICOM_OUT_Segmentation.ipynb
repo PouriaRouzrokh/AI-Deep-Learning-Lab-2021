{
  "nbformat": 4,
  "nbformat_minor": 0,
  "metadata": {
    "colab": {
      "name": "RSNA 2021 DICOM IN DICOM OUT Segmentation.ipynb",
      "private_outputs": true,
      "provenance": [],
      "collapsed_sections": [],
      "include_colab_link": true
    },
    "kernelspec": {
      "display_name": "Python 3",
      "language": "python",
      "name": "python3"
    },
    "accelerator": "GPU"
  },
  "cells": [
    {
      "cell_type": "markdown",
      "metadata": {
        "id": "view-in-github",
        "colab_type": "text"
      },
      "source": [
        "<a href=\"https://colab.research.google.com/github/twloehfelm/AI-Deep-Learning-Lab-2021/blob/dicom-seg/RSNA_2021_DICOM_IN_DICOM_OUT_Segmentation.ipynb\" target=\"_parent\"><img src=\"https://colab.research.google.com/assets/colab-badge.svg\" alt=\"Open In Colab\"/></a>"
      ]
    },
    {
      "cell_type": "markdown",
      "metadata": {
        "id": "SkHz0FVN6F8u"
      },
      "source": [
        "<table width=\"100%\">\n",
        "    <tr>\n",
        "      <td align=\"center\"><h1>Segmentation</h1></td>\n",
        "    </tr>\n",
        "</table>\n"
      ]
    },
    {
      "cell_type": "markdown",
      "metadata": {
        "id": "2O-42dYnoR3Q"
      },
      "source": [
        "We are going to build a generic CT segmentation tool based on the Mask RCNN network as implemented in Facebook's detectron2 library.\n",
        "\n",
        "We will train the network with native DICOM and DICOM SEG objects as input, and the network will learn to automatically segment whatever structures are in the DICOM SEG objects.\n",
        "\n",
        "This notebook is based heavily on the [detectron2](https://github.com/facebookresearch/detectron2) introductory [Colab Notebook](https://colab.research.google.com/drive/16jcaJoc6bCFAQ96jDe2HwtXj7BMD_-m5) and on examples from the [highdicom python library](https://highdicom.readthedocs.io/en/latest/). Some of the CTs and liver segmentations come from the [CHAOS Grand Challenge](https://chaos.grand-challenge.org/)."
      ]
    },
    {
      "cell_type": "markdown",
      "metadata": {
        "id": "vM54r6jlKTII"
      },
      "source": [
        "# Install required packages"
      ]
    },
    {
      "cell_type": "code",
      "metadata": {
        "id": "285hMr3L3Smh"
      },
      "source": [
        "%reload_ext autoreload\n",
        "%autoreload\n",
        "!pip install pyyaml==5.1 > /dev/null\n",
        "\n",
        "import torch\n",
        "TORCH_VERSION = \".\".join(torch.__version__.split(\".\")[:2])\n",
        "CUDA_VERSION = torch.__version__.split(\"+\")[-1]\n",
        "print(\"torch: \", TORCH_VERSION, \"; cuda: \", CUDA_VERSION)\n",
        "# Install detectron2 that matches the above pytorch version\n",
        "# See https://detectron2.readthedocs.io/tutorials/install.html for instructions\n",
        "!pip install detectron2 -f https://dl.fbaipublicfiles.com/detectron2/wheels/$CUDA_VERSION/torch$TORCH_VERSION/index.html > /dev/null\n",
        "# If there is not yet a detectron2 release that matches the given torch + CUDA version, you need to install a different pytorch.\n",
        "\n",
        "exit(0)  # After installation, you may need to \"restart runtime\" in Colab. This line can also restart runtime"
      ],
      "execution_count": null,
      "outputs": []
    },
    {
      "cell_type": "code",
      "metadata": {
        "id": "nXLLE6PlohlO"
      },
      "source": [
        "!pip3 install -q pydicom\n",
        "!pip3 install -q highdicom"
      ],
      "execution_count": null,
      "outputs": []
    },
    {
      "cell_type": "code",
      "metadata": {
        "id": "ZyAvNCJMmvFF"
      },
      "source": [
        "\n",
        "## You may need to restart your runtime prior to this, to let your installation take effect\n",
        "import torch\n",
        "# Some basic setup:\n",
        "# Setup detectron2 logger\n",
        "import detectron2\n",
        "from detectron2.utils.logger import setup_logger\n",
        "setup_logger()\n",
        "\n",
        "# import some common detectron2 utilities\n",
        "from detectron2 import model_zoo\n",
        "from detectron2.engine import DefaultPredictor, DefaultTrainer\n",
        "from detectron2.config import get_cfg\n",
        "from detectron2.utils.visualizer import Visualizer, ColorMode, GenericMask\n",
        "\n",
        "from detectron2.structures import BoxMode\n",
        "from detectron2.data import DatasetCatalog, MetadataCatalog, build_detection_train_loader, build_detection_test_loader\n",
        "from detectron2.data import transforms as T\n",
        "from detectron2.data import detection_utils as utils\n",
        "\n",
        "# import some common libraries\n",
        "import numpy as np\n",
        "import cv2\n",
        "import random\n",
        "\n",
        "# Imports for liver seg\n",
        "import os\n",
        "from pathlib import Path\n",
        "import shutil\n",
        "import pydicom\n",
        "from pydicom import dcmread\n",
        "import pycocotools\n",
        "import matplotlib.pyplot as plt\n",
        "from matplotlib import gridspec\n",
        "import copy\n",
        "from highdicom.seg.utils import iter_segments\n",
        "from pydicom.sr.codedict import codes\n",
        "from pydicom.uid import generate_uid\n",
        "from highdicom.content import AlgorithmIdentificationSequence\n",
        "from highdicom.seg.content import SegmentDescription\n",
        "from highdicom.content import PixelMeasuresSequence\n",
        "from highdicom.seg.enum import (\n",
        "  SegmentAlgorithmTypeValues,\n",
        "  SegmentationTypeValues\n",
        ")\n",
        "from highdicom.seg.sop import Segmentation\n",
        "\n",
        "#try:\n",
        "#  import google.colab\n",
        "#  IN_COLAB = True\n",
        "#except:\n",
        "#  IN_COLAB = False\n",
        "\n",
        "#if IN_COLAB:\n",
        "  # opencv is pre-installed on colab\n",
        "  # colab cannot use the standard imshow due to some html/web limitation\n",
        "#  from google.colab.patches import cv2_imshow as imshow\n",
        "#else:\n",
        "  #!pip install opencv-python\n",
        "from matplotlib.pyplot import imshow\n",
        "%matplotlib inline"
      ],
      "execution_count": null,
      "outputs": []
    },
    {
      "cell_type": "code",
      "metadata": {
        "id": "4Qg7zSVOulkb"
      },
      "source": [
        "# Download liver seg training data to root directory\n",
        "!mkdir /content/pts\n",
        "#!wget -q https://www.dropbox.com/s/gz9pyuemfu8arvw/Downloaded_subjects.zip -O /content/pts/Downloaded_subjects.zip\n",
        "!wget -q https://www.dropbox.com/s/wm3gzvmk1e97n6y/dicomseg_train.zip -O /content/pts/download.zip\n",
        "!unzip /content/pts/download.zip -d /content/pts > /dev/null # -d /content/drive/My\\ Drive/LiverSeg > /dev/null"
      ],
      "execution_count": null,
      "outputs": []
    },
    {
      "cell_type": "code",
      "metadata": {
        "id": "qi2amjKT9Trx"
      },
      "source": [
        "# Clean up data folders\n",
        "!rm -rf /content/pts/__MACOSX\n",
        "!rm -rf /content/pts/download.zip\n",
        "!rm -rf ./sample_data\n",
        "ROOT_PATH = Path('/content')\n",
        "[f.unlink() for f in sorted(ROOT_PATH.glob(\"**/.DS_Store\"))]\n",
        "pts_dir = ROOT_PATH/'pts'"
      ],
      "execution_count": null,
      "outputs": []
    },
    {
      "cell_type": "markdown",
      "metadata": {
        "id": "b2bjrfb2LDeo"
      },
      "source": [
        "# Prepare the dataset"
      ]
    },
    {
      "cell_type": "code",
      "metadata": {
        "id": "JFR6B1Kh99Bb"
      },
      "source": [
        "# Randomly split patients 90/10 into training/validation\n",
        "temp_pts = [x for x in Path(pts_dir/'dicomseg_train').iterdir() if x.is_dir()]\n",
        "random.seed(716)\n",
        "random.shuffle(temp_pts)\n",
        "idx = int(len(temp_pts)*0.9)\n",
        "train_pts = temp_pts[:idx]\n",
        "test_pts = temp_pts[idx:]\n",
        "\n",
        "for test_pt in test_pts:\n",
        "  dest = Path('/content/pts/test').joinpath(test_pt.relative_to('/content/pts/dicomseg_train'))\n",
        "  shutil.move(test_pt, dest)\n",
        "  \n",
        "\n",
        "for train_pt in train_pts:\n",
        "  dest = Path('/content/pts/training').joinpath(train_pt.relative_to('/content/pts/dicomseg_train'))\n",
        "  shutil.move(train_pt, dest)\n",
        "\n",
        "!rm -rf /content/pts/dicomseg_train\n"
      ],
      "execution_count": null,
      "outputs": []
    },
    {
      "cell_type": "code",
      "metadata": {
        "id": "Y18Zl4nPJeuR"
      },
      "source": [
        "test_pts = [x for x in Path(ROOT_PATH/'pts'/'test').iterdir() if x.is_dir()]\n",
        "train_pts = [x for x in Path(ROOT_PATH/'pts'/'training').iterdir() if x.is_dir()]\n",
        "\n",
        "# DELETE SEGMENTATION FILES FROM TEST PATIENTS to be sure they are not used/available during training!\n",
        "[shutil.rmtree(dir) for pt in test_pts for study in pt.iterdir() for dir in study.iterdir() if dir.name == 'segs']"
      ],
      "execution_count": null,
      "outputs": []
    },
    {
      "cell_type": "code",
      "metadata": {
        "id": "o3YIvHfEAvzi"
      },
      "source": [
        "seg_dirs = [dir for pt in train_pts for study in pt.iterdir() for dir in study.iterdir() if dir.name == 'segs']\n",
        "seg_files = [seg_file for seg_dir in seg_dirs for seg_file in seg_dir.iterdir() if dcmread(seg_file, stop_before_pixels=True).Modality == 'SEG']\n",
        "seg_datasets = tuple([dcmread(seg, force=True) for seg in seg_files])\n",
        "categories = sorted(list(set([description.SegmentLabel.lower() for seg_ds in seg_datasets for frames, frame_descriptions, description in iter_segments(seg_ds)])))\n",
        "print(categories)\n"
      ],
      "execution_count": null,
      "outputs": []
    },
    {
      "cell_type": "code",
      "metadata": {
        "id": "yfsEnRXLkU2N"
      },
      "source": [
        "def mapper(dataset_dict):\n",
        "  \"\"\"\n",
        "  Args:\n",
        "      dataset_dict (dict): Metadata of one image, in detectron2 Dataset format.\n",
        "\n",
        "  Returns:\n",
        "      dict: a format that builtin models in detectron2 accept\n",
        "  \"\"\"\n",
        "  # Implement a mapper, similar to the default DatasetMapper, but with your own customizations\n",
        "  dataset_dict = copy.deepcopy(dataset_dict)  # it will be modified by code below\n",
        "  ds = pydicom.dcmread(dataset_dict[\"file_name\"])\n",
        "  image = ds.pixel_array\n",
        "  # Convert pixel values to Hounsfield units\n",
        "  image = image*ds.RescaleSlope + ds.RescaleIntercept\n",
        "  image, transforms = T.apply_transform_gens([T.RandomBrightness(0.8, 1.2), T.RandomContrast(0.8, 1.2)], image)\n",
        "  dataset_dict[\"image\"] = torch.as_tensor(image.astype(\"float32\"))\n",
        "\n",
        "  annos = [\n",
        "      utils.transform_instance_annotations(obj, transforms, image.shape[:2])\n",
        "      for obj in dataset_dict.pop(\"annotations\")\n",
        "      if obj.get(\"iscrowd\", 0) == 0\n",
        "  ]\n",
        "  instances = utils.annotations_to_instances(annos, image.shape[:2], mask_format='bitmask')\n",
        "  dataset_dict[\"instances\"] = utils.filter_empty_instances(instances)\n",
        "  return dataset_dict\n",
        "\n",
        "class DICOMSEGTrainer(DefaultTrainer):\n",
        "    @classmethod\n",
        "    def build_test_loader(cls, cfg, dataset_name):\n",
        "        return build_detection_test_loader(cfg, dataset_name, mapper=mapper)\n",
        "\n",
        "    @classmethod\n",
        "    def build_train_loader(cls, cfg):\n",
        "        return build_detection_train_loader(cfg, mapper=mapper)\n"
      ],
      "execution_count": null,
      "outputs": []
    },
    {
      "cell_type": "code",
      "metadata": {
        "id": "c3TFNA-47FYP"
      },
      "source": [
        "def bbox(img):\n",
        "    \"\"\"Generates a bounding box from a segmentation mask\n",
        "    Bounding box is given as coordinates of upper left and lower right corner\n",
        "    args:\n",
        "      img = boolean array of a segmentation mask\n",
        "    returns:\n",
        "      coordinates of upper left and lower right corner \n",
        "    \"\"\"\n",
        "    try:\n",
        "      x,y = np.where(img)\n",
        "    except ValueError:\n",
        "      return None\n",
        "    if x.size != 0:\n",
        "      bbox = y.min(), x.min(), y.max(), x.max()\n",
        "    else:\n",
        "      bbox = None\n",
        "    return bbox\n",
        "\n",
        "# from fastai2 medical imaging\n",
        "def windowed(px, w, l):\n",
        "    \"\"\"Windows a pixel_array of Houndfield units\n",
        "    args:\n",
        "      px = pixel array in Houndfield units\n",
        "      w = window width (HU range)\n",
        "      l = window level (center point)\n",
        "    returns:\n",
        "      pixel_array convered to the given window/level\n",
        "    \"\"\"\n",
        "    if type(w) == pydicom.multival.MultiValue:\n",
        "      w = w[0]\n",
        "    if type(l) == pydicom.multival.MultiValue:\n",
        "      l = l[0]\n",
        "    px_min = l - w//2\n",
        "    px_max = l + w//2\n",
        "    px[px<px_min] = px_min\n",
        "    px[px>px_max] = px_max\n",
        "    return (px-px_min) / (px_max-px_min)\n",
        "\n",
        "def get_windowed_image(ds):\n",
        "  im = ds.pixel_array\n",
        "  im = im*ds.RescaleSlope + ds.RescaleIntercept\n",
        "  im = windowed(im, ds.WindowWidth, ds.WindowCenter)\n",
        "  return im\n",
        "\n",
        "def framesByRefSOPInstanceUID(refSOPInstanceUID, refSeriesInstanceUID, source_rows, source_columns):\n",
        "  data = []\n",
        "  for seg_ds in seg_datasets:\n",
        "    if seg_ds.ReferencedSeriesSequence[0].SeriesInstanceUID == refSeriesInstanceUID:\n",
        "      for frames, frame_descriptions, description in iter_segments(seg_ds):\n",
        "        category = description.SegmentLabel.lower()\n",
        "        found = False\n",
        "        for count, frame_description in enumerate(frame_descriptions):\n",
        "          if frame_description.DerivationImageSequence[0].SourceImageSequence[0].ReferencedSOPInstanceUID == refSOPInstanceUID:\n",
        "            data.append([category, frames[count].astype(np.bool)])\n",
        "            found = False\n",
        "        if not found:\n",
        "          data.append([category, np.full((source_rows, source_columns), False)])\n",
        "  return data\n",
        "\n",
        "\n",
        "# Used in the DatasetCatalog.register call\n",
        "def get_dicomseg_dicts(train_or_val):\n",
        "  \"\"\"Builds a dataset_dict for detectron2\n",
        "    args:\n",
        "      train_or_val = string 'train' or 'val' indicating whether to return\n",
        "        the training or validation dataset_dict\n",
        "    returns:\n",
        "      dataset_dict with each element of the training or validation dataset\n",
        "    \"\"\"\n",
        "  if train_or_val == \"train\":\n",
        "    pts = train_pts\n",
        "  elif train_or_val == \"val\":\n",
        "    pts = test_pts\n",
        "\n",
        "  dataset_dicts = []\n",
        "  for pt in pts:\n",
        "    dcms = [x for x in pt.glob('**/*.dcm') if dcmread(x, stop_before_pixels=True).Modality != \"SEG\"]\n",
        "    for dcm in dcms:\n",
        "      record = {}\n",
        "      filename = str(dcm)\n",
        "      ds = dcmread(filename, stop_before_pixels=True)\n",
        "      record[\"file_name\"] = filename\n",
        "      record[\"image_id\"] = ds.SOPInstanceUID\n",
        "      record[\"height\"] = ds.Rows\n",
        "      record[\"width\"] = ds.Rows\n",
        "\n",
        "      categories_and_masks = framesByRefSOPInstanceUID(ds.SOPInstanceUID, ds.SeriesInstanceUID, ds.Rows, ds.Columns)\n",
        "      objs = []\n",
        "      for category, mask in categories_and_masks:\n",
        "        if bbox(mask) is not None:\n",
        "          obj = {\n",
        "              \"bbox\": bbox(mask),\n",
        "              \"bbox_mode\": BoxMode.XYXY_ABS,\n",
        "              \"segmentation\": pycocotools.mask.encode(np.asarray(mask, order=\"F\")),\n",
        "              \"category_id\": categories.index(category),\n",
        "              \"is_crowd\": 0\n",
        "          }\n",
        "          objs.append(obj)\n",
        "      record[\"annotations\"] = objs\n",
        "      dataset_dicts.append(record)\n",
        "  return dataset_dicts\n",
        "\n",
        "def show_img_array(images, columns=10, title=None):\n",
        "  ncol = columns\n",
        "  nrow = len(images) / ncol\n",
        "  plt.figure(figsize=[ncol*3,1+(nrow*3)], dpi=300)\n",
        "\n",
        "  gs = gridspec.GridSpec(nrow, ncol, width_ratios=np.ones(ncol),\n",
        "         wspace=0.0, hspace=0.0, top=0.95, bottom=0.05, left=0.17, right=0.845) \n",
        "\n",
        "  plt.suptitle(title)\n",
        "  \n",
        "  for i, image in enumerate(images):\n",
        "    ax = plt.subplot(len(images) / ncol + 1, ncol, i + 1)\n",
        "    ax.imshow(image, cmap=\"gray\")\n",
        "    ax.set_xticklabels([])\n",
        "    ax.set_yticklabels([])\n",
        "  \n",
        "  plt.axis('off')\n",
        "  \n",
        "  plt.show()\n"
      ],
      "execution_count": null,
      "outputs": []
    },
    {
      "cell_type": "code",
      "metadata": {
        "id": "RgYw3tuOAs2Q"
      },
      "source": [
        "# Clear existing DatasetCatalog and then register the training and validation datasets\n",
        "DatasetCatalog.clear()  \n",
        "for d in [\"train\", \"test\"]:\n",
        "    DatasetCatalog.register(\"dicomseg_\" + d, lambda d=d: get_dicomseg_dicts(d))\n",
        "    MetadataCatalog.get(\"dicomseg_\" + d).set(thing_classes=categories)\n",
        "dicomseg_metadata = MetadataCatalog.get(\"dicomseg_train\")"
      ],
      "execution_count": null,
      "outputs": []
    },
    {
      "cell_type": "markdown",
      "metadata": {
        "id": "CB8jg-a4JC21"
      },
      "source": [
        "# Explore\n",
        "Let's stop and take a look at the organization of our data files, and dig in to DICOM SEG a little bit.\n",
        "\n",
        "If you click on the folder icon along the left side of the colab notebook screen you should see the directory tree of the virtual machine the colab notebook is hosted on. We've been downloading files to this VM in the cells above this one, and now your directory tree should look something like this:"
      ]
    },
    {
      "cell_type": "markdown",
      "metadata": {
        "id": "ERoW1ZaTL3Bb"
      },
      "source": [
        "![dicomseg_folder.png](data:image/png;base64,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)"
      ]
    },
    {
      "cell_type": "markdown",
      "metadata": {
        "id": "sQKqDBFlMSbK"
      },
      "source": [
        "The `./pts/dicomseg_train` root directory contains a subfolder for each patient (0YJcDea3Y3 in the screenshot above), and each patient file contains a subfolder for each study (f0ZxhJSW5K in the screenshot). Each study folder contains two subfolders, one named `DICOM` that contains the standard DICOM image files, and one named `segs` that contains DICOM SEG files."
      ]
    },
    {
      "cell_type": "code",
      "metadata": {
        "id": "dcJLsNKIaio8"
      },
      "source": [
        "pt = train_pts[0]\n",
        "studies = [s for s in pt.iterdir() if s.is_dir()]\n",
        "dicom_dir = studies[0]/'DICOM'\n",
        "segs_dir = studies[0]/'segs'\n",
        "dcms = [dcmread(dcm) for dcm in dicom_dir.iterdir()]\n",
        "dcms.sort(key=lambda x: x.InstanceNumber, reverse=False)"
      ],
      "execution_count": null,
      "outputs": []
    },
    {
      "cell_type": "code",
      "metadata": {
        "id": "afCHG9DsCi3W"
      },
      "source": [
        "images = [get_windowed_image(dcm) for dcm in dcms]\n",
        "show_img_array(images)"
      ],
      "execution_count": null,
      "outputs": []
    },
    {
      "cell_type": "code",
      "metadata": {
        "id": "gRIfeulp0noR"
      },
      "source": [
        "# Clear variables to save memory\n",
        "del images"
      ],
      "execution_count": null,
      "outputs": []
    },
    {
      "cell_type": "code",
      "metadata": {
        "id": "mq5SV5qZGw2n"
      },
      "source": [
        "# Show segmentations\n",
        "segs = [dcmread(dcm, force=True) for dcm in segs_dir.iterdir() if dcm.is_file()]\n",
        "for seg in segs:\n",
        "  for frames, frame_description, description in iter_segments(seg):\n",
        "    show_img_array(frames, title=description.SegmentLabel)"
      ],
      "execution_count": null,
      "outputs": []
    },
    {
      "cell_type": "code",
      "metadata": {
        "id": "pOEO8rWKVCyg"
      },
      "source": [
        "# Choose the DICOM SEG file that contains the liver segmentation\n",
        "seg = [seg for seg in segs for frames, frame_description, description in iter_segments(seg) if description.SegmentLabel == 'liver'][0]"
      ],
      "execution_count": null,
      "outputs": []
    },
    {
      "cell_type": "code",
      "metadata": {
        "id": "YILOkYBsMgEY"
      },
      "source": [
        "# Choose the first CT image from the standard DICOM image set\n",
        "# just looking to access DICOM tags that are common among all images from this study/series, so the specific image doesn't matter\n",
        "dcm = dcms[0]"
      ],
      "execution_count": null,
      "outputs": []
    },
    {
      "cell_type": "code",
      "metadata": {
        "id": "Cpk5VpEAMnuY"
      },
      "source": [
        "# Verify that the segmentation series and image series belong to the same DICOM study\n",
        "seg.StudyInstanceUID == dcm.StudyInstanceUID"
      ],
      "execution_count": null,
      "outputs": []
    },
    {
      "cell_type": "code",
      "metadata": {
        "id": "nLl7cL5UQwRU"
      },
      "source": [
        "# Verify that the segmentation file references the CT DICOM series\n",
        "seg.ReferencedSeriesSequence[0].SeriesInstanceUID == dcm.SeriesInstanceUID"
      ],
      "execution_count": null,
      "outputs": []
    },
    {
      "cell_type": "code",
      "metadata": {
        "id": "DEOJ8vSZPLgy"
      },
      "source": [
        "# Verify that the segmentation file references each instance (i.e. image) from the referenced CT series\n",
        "len(seg.ReferencedSeriesSequence[0].ReferencedInstanceSequence) == len(dcms)"
      ],
      "execution_count": null,
      "outputs": []
    },
    {
      "cell_type": "code",
      "metadata": {
        "id": "lzX1w1sDRXLK"
      },
      "source": [
        "# While the segmentation file contains a reference to each image, it does not necessarily contain a pixel mask frame for each DICOM image\n",
        "# The segmentation file will only contain a segmentation mask for a corresponding CT image if there is at least one target pixel present\n",
        "# i.e. Frames that are completely background pixels (usually value = 0) are not discretely saved in the segmentation file\n",
        "# Each frame will have a corresponding pixel_array containing the segmentation mask\n",
        "seg.NumberOfFrames"
      ],
      "execution_count": null,
      "outputs": []
    },
    {
      "cell_type": "code",
      "metadata": {
        "id": "TfZVbGl1T0bO"
      },
      "source": [
        "# The DICOM tag SegmentSequence includes metadata about the segmentation process\n",
        "seg.SegmentSequence[0]"
      ],
      "execution_count": null,
      "outputs": []
    },
    {
      "cell_type": "code",
      "metadata": {
        "id": "JgeSkLw5USQX"
      },
      "source": [
        "# The actual pixel array of the segmentation masks are accessible in the pydicom pixel_array\n",
        "# In this example, the seg file we are looking at is a liver segmentation\n",
        "# The original CT scan contained 91 images of 512 x 512 resolution, and the liver was present on 31 images\n",
        "# The pixel array of the liver segmentation file then will be have a shape of (31, 512, 512), or one 512x512 segmentation mask for each image that contained at least a single segmented liver pixel\n",
        "np.shape(seg.pixel_array)"
      ],
      "execution_count": null,
      "outputs": []
    },
    {
      "cell_type": "code",
      "metadata": {
        "id": "hs7dpgnFWPtg"
      },
      "source": [
        "# Sample liver mask from the middle of the segmentation stack\n",
        "# Choose slice in the middle of the array\n",
        "mid = int(len(seg.pixel_array)/2)\n",
        "plt.imshow(seg.pixel_array[mid], cmap=\"binary_r\", interpolation='none')"
      ],
      "execution_count": null,
      "outputs": []
    },
    {
      "cell_type": "code",
      "metadata": {
        "id": "Hflq1uDUM1W8"
      },
      "source": [
        "# Each DICOM SEG file can contain multiple segments, and each segment can contain multiple frames\n",
        "# the Highdicom library includes a function to iterate over the segments in a DICOM SEG file\n",
        "# For each segment, can retrieve the frames (i.e. the segmentation mask for a specific DICOM image file) and metadata\n",
        "print('segment label [# frames]\\n========================')\n",
        "for frames, frame_descriptions, description in iter_segments(seg):\n",
        "    print('%s [%s]' % (description.SegmentLabel, len(frames)))"
      ],
      "execution_count": null,
      "outputs": []
    },
    {
      "cell_type": "code",
      "metadata": {
        "id": "mcGkeeW4aJGe"
      },
      "source": [
        "# Each frame refers to a specific CT image in the reference study/series. The referenced SOP Instance UID is accessible like so:\n",
        "ref_SOPInstanceUID = frame_descriptions[mid].DerivationImageSequence[0].SourceImageSequence[0].ReferencedSOPInstanceUID\n",
        "ref_SOPInstanceUID"
      ],
      "execution_count": null,
      "outputs": []
    },
    {
      "cell_type": "code",
      "metadata": {
        "id": "xWL78IHcagMi"
      },
      "source": [
        "# We can iterate over the CT dicoms to find the one that corresponds to the segmentation mask\n",
        "# In other words, the segmentation mask we chose above is the mask for the liver on this specific CT image\n",
        "ref_CT = [dcm for dcm in dcms if dcm.SOPInstanceUID == ref_SOPInstanceUID][0]\n",
        "plt.imshow(get_windowed_image(ref_CT), cmap=\"gray\")"
      ],
      "execution_count": null,
      "outputs": []
    },
    {
      "cell_type": "code",
      "metadata": {
        "id": "b7-5eC9EdZ60"
      },
      "source": [
        "# We can better show this by overlaying the segmentation mask as a semitransparent layer on the CT image\n",
        "# Setting vmin to a low non-zero number means the color map won't be applied to background pixels (val = 0)\n",
        "plt.imshow(get_windowed_image(ref_CT), cmap=\"gray\")\n",
        "plt.imshow(frames[mid], cmap='jet', vmin=.001, alpha=0.4, interpolation='none')"
      ],
      "execution_count": null,
      "outputs": []
    },
    {
      "cell_type": "markdown",
      "metadata": {
        "id": "6ljbWTX0Wi8E"
      },
      "source": [
        "# Verify Data Loading\n",
        "To verify the data loading is correct, let's visualize the annotations of randomly selected samples in the training set:\n",
        "\n"
      ]
    },
    {
      "cell_type": "code",
      "metadata": {
        "id": "Tp1Ft4x-Kx23"
      },
      "source": [
        "dataset_dicts = get_dicomseg_dicts(\"train\")"
      ],
      "execution_count": null,
      "outputs": []
    },
    {
      "cell_type": "code",
      "metadata": {
        "id": "UkNbUzUOLYf0"
      },
      "source": [
        "# Choose random images from the training dataset_dict and display image with mask overlay\n",
        "images = []\n",
        "for d in random.sample(dataset_dicts, 10):\n",
        "    ds = dcmread(d[\"file_name\"])\n",
        "    im = get_windowed_image(ds)\n",
        "    im = np.stack((im,) * 3, -1)\n",
        "    im = im*255\n",
        "    v = Visualizer(im[:, :, ::-1],\n",
        "                   metadata=dicomseg_metadata, \n",
        "                   scale=0.8\n",
        "    )\n",
        "    v = v.draw_dataset_dict(d)\n",
        "    #print(d[\"file_name\"])\n",
        "    images.append(v.get_image()[:, :, ::-1])\n",
        "show_img_array(images, columns=5)"
      ],
      "execution_count": null,
      "outputs": []
    },
    {
      "cell_type": "markdown",
      "metadata": {
        "id": "XW5EakiuV2Ar"
      },
      "source": [
        "# Train\n",
        "\n",
        "Now, let's fine-tune a coco-pretrained R50-FPN Mask R-CNN model on this abdominal organs dataset. It takes ~2 minutes to train 300 iterations on Colab.\n"
      ]
    },
    {
      "cell_type": "code",
      "metadata": {
        "id": "7unkuuiqLdqd"
      },
      "source": [
        "cfg = get_cfg()\n",
        "cfg.merge_from_file(model_zoo.get_config_file(\"COCO-InstanceSegmentation/mask_rcnn_R_50_FPN_3x.yaml\"))\n",
        "cfg.DATASETS.TRAIN = (\"dicomseg_train\",)\n",
        "cfg.DATALOADER.FILTER_EMPTY_ANNOTATIONS = False\n",
        "cfg.DATASETS.TEST = ()\n",
        "cfg.DATALOADER.NUM_WORKERS = 2\n",
        "cfg.MODEL.WEIGHTS = model_zoo.get_checkpoint_url(\"COCO-InstanceSegmentation/mask_rcnn_R_50_FPN_3x.yaml\")  # Let training initialize from model zoo\n",
        "\n",
        "\n",
        "# These three SOLVER parameters are probably the best places to start tweaking to modify performance\n",
        "cfg.SOLVER.IMS_PER_BATCH = 16\n",
        "cfg.SOLVER.BASE_LR = 0.1  # Can experiment with differnt base learning rates\n",
        "\n",
        "\n",
        "######################################################\n",
        "######################################################\n",
        "\n",
        "# Primary determinant of training time\n",
        "# Continues to learn out to at least 600 iterations\n",
        "\n",
        "cfg.SOLVER.MAX_ITER = 300 \n",
        "\n",
        "######################################################\n",
        "######################################################\n",
        "\n",
        "\n",
        "cfg.MODEL.ROI_HEADS.BATCH_SIZE_PER_IMAGE = 512   # faster, and good enough for this simple dataset (default: 512)\n",
        "cfg.MODEL.ROI_HEADS.NUM_CLASSES = len(categories)  # number of classes determined dynamically\n",
        "cfg.MODEL.SEM_SEG_HEAD.NUM_CLASSES = len(categories)\n",
        "cfg.MODEL.RETINANET.NUM_CLASSES = len(categories)\n",
        "#cfg.MODEL.ANCHOR_GENERATOR.SIZES = [[16, 32, 64, 128, 256]]\n",
        "#cfg.MODEL.PIXEL_MEAN = [485.856]\n",
        "#cfg.MODEL.PIXEL_STD = [513.741]\n",
        "\n",
        "cfg.TEST.DETECTIONS_PER_IMAGE = 20\n",
        "\n",
        "cfg.INPUT.FORMAT = \"F\" #32-bit single channel floating point pixels\n",
        "cfg.INPUT.MASK_FORMAT = \"bitmask\" # Needed to change this from the default \"polygons\"\n",
        "cfg.INPUT.MAX_SIZE_TEST = 512\n",
        "cfg.INPUT.MAX_SIZE_TRAIN = 512\n",
        "cfg.INPUT.MIN_SIZE_TEST = 512\n",
        "cfg.INPUT.MIN_SIZE_TRAIN = (512,)\n",
        "\n",
        "print(cfg.dump())\n",
        "\n",
        "os.makedirs(cfg.OUTPUT_DIR, exist_ok=True)\n",
        "trainer = DICOMSEGTrainer(cfg)\n",
        "trainer.resume_or_load(resume=False)\n",
        "trainer.train()"
      ],
      "execution_count": null,
      "outputs": []
    },
    {
      "cell_type": "code",
      "metadata": {
        "id": "hBXeH8UXFcqU"
      },
      "source": [
        "# Look at training curves in tensorboard:\n",
        "%load_ext tensorboard\n",
        "%tensorboard --logdir output"
      ],
      "execution_count": null,
      "outputs": []
    },
    {
      "cell_type": "code",
      "metadata": {
        "id": "h0JeEVP7MS8A"
      },
      "source": [
        "%reload_ext tensorboard"
      ],
      "execution_count": null,
      "outputs": []
    },
    {
      "cell_type": "markdown",
      "metadata": {
        "id": "0e4vdDIOXyxF"
      },
      "source": [
        "# Inference & evaluation using the trained model\n",
        "Now, let's run inference with the trained model on the validation dataset. First, let's create a predictor using the model we just trained:\n",
        "\n"
      ]
    },
    {
      "cell_type": "code",
      "metadata": {
        "id": "CYHrysR9MgV6"
      },
      "source": [
        "from detectron2.modeling import build_model\n",
        "from detectron2.checkpoint import DetectionCheckpointer\n",
        "\n",
        "class DICOMSEGPredictor:\n",
        "    \"\"\"\n",
        "    Create a simple end-to-end predictor with the given config that runs on\n",
        "    single device for a single input image.\n",
        "    Compared to using the model directly, this class does the following additions:\n",
        "    1. Load checkpoint from `cfg.MODEL.WEIGHTS`.\n",
        "    2. Always take BGR image as the input and apply conversion defined by `cfg.INPUT.FORMAT`.\n",
        "    3. Apply resizing defined by `cfg.INPUT.{MIN,MAX}_SIZE_TEST`.\n",
        "    4. Take one input image and produce a single output, instead of a batch.\n",
        "    If you'd like to do anything more fancy, please refer to its source code\n",
        "    as examples to build and use the model manually.\n",
        "    Attributes:\n",
        "        metadata (Metadata): the metadata of the underlying dataset, obtained from\n",
        "            cfg.DATASETS.TEST.\n",
        "    Examples:\n",
        "    .. code-block:: python\n",
        "        pred = DefaultPredictor(cfg)\n",
        "        inputs = cv2.imread(\"input.jpg\")\n",
        "        outputs = pred(inputs)\n",
        "    \"\"\"\n",
        "\n",
        "    def __init__(self, cfg):\n",
        "        self.cfg = cfg.clone()  # cfg can be modified by model\n",
        "        self.model = build_model(self.cfg)\n",
        "        self.model.eval()\n",
        "        self.metadata = MetadataCatalog.get(cfg.DATASETS.TEST[0])\n",
        "\n",
        "        checkpointer = DetectionCheckpointer(self.model)\n",
        "        checkpointer.load(cfg.MODEL.WEIGHTS)\n",
        "\n",
        "        self.transform_gen = T.ResizeShortestEdge(\n",
        "            [cfg.INPUT.MIN_SIZE_TEST, cfg.INPUT.MIN_SIZE_TEST], cfg.INPUT.MAX_SIZE_TEST\n",
        "        )\n",
        "\n",
        "        self.input_format = cfg.INPUT.FORMAT\n",
        "        \n",
        "    def __call__(self, original_image):\n",
        "        \"\"\"\n",
        "        Args:\n",
        "            original_image (np.ndarray): a single channel image.\n",
        "        Returns:\n",
        "            predictions (dict):\n",
        "                the output of the model for one image only.\n",
        "                See :doc:`/tutorials/models` for details about the format.\n",
        "        \"\"\"\n",
        "        with torch.no_grad():  # https://github.com/sphinx-doc/sphinx/issues/4258\n",
        "            height, width = original_image.shape[:2]\n",
        "            image = original_image\n",
        "            image = torch.as_tensor(image.astype(\"float32\"))\n",
        "\n",
        "            inputs = {\"image\": image, \"height\": height, \"width\": width}\n",
        "            predictions = self.model([inputs])[0]\n",
        "            return predictions"
      ],
      "execution_count": null,
      "outputs": []
    },
    {
      "cell_type": "code",
      "metadata": {
        "id": "Ya5nEuMELeq8"
      },
      "source": [
        "cfg.MODEL.WEIGHTS = os.path.join(cfg.OUTPUT_DIR, \"model_final.pth\")\n",
        "cfg.MODEL.ROI_HEADS.SCORE_THRESH_TEST = 0.50   # set the testing threshold for this model\n",
        "cfg.DATASETS.TEST = (\"dicomseg_val\", )\n",
        "predictor = DICOMSEGPredictor(cfg)"
      ],
      "execution_count": null,
      "outputs": []
    },
    {
      "cell_type": "code",
      "metadata": {
        "id": "w___KXuF5h3H"
      },
      "source": [
        "algorithm_identification = AlgorithmIdentificationSequence(\n",
        "  name='DIDO_dicomseg',\n",
        "  version='v0.1',\n",
        "  family=codes.cid7162.ArtificialIntelligence\n",
        ")"
      ],
      "execution_count": null,
      "outputs": []
    },
    {
      "cell_type": "code",
      "metadata": {
        "id": "IjRk3Az35mEk"
      },
      "source": [
        "GenericAnatomyColors = {\n",
        "  'tissue': {'rgb': [128, 174, 128], 'DicomLab': [43802, 26566, 37721]},\n",
        "  'liver': {'rgb': [221, 130, 101], 'DicomLab': [41660, 41169, 40791]},\n",
        "  'pancreas': {'rgb': [249, 180, 111], 'DicomLab': [51392, 37456, 44400]},\n",
        "  'spleen': {'rgb': [157, 108, 162], 'DicomLab': [34340, 40315, 27406]},\n",
        "  'right kidney': {'rgb': [185, 102, 83], 'DicomLab': [34296, 40958, 39423]},\n",
        "  'left kidney': {'rgb': [185, 102, 83], 'DicomLab': [34296, 40958, 39423]},\n",
        "  'right adrenal': {'rgb': [249, 186, 150], 'DicomLab': [52714, 37590, 39865]},\n",
        "  'left adrenal': {'rgb': [249, 186, 150], 'DicomLab': [52714, 37590, 39865]},\n",
        " }"
      ],
      "execution_count": null,
      "outputs": []
    },
    {
      "cell_type": "code",
      "metadata": {
        "id": "5iyxhA6Byi8M"
      },
      "source": [
        "for pt in test_pts:\n",
        "  studies = [s for s in pt.iterdir() if s.is_dir()]\n",
        "  for s in studies:\n",
        "    dcms = [dcmread(dcm) for dcm in Path(s/'DICOM').iterdir()]\n",
        "    dcms.sort(key=lambda x: x.InstanceNumber, reverse=False)\n",
        "    mask = {}\n",
        "    series_num = dcms[0].SeriesNumber\n",
        "    pixel_spacing = dcms[0].PixelSpacing\n",
        "    slice_thickness = dcms[0].SliceThickness\n",
        "    pixel_measures = PixelMeasuresSequence(pixel_spacing=pixel_spacing, slice_thickness=slice_thickness, spacing_between_slices=None)\n",
        "    for c in categories:\n",
        "      mask[c] = np.zeros(\n",
        "          shape=(\n",
        "              len(dcms),\n",
        "              dcms[0].Rows,\n",
        "              dcms[0].Columns\n",
        "          ),\n",
        "          dtype=bool\n",
        "      )\n",
        "    for num, ds in enumerate(dcms):\n",
        "      im=ds.pixel_array\n",
        "      im=im*ds.RescaleSlope + ds.RescaleIntercept\n",
        "      outputs = predictor(im)\n",
        "      predictions = outputs[\"instances\"].to(\"cpu\")\n",
        "      pred_labels = {x: categories[x] for x in predictions.pred_classes.tolist()}\n",
        "      for pred_label in pred_labels:\n",
        "        organ = pred_labels[pred_label]\n",
        "        preds = predictions[predictions.pred_classes == pred_label]\n",
        "        if preds.has(\"pred_masks\"):\n",
        "          masks = np.asarray(preds.pred_masks)\n",
        "          masks = [GenericMask(x, x.shape[0], x.shape[1]) for x in masks]\n",
        "          masks = [mask.mask for mask in masks]\n",
        "          if masks and not np.all((masks == 0)):\n",
        "            mask[organ][num] = np.maximum.reduce(masks)\n",
        "    \n",
        "    for c in categories:\n",
        "      if c in mask and not np.all((mask[c] == False)):\n",
        "        description_segment_1 = SegmentDescription(\n",
        "            segment_number=1,\n",
        "            segment_label=c,\n",
        "            segmented_property_category=codes.cid7150.AnatomicalStructure,\n",
        "            segmented_property_type=codes.cid7166.Organ,\n",
        "            algorithm_type=SegmentAlgorithmTypeValues.AUTOMATIC,\n",
        "            algorithm_identification=algorithm_identification,\n",
        "            tracking_uid=generate_uid(),\n",
        "            tracking_id='dicomseg segmentation'\n",
        "        )\n",
        "        # Create the Segmentation instance\n",
        "        seg_dataset = Segmentation(\n",
        "          source_images=dcms,\n",
        "          pixel_array=mask[c],\n",
        "          segmentation_type=SegmentationTypeValues.BINARY,\n",
        "          segment_descriptions=[description_segment_1],\n",
        "          series_instance_uid=generate_uid(),\n",
        "          series_number=series_num,\n",
        "          pixel_measures=pixel_measures,\n",
        "          sop_instance_uid=generate_uid(),\n",
        "          instance_number=1,\n",
        "          manufacturer='RSNA 2021 DIDO Segmentation',\n",
        "          manufacturer_model_name='DICOM SEG Segmentation',\n",
        "          software_versions='v0.1',\n",
        "          device_serial_number='90210',\n",
        "        )\n",
        "\n",
        "        new_dir = Path(s/'segs')\n",
        "        new_dir.mkdir(parents=True, exist_ok=True)\n",
        "        fn = c.replace(' ','_')+'_DIDO_seg.dcm'\n",
        "        output_path = new_dir/fn\n",
        "        seg_dataset.SeriesDescription = c\n",
        "        if c in GenericAnatomyColors:\n",
        "          dicomLab = GenericAnatomyColors[c]['DicomLab']\n",
        "        else:\n",
        "          dicomLab = GenericAnatomyColors['tissue']['DicomLab']\n",
        "        seg_dataset.SegmentSequence[0].add_new([0x0062, 0x000d], 'US', dicomLab)\n",
        "        seg_dataset.save_as(output_path)\n"
      ],
      "execution_count": null,
      "outputs": []
    },
    {
      "cell_type": "code",
      "metadata": {
        "id": "542tGWqh7vwy"
      },
      "source": [
        "!zip -r /content/DIDO_segs.zip /content/pts/test > /dev/null"
      ],
      "execution_count": null,
      "outputs": []
    },
    {
      "cell_type": "markdown",
      "metadata": {
        "id": "qWq1XHfDWiXO"
      },
      "source": [
        "Then, we randomly select several samples to visualize the prediction results."
      ]
    },
    {
      "cell_type": "code",
      "metadata": {
        "id": "U5LhISJqWXgM"
      },
      "source": [
        "images = []\n",
        "dataset_dicts = get_dicomseg_dicts(\"val\")\n",
        "\n",
        "for d in random.sample(dataset_dicts, 20): \n",
        "    ds=pydicom.dcmread(d[\"file_name\"])\n",
        "    im=ds.pixel_array\n",
        "    im=im*ds.RescaleSlope + ds.RescaleIntercept\n",
        "    outputs = predictor(im)\n",
        "    im = windowed(im, ds.WindowWidth, ds.WindowCenter)\n",
        "    im = np.stack((im,) * 3, -1)\n",
        "    im=im*255\n",
        "    v = Visualizer(im[:, :, ::-1],\n",
        "                   metadata=dicomseg_metadata, \n",
        "                   scale=0.8, \n",
        "                   instance_mode=ColorMode.IMAGE\n",
        "    )\n",
        "    v = v.draw_instance_predictions(outputs[\"instances\"].to(\"cpu\"))\n",
        "    images.append(v.get_image()[:, :, ::-1])\n",
        "show_img_array(images, columns=3)"
      ],
      "execution_count": null,
      "outputs": []
    },
    {
      "cell_type": "code",
      "metadata": {
        "id": "ynkOOgXxSmRE"
      },
      "source": [
        ""
      ],
      "execution_count": null,
      "outputs": []
    }
  ]
}