{
  "nbformat": 4,
  "nbformat_minor": 0,
  "metadata": {
    "colab": {
      "name": "RSNA 2021: TCIA and IDC",
      "provenance": [],
      "collapsed_sections": [],
      "toc_visible": true,
      "include_colab_link": true
    },
    "kernelspec": {
      "name": "python3",
      "display_name": "Python 3"
    },
    "language_info": {
      "name": "python"
    },
    "accelerator": "GPU",
    "widgets": {
      "application/vnd.jupyter.widget-state+json": {
        "9829defebb2345b2ad0ea1cebe324fa2": {
          "model_module": "@jupyter-widgets/controls",
          "model_name": "VBoxModel",
          "model_module_version": "1.5.0",
          "state": {
            "_view_name": "VBoxView",
            "_dom_classes": [
              "widget-interact"
            ],
            "_model_name": "VBoxModel",
            "_view_module": "@jupyter-widgets/controls",
            "_model_module_version": "1.5.0",
            "_view_count": null,
            "_view_module_version": "1.5.0",
            "box_style": "",
            "layout": "IPY_MODEL_c382ac8304104dc195f6e5a01324921a",
            "_model_module": "@jupyter-widgets/controls",
            "children": [
              "IPY_MODEL_b6712a17841f473db628da4c5d1886d7"
            ]
          }
        },
        "c382ac8304104dc195f6e5a01324921a": {
          "model_module": "@jupyter-widgets/base",
          "model_name": "LayoutModel",
          "model_module_version": "1.2.0",
          "state": {
            "_view_name": "LayoutView",
            "grid_template_rows": null,
            "right": null,
            "justify_content": null,
            "_view_module": "@jupyter-widgets/base",
            "overflow": null,
            "_model_module_version": "1.2.0",
            "_view_count": null,
            "flex_flow": null,
            "width": null,
            "min_width": null,
            "border": null,
            "align_items": null,
            "bottom": null,
            "_model_module": "@jupyter-widgets/base",
            "top": null,
            "grid_column": null,
            "overflow_y": null,
            "overflow_x": null,
            "grid_auto_flow": null,
            "grid_area": null,
            "grid_template_columns": null,
            "flex": null,
            "_model_name": "LayoutModel",
            "justify_items": null,
            "grid_row": null,
            "max_height": null,
            "align_content": null,
            "visibility": null,
            "align_self": null,
            "height": null,
            "min_height": null,
            "padding": null,
            "grid_auto_rows": null,
            "grid_gap": null,
            "max_width": null,
            "order": null,
            "_view_module_version": "1.2.0",
            "grid_template_areas": null,
            "object_position": null,
            "object_fit": null,
            "grid_auto_columns": null,
            "margin": null,
            "display": null,
            "left": null
          }
        },
        "b6712a17841f473db628da4c5d1886d7": {
          "model_module": "@jupyter-widgets/output",
          "model_name": "OutputModel",
          "model_module_version": "1.0.0",
          "state": {
            "_view_name": "OutputView",
            "msg_id": "",
            "_dom_classes": [],
            "_model_name": "OutputModel",
            "outputs": [
              {
                "output_type": "display_data",
                "data": {
                  "application/vnd.jupyter.widget-view+json": {
                    "model_id": "0f24731b45df4547bc6e3db81fbd672b",
                    "version_minor": 0,
                    "version_major": 2
                  },
                  "text/plain": "interactive(children=(IntSlider(value=0, description='Axial slice:', max=110), Output()), _dom_classes=('widge…"
                },
                "metadata": {}
              }
            ],
            "_view_module": "@jupyter-widgets/output",
            "_model_module_version": "1.0.0",
            "_view_count": null,
            "_view_module_version": "1.0.0",
            "layout": "IPY_MODEL_390f4c14ec004e83a4f7714938b6fa23",
            "_model_module": "@jupyter-widgets/output"
          }
        },
        "0f24731b45df4547bc6e3db81fbd672b": {
          "model_module": "@jupyter-widgets/controls",
          "model_name": "VBoxModel",
          "model_module_version": "1.5.0",
          "state": {
            "_view_name": "VBoxView",
            "_dom_classes": [
              "widget-interact"
            ],
            "_model_name": "VBoxModel",
            "_view_module": "@jupyter-widgets/controls",
            "_model_module_version": "1.5.0",
            "_view_count": null,
            "_view_module_version": "1.5.0",
            "box_style": "",
            "layout": "IPY_MODEL_87b23b910b2e49548e49f190cbddd761",
            "_model_module": "@jupyter-widgets/controls",
            "children": [
              "IPY_MODEL_aa9a94ee5b6647429959f69d9b920661",
              "IPY_MODEL_ecc6014817e645bbb66cd1f5f53b2700"
            ]
          }
        },
        "390f4c14ec004e83a4f7714938b6fa23": {
          "model_module": "@jupyter-widgets/base",
          "model_name": "LayoutModel",
          "model_module_version": "1.2.0",
          "state": {
            "_view_name": "LayoutView",
            "grid_template_rows": null,
            "right": null,
            "justify_content": null,
            "_view_module": "@jupyter-widgets/base",
            "overflow": null,
            "_model_module_version": "1.2.0",
            "_view_count": null,
            "flex_flow": null,
            "width": null,
            "min_width": null,
            "border": null,
            "align_items": null,
            "bottom": null,
            "_model_module": "@jupyter-widgets/base",
            "top": null,
            "grid_column": null,
            "overflow_y": null,
            "overflow_x": null,
            "grid_auto_flow": null,
            "grid_area": null,
            "grid_template_columns": null,
            "flex": null,
            "_model_name": "LayoutModel",
            "justify_items": null,
            "grid_row": null,
            "max_height": null,
            "align_content": null,
            "visibility": null,
            "align_self": null,
            "height": null,
            "min_height": null,
            "padding": null,
            "grid_auto_rows": null,
            "grid_gap": null,
            "max_width": null,
            "order": null,
            "_view_module_version": "1.2.0",
            "grid_template_areas": null,
            "object_position": null,
            "object_fit": null,
            "grid_auto_columns": null,
            "margin": null,
            "display": null,
            "left": null
          }
        },
        "87b23b910b2e49548e49f190cbddd761": {
          "model_module": "@jupyter-widgets/base",
          "model_name": "LayoutModel",
          "model_module_version": "1.2.0",
          "state": {
            "_view_name": "LayoutView",
            "grid_template_rows": null,
            "right": null,
            "justify_content": null,
            "_view_module": "@jupyter-widgets/base",
            "overflow": null,
            "_model_module_version": "1.2.0",
            "_view_count": null,
            "flex_flow": null,
            "width": null,
            "min_width": null,
            "border": null,
            "align_items": null,
            "bottom": null,
            "_model_module": "@jupyter-widgets/base",
            "top": null,
            "grid_column": null,
            "overflow_y": null,
            "overflow_x": null,
            "grid_auto_flow": null,
            "grid_area": null,
            "grid_template_columns": null,
            "flex": null,
            "_model_name": "LayoutModel",
            "justify_items": null,
            "grid_row": null,
            "max_height": null,
            "align_content": null,
            "visibility": null,
            "align_self": null,
            "height": null,
            "min_height": null,
            "padding": null,
            "grid_auto_rows": null,
            "grid_gap": null,
            "max_width": null,
            "order": null,
            "_view_module_version": "1.2.0",
            "grid_template_areas": null,
            "object_position": null,
            "object_fit": null,
            "grid_auto_columns": null,
            "margin": null,
            "display": null,
            "left": null
          }
        },
        "aa9a94ee5b6647429959f69d9b920661": {
          "model_module": "@jupyter-widgets/controls",
          "model_name": "IntSliderModel",
          "model_module_version": "1.5.0",
          "state": {
            "_view_name": "IntSliderView",
            "style": "IPY_MODEL_f3fdcd445e0f4731ab05bfd9facb0dee",
            "_dom_classes": [],
            "description": "Axial slice:",
            "step": 1,
            "_model_name": "IntSliderModel",
            "orientation": "horizontal",
            "max": 110,
            "_view_module": "@jupyter-widgets/controls",
            "_model_module_version": "1.5.0",
            "value": 35,
            "_view_count": null,
            "disabled": false,
            "_view_module_version": "1.5.0",
            "min": 0,
            "continuous_update": true,
            "readout_format": "d",
            "description_tooltip": null,
            "readout": true,
            "_model_module": "@jupyter-widgets/controls",
            "layout": "IPY_MODEL_5f4f051e7b4744b58cff8102de22fbe2"
          }
        },
        "ecc6014817e645bbb66cd1f5f53b2700": {
          "model_module": "@jupyter-widgets/output",
          "model_name": "OutputModel",
          "model_module_version": "1.0.0",
          "state": {
            "_view_name": "OutputView",
            "msg_id": "",
            "_dom_classes": [],
            "_model_name": "OutputModel",
            "outputs": [
              {
                "output_type": "display_data",
                "data": {
                  "image/png": "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\n",
                  "text/plain": "<Figure size 1200x1200 with 2 Axes>"
                },
                "metadata": {
                  "needs_background": "light"
                }
              }
            ],
            "_view_module": "@jupyter-widgets/output",
            "_model_module_version": "1.0.0",
            "_view_count": null,
            "_view_module_version": "1.0.0",
            "layout": "IPY_MODEL_f4bc307042df4f41aee099ae18c8c026",
            "_model_module": "@jupyter-widgets/output"
          }
        },
        "f3fdcd445e0f4731ab05bfd9facb0dee": {
          "model_module": "@jupyter-widgets/controls",
          "model_name": "SliderStyleModel",
          "model_module_version": "1.5.0",
          "state": {
            "_view_name": "StyleView",
            "handle_color": null,
            "_model_name": "SliderStyleModel",
            "description_width": "",
            "_view_module": "@jupyter-widgets/base",
            "_model_module_version": "1.5.0",
            "_view_count": null,
            "_view_module_version": "1.2.0",
            "_model_module": "@jupyter-widgets/controls"
          }
        },
        "5f4f051e7b4744b58cff8102de22fbe2": {
          "model_module": "@jupyter-widgets/base",
          "model_name": "LayoutModel",
          "model_module_version": "1.2.0",
          "state": {
            "_view_name": "LayoutView",
            "grid_template_rows": null,
            "right": null,
            "justify_content": null,
            "_view_module": "@jupyter-widgets/base",
            "overflow": null,
            "_model_module_version": "1.2.0",
            "_view_count": null,
            "flex_flow": null,
            "width": null,
            "min_width": null,
            "border": null,
            "align_items": null,
            "bottom": null,
            "_model_module": "@jupyter-widgets/base",
            "top": null,
            "grid_column": null,
            "overflow_y": null,
            "overflow_x": null,
            "grid_auto_flow": null,
            "grid_area": null,
            "grid_template_columns": null,
            "flex": null,
            "_model_name": "LayoutModel",
            "justify_items": null,
            "grid_row": null,
            "max_height": null,
            "align_content": null,
            "visibility": null,
            "align_self": null,
            "height": null,
            "min_height": null,
            "padding": null,
            "grid_auto_rows": null,
            "grid_gap": null,
            "max_width": null,
            "order": null,
            "_view_module_version": "1.2.0",
            "grid_template_areas": null,
            "object_position": null,
            "object_fit": null,
            "grid_auto_columns": null,
            "margin": null,
            "display": null,
            "left": null
          }
        },
        "f4bc307042df4f41aee099ae18c8c026": {
          "model_module": "@jupyter-widgets/base",
          "model_name": "LayoutModel",
          "model_module_version": "1.2.0",
          "state": {
            "_view_name": "LayoutView",
            "grid_template_rows": null,
            "right": null,
            "justify_content": null,
            "_view_module": "@jupyter-widgets/base",
            "overflow": null,
            "_model_module_version": "1.2.0",
            "_view_count": null,
            "flex_flow": null,
            "width": null,
            "min_width": null,
            "border": null,
            "align_items": null,
            "bottom": null,
            "_model_module": "@jupyter-widgets/base",
            "top": null,
            "grid_column": null,
            "overflow_y": null,
            "overflow_x": null,
            "grid_auto_flow": null,
            "grid_area": null,
            "grid_template_columns": null,
            "flex": null,
            "_model_name": "LayoutModel",
            "justify_items": null,
            "grid_row": null,
            "max_height": null,
            "align_content": null,
            "visibility": null,
            "align_self": null,
            "height": null,
            "min_height": null,
            "padding": null,
            "grid_auto_rows": null,
            "grid_gap": null,
            "max_width": null,
            "order": null,
            "_view_module_version": "1.2.0",
            "grid_template_areas": null,
            "object_position": null,
            "object_fit": null,
            "grid_auto_columns": null,
            "margin": null,
            "display": null,
            "left": null
          }
        },
        "a025ad8820944287a5622652f7feb28c": {
          "model_module": "@jupyter-widgets/controls",
          "model_name": "VBoxModel",
          "model_module_version": "1.5.0",
          "state": {
            "_view_name": "VBoxView",
            "_dom_classes": [
              "widget-interact"
            ],
            "_model_name": "VBoxModel",
            "_view_module": "@jupyter-widgets/controls",
            "_model_module_version": "1.5.0",
            "_view_count": null,
            "_view_module_version": "1.5.0",
            "box_style": "",
            "layout": "IPY_MODEL_df484ec42ca549159ddb5f34cf45ee79",
            "_model_module": "@jupyter-widgets/controls",
            "children": [
              "IPY_MODEL_68bcb53e7d4c46fc942ea2d787d6f415"
            ]
          }
        },
        "df484ec42ca549159ddb5f34cf45ee79": {
          "model_module": "@jupyter-widgets/base",
          "model_name": "LayoutModel",
          "model_module_version": "1.2.0",
          "state": {
            "_view_name": "LayoutView",
            "grid_template_rows": null,
            "right": null,
            "justify_content": null,
            "_view_module": "@jupyter-widgets/base",
            "overflow": null,
            "_model_module_version": "1.2.0",
            "_view_count": null,
            "flex_flow": null,
            "width": null,
            "min_width": null,
            "border": null,
            "align_items": null,
            "bottom": null,
            "_model_module": "@jupyter-widgets/base",
            "top": null,
            "grid_column": null,
            "overflow_y": null,
            "overflow_x": null,
            "grid_auto_flow": null,
            "grid_area": null,
            "grid_template_columns": null,
            "flex": null,
            "_model_name": "LayoutModel",
            "justify_items": null,
            "grid_row": null,
            "max_height": null,
            "align_content": null,
            "visibility": null,
            "align_self": null,
            "height": null,
            "min_height": null,
            "padding": null,
            "grid_auto_rows": null,
            "grid_gap": null,
            "max_width": null,
            "order": null,
            "_view_module_version": "1.2.0",
            "grid_template_areas": null,
            "object_position": null,
            "object_fit": null,
            "grid_auto_columns": null,
            "margin": null,
            "display": null,
            "left": null
          }
        },
        "68bcb53e7d4c46fc942ea2d787d6f415": {
          "model_module": "@jupyter-widgets/output",
          "model_name": "OutputModel",
          "model_module_version": "1.0.0",
          "state": {
            "_view_name": "OutputView",
            "msg_id": "",
            "_dom_classes": [],
            "_model_name": "OutputModel",
            "outputs": [
              {
                "output_type": "display_data",
                "data": {
                  "application/vnd.jupyter.widget-view+json": {
                    "model_id": "57cbb06176b04de09e937eb766e03694",
                    "version_minor": 0,
                    "version_major": 2
                  },
                  "text/plain": "interactive(children=(IntSlider(value=0, description='Axial slice:', max=110), Output()), _dom_classes=('widge…"
                },
                "metadata": {}
              }
            ],
            "_view_module": "@jupyter-widgets/output",
            "_model_module_version": "1.0.0",
            "_view_count": null,
            "_view_module_version": "1.0.0",
            "layout": "IPY_MODEL_6871fbe5495046ee9ee915c2f43b0a99",
            "_model_module": "@jupyter-widgets/output"
          }
        },
        "57cbb06176b04de09e937eb766e03694": {
          "model_module": "@jupyter-widgets/controls",
          "model_name": "VBoxModel",
          "model_module_version": "1.5.0",
          "state": {
            "_view_name": "VBoxView",
            "_dom_classes": [
              "widget-interact"
            ],
            "_model_name": "VBoxModel",
            "_view_module": "@jupyter-widgets/controls",
            "_model_module_version": "1.5.0",
            "_view_count": null,
            "_view_module_version": "1.5.0",
            "box_style": "",
            "layout": "IPY_MODEL_a612f5ffdd384e7fb154a0fd30dae15f",
            "_model_module": "@jupyter-widgets/controls",
            "children": [
              "IPY_MODEL_58a597e8a37d4a9e918335f4a5705218",
              "IPY_MODEL_68a5bf1c7488452b81cdfb016e4ba3f6"
            ]
          }
        },
        "6871fbe5495046ee9ee915c2f43b0a99": {
          "model_module": "@jupyter-widgets/base",
          "model_name": "LayoutModel",
          "model_module_version": "1.2.0",
          "state": {
            "_view_name": "LayoutView",
            "grid_template_rows": null,
            "right": null,
            "justify_content": null,
            "_view_module": "@jupyter-widgets/base",
            "overflow": null,
            "_model_module_version": "1.2.0",
            "_view_count": null,
            "flex_flow": null,
            "width": null,
            "min_width": null,
            "border": null,
            "align_items": null,
            "bottom": null,
            "_model_module": "@jupyter-widgets/base",
            "top": null,
            "grid_column": null,
            "overflow_y": null,
            "overflow_x": null,
            "grid_auto_flow": null,
            "grid_area": null,
            "grid_template_columns": null,
            "flex": null,
            "_model_name": "LayoutModel",
            "justify_items": null,
            "grid_row": null,
            "max_height": null,
            "align_content": null,
            "visibility": null,
            "align_self": null,
            "height": null,
            "min_height": null,
            "padding": null,
            "grid_auto_rows": null,
            "grid_gap": null,
            "max_width": null,
            "order": null,
            "_view_module_version": "1.2.0",
            "grid_template_areas": null,
            "object_position": null,
            "object_fit": null,
            "grid_auto_columns": null,
            "margin": null,
            "display": null,
            "left": null
          }
        },
        "a612f5ffdd384e7fb154a0fd30dae15f": {
          "model_module": "@jupyter-widgets/base",
          "model_name": "LayoutModel",
          "model_module_version": "1.2.0",
          "state": {
            "_view_name": "LayoutView",
            "grid_template_rows": null,
            "right": null,
            "justify_content": null,
            "_view_module": "@jupyter-widgets/base",
            "overflow": null,
            "_model_module_version": "1.2.0",
            "_view_count": null,
            "flex_flow": null,
            "width": null,
            "min_width": null,
            "border": null,
            "align_items": null,
            "bottom": null,
            "_model_module": "@jupyter-widgets/base",
            "top": null,
            "grid_column": null,
            "overflow_y": null,
            "overflow_x": null,
            "grid_auto_flow": null,
            "grid_area": null,
            "grid_template_columns": null,
            "flex": null,
            "_model_name": "LayoutModel",
            "justify_items": null,
            "grid_row": null,
            "max_height": null,
            "align_content": null,
            "visibility": null,
            "align_self": null,
            "height": null,
            "min_height": null,
            "padding": null,
            "grid_auto_rows": null,
            "grid_gap": null,
            "max_width": null,
            "order": null,
            "_view_module_version": "1.2.0",
            "grid_template_areas": null,
            "object_position": null,
            "object_fit": null,
            "grid_auto_columns": null,
            "margin": null,
            "display": null,
            "left": null
          }
        },
        "58a597e8a37d4a9e918335f4a5705218": {
          "model_module": "@jupyter-widgets/controls",
          "model_name": "IntSliderModel",
          "model_module_version": "1.5.0",
          "state": {
            "_view_name": "IntSliderView",
            "style": "IPY_MODEL_21799f61763d4ae9839ea31166aad0ca",
            "_dom_classes": [],
            "description": "Axial slice:",
            "step": 1,
            "_model_name": "IntSliderModel",
            "orientation": "horizontal",
            "max": 110,
            "_view_module": "@jupyter-widgets/controls",
            "_model_module_version": "1.5.0",
            "value": 55,
            "_view_count": null,
            "disabled": false,
            "_view_module_version": "1.5.0",
            "min": 0,
            "continuous_update": true,
            "readout_format": "d",
            "description_tooltip": null,
            "readout": true,
            "_model_module": "@jupyter-widgets/controls",
            "layout": "IPY_MODEL_a542114533d54d8a97b0682efbc49923"
          }
        },
        "68a5bf1c7488452b81cdfb016e4ba3f6": {
          "model_module": "@jupyter-widgets/output",
          "model_name": "OutputModel",
          "model_module_version": "1.0.0",
          "state": {
            "_view_name": "OutputView",
            "msg_id": "",
            "_dom_classes": [],
            "_model_name": "OutputModel",
            "outputs": [
              {
                "output_type": "display_data",
                "data": {
                  "image/png": "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\n",
                  "text/plain": "<Figure size 800x800 with 1 Axes>"
                },
                "metadata": {
                  "needs_background": "light"
                }
              }
            ],
            "_view_module": "@jupyter-widgets/output",
            "_model_module_version": "1.0.0",
            "_view_count": null,
            "_view_module_version": "1.0.0",
            "layout": "IPY_MODEL_2b2716a5c61449cbac4566c115122416",
            "_model_module": "@jupyter-widgets/output"
          }
        },
        "21799f61763d4ae9839ea31166aad0ca": {
          "model_module": "@jupyter-widgets/controls",
          "model_name": "SliderStyleModel",
          "model_module_version": "1.5.0",
          "state": {
            "_view_name": "StyleView",
            "handle_color": null,
            "_model_name": "SliderStyleModel",
            "description_width": "",
            "_view_module": "@jupyter-widgets/base",
            "_model_module_version": "1.5.0",
            "_view_count": null,
            "_view_module_version": "1.2.0",
            "_model_module": "@jupyter-widgets/controls"
          }
        },
        "a542114533d54d8a97b0682efbc49923": {
          "model_module": "@jupyter-widgets/base",
          "model_name": "LayoutModel",
          "model_module_version": "1.2.0",
          "state": {
            "_view_name": "LayoutView",
            "grid_template_rows": null,
            "right": null,
            "justify_content": null,
            "_view_module": "@jupyter-widgets/base",
            "overflow": null,
            "_model_module_version": "1.2.0",
            "_view_count": null,
            "flex_flow": null,
            "width": null,
            "min_width": null,
            "border": null,
            "align_items": null,
            "bottom": null,
            "_model_module": "@jupyter-widgets/base",
            "top": null,
            "grid_column": null,
            "overflow_y": null,
            "overflow_x": null,
            "grid_auto_flow": null,
            "grid_area": null,
            "grid_template_columns": null,
            "flex": null,
            "_model_name": "LayoutModel",
            "justify_items": null,
            "grid_row": null,
            "max_height": null,
            "align_content": null,
            "visibility": null,
            "align_self": null,
            "height": null,
            "min_height": null,
            "padding": null,
            "grid_auto_rows": null,
            "grid_gap": null,
            "max_width": null,
            "order": null,
            "_view_module_version": "1.2.0",
            "grid_template_areas": null,
            "object_position": null,
            "object_fit": null,
            "grid_auto_columns": null,
            "margin": null,
            "display": null,
            "left": null
          }
        },
        "2b2716a5c61449cbac4566c115122416": {
          "model_module": "@jupyter-widgets/base",
          "model_name": "LayoutModel",
          "model_module_version": "1.2.0",
          "state": {
            "_view_name": "LayoutView",
            "grid_template_rows": null,
            "right": null,
            "justify_content": null,
            "_view_module": "@jupyter-widgets/base",
            "overflow": null,
            "_model_module_version": "1.2.0",
            "_view_count": null,
            "flex_flow": null,
            "width": null,
            "min_width": null,
            "border": null,
            "align_items": null,
            "bottom": null,
            "_model_module": "@jupyter-widgets/base",
            "top": null,
            "grid_column": null,
            "overflow_y": null,
            "overflow_x": null,
            "grid_auto_flow": null,
            "grid_area": null,
            "grid_template_columns": null,
            "flex": null,
            "_model_name": "LayoutModel",
            "justify_items": null,
            "grid_row": null,
            "max_height": null,
            "align_content": null,
            "visibility": null,
            "align_self": null,
            "height": null,
            "min_height": null,
            "padding": null,
            "grid_auto_rows": null,
            "grid_gap": null,
            "max_width": null,
            "order": null,
            "_view_module_version": "1.2.0",
            "grid_template_areas": null,
            "object_position": null,
            "object_fit": null,
            "grid_auto_columns": null,
            "margin": null,
            "display": null,
            "left": null
          }
        }
      }
    }
  },
  "cells": [
    {
      "cell_type": "markdown",
      "metadata": {
        "id": "view-in-github",
        "colab_type": "text"
      },
      "source": [
        "<a href=\"https://colab.research.google.com/github/fedorov/AI-Deep-Learning-Lab-2021/blob/idc-tcia/sessions/tcia-idc/RSNA_2021_IDC_and_TCIA.ipynb\" target=\"_parent\"><img src=\"https://colab.research.google.com/assets/colab-badge.svg\" alt=\"Open In Colab\"/></a>"
      ]
    },
    {
      "cell_type": "markdown",
      "metadata": {
        "id": "gy9vfOYmSgiz"
      },
      "source": [
        "# RSNA 2021: Working with public datasets: TCIA and IDC\n",
        "\n",
        "The goal of this session is to introduce you to the two data repositories supported by the US National Cancer Institute:\n",
        "\n",
        "* The Cancer Imaging Archive (TCIA)\n",
        "* Imaging Data Commons (IDC), which is the imaging repository within NCI Cancer Research Data Commons (CRDC)\n",
        "\n",
        "**Learning Objectives:**\n",
        "1. Understand basic capabilities of TCIA and IDC, and the differences between the two repositories.\n",
        "2. Explore relevant functionality of TCIA and IDC to support data exploration, cohort definition, and retrieval of the data.\n",
        "3. Learn how to analyze the data retrieved from TCIA/IDC on an example of a lung nodule segmentation task.\n",
        "\n",
        "This notebook will guide you thought the complete process of identifying a relevant dataset, retrieving it, preparing it for processing by the specific analysis tool, installing the tool and applying it to the dataset, and visualizing the segmentation results produced by the tool.\n",
        "\n",
        "Note that it is not the purpose of this tutorial to promote a specific tool, or assess its robustness. \n",
        "\n",
        "We aim to provide an example of how a tool can be used for analyzing a sample dataset from TCIA/IDC. We hope that after completing this tutorial you will be empowered and motivated to experiment with more tools and apply them to more datasets in TCIA/IDC!\n",
        "\n",
        "**Session Authors**\n",
        "\n",
        "* Andrey Fedorov\n",
        "* Justin Kirby\n",
        "* Dennis Bontempi"
      ]
    },
    {
      "cell_type": "markdown",
      "metadata": {
        "id": "fY1nlTbvZg2b"
      },
      "source": [
        "## Outline\n",
        "\n",
        "**Big picture story/use case**: I have a tool that analyzes specific kind of medical images; I want to find images that are suitable for the analysis by this tool, I want to view the images and understand what annotations are availapply the tool to the data, and understand how good are the results produced by the tool\n",
        "\n",
        "1. Overview of the capabilities of the repositories\n",
        "2. Installation of prerequisites\n",
        "3. Lung nodule segmentation\n",
        "4. Selection and download data from TCIA or IDC\n",
        "4. Preprocessing of the data\n",
        "5. Segmentation using nn-Unet\n",
        "6. Preparation for the visualization of the results\n",
        "6. Visualization of segmentation results\n",
        "7. Exercises, next steps, getting help, references\n",
        "\n",
        "TODO:\n",
        "* cross link TCIA, IDC, nn-Unet...\n",
        "* add references to publications\n",
        "\n"
      ]
    },
    {
      "cell_type": "markdown",
      "metadata": {
        "id": "wMDzWEcX90lX"
      },
      "source": [
        "## Prerequisites\n",
        "\n",
        "Make sure your Colab instance has a GPU! For this check \"Runtime > Change runtime type\" and make sure to choose the GPU runtime.\n",
        "\n",
        "* google account\n",
        "* Google cloud project with configured billing"
      ]
    },
    {
      "cell_type": "markdown",
      "metadata": {
        "id": "ySyKkGA4b0R6"
      },
      "source": [
        "## The Cancer Imaging Archive (TCIA)\n"
      ]
    },
    {
      "cell_type": "markdown",
      "metadata": {
        "id": "FhYD_mvRdKTd"
      },
      "source": [
        "This course assumes you have some basic familiarity with The Cancer Imaging Archive.  If you have never used TCIA you can [watch this presentation from RSNA 2020](https://vimeo.com/595989800) in order to understand the mission of TCIA and services it provides to the research community.  Options for accessing data from TCIA are summarized at https://www.cancerimagingarchive.net/access-data/. The two most relevant data access methods for this course are briefly summarized below."
      ]
    },
    {
      "cell_type": "markdown",
      "metadata": {
        "id": "PVyKi2oBfZxX"
      },
      "source": [
        "### Browsing Collections & Analysis Results\n",
        "The most basic way to find data on TCIA is to [Browse Collections](https://www.cancerimagingarchive.net/collections) and [Browse Analysis Results](https://www.cancerimagingarchive.net/tcia-analysis-results/). Using the information in the table you can identify potential datasets of interest. Clicking on a given dataset takes you to a page which provides a description, data usage policy and citation guidelines, and links to download the data.  \n",
        "\n",
        "TCIA hosts a variety of image types and other related files, but the majority of its data are radiology images stored in DICOM format. When downloading DICOM images the download link will save a *.TCIA \"manifest\" file rather than the actual images. These manifest files must be opened with a helper application called the [NBIA Data Retriever](https://wiki.cancerimagingarchive.net/x/egOnAg). The Data Retriever can be installed on Windows, Mac and Linux operating systems. The Linux version also supports a command-line interface option which can be used on Google Colab.  \n",
        "\n",
        "#### Example\n",
        "Let's assume you are interested in lung cancer datasets which have both CT images and segmentations in DICOM format.  From the [Browse Collections](https://www.cancerimagingarchive.net/collections) page you can use the filter box (top right of the table of datasets) to filter out datasets of interest.  Try typing \"lung cancer CT\".  This should reduce the table to 24 results.  In order to find out which datasets also have segmentations you can add \"SEG\" or \"RTSTRUCT\" to the filter.  For the sake of this example, let's try using \"lung cancer CT seg\".  This should reduce the results to 3 datasets.  Let's assume that you find the [NSCLC-Radiomics-Interobserver1](https://doi.org/10.7937/tcia.2019.cwvlpd26) collection to be the most interesting.  Clicking on the link to this dataset in the table will open its summary page. \n",
        "\n",
        "After reviewing the page to learn more about this dataset, scroll down to the bottom \"Data Access\" section.  Click the blue \"Download\" button for the Images and Segmentations to save the associated manifest file.  You can then upload this file to Colab, and open it using the NBIA Data Retriever by running the following code.\n"
      ]
    },
    {
      "cell_type": "code",
      "metadata": {
        "id": "Qsm1MeREmdYm",
        "colab": {
          "base_uri": "https://localhost:8080/"
        },
        "outputId": "1cfc34d6-b175-46a7-f61c-c8d0b3c9b7f4"
      },
      "source": [
        "# install NBIA Data Retriever for downloading images \n",
        "# documentation available at https://wiki.cancerimagingarchive.net/display/NBIA/Downloading+TCIA+Images\n",
        "\n",
        "!mkdir /usr/share/desktop-directories/\n",
        "!wget -P /content/NBIA-Data-Retriever https://cbiit-download.nci.nih.gov/nbia/releases/ForTCIA/NBIADataRetriever_4.2/nbia-data-retriever-4.2.deb\n",
        "!dpkg -i /content/NBIA-Data-Retriever/nbia-data-retriever-4.2.deb\n"
      ],
      "execution_count": null,
      "outputs": [
        {
          "output_type": "stream",
          "name": "stdout",
          "text": [
            "--2021-11-17 21:47:04--  https://cbiit-download.nci.nih.gov/nbia/releases/ForTCIA/NBIADataRetriever_4.2/nbia-data-retriever-4.2.deb\n",
            "Resolving cbiit-download.nci.nih.gov (cbiit-download.nci.nih.gov)... 129.43.254.25, 2607:f220:41d:21c1::812b:fe19\n",
            "Connecting to cbiit-download.nci.nih.gov (cbiit-download.nci.nih.gov)|129.43.254.25|:443... connected.\n",
            "HTTP request sent, awaiting response... 200 OK\n",
            "Length: 68688240 (66M) [application/x-debian-package]\n",
            "Saving to: ‘/content/NBIA-Data-Retriever/nbia-data-retriever-4.2.deb’\n",
            "\n",
            "nbia-data-retriever 100%[===================>]  65.51M   737KB/s    in 95s     \n",
            "\n",
            "2021-11-17 21:48:41 (704 KB/s) - ‘/content/NBIA-Data-Retriever/nbia-data-retriever-4.2.deb’ saved [68688240/68688240]\n",
            "\n",
            "Selecting previously unselected package nbia-data-retriever.\n",
            "(Reading database ... 155540 files and directories currently installed.)\n",
            "Preparing to unpack .../nbia-data-retriever-4.2.deb ...\n",
            "Unpacking nbia-data-retriever (4.2) ...\n",
            "Setting up nbia-data-retriever (4.2) ...\n",
            "Adding shortcut to the menu\n"
          ]
        }
      ]
    },
    {
      "cell_type": "code",
      "metadata": {
        "id": "YJqE_XZCrHjB",
        "colab": {
          "base_uri": "https://localhost:8080/"
        },
        "outputId": "0841ad22-7a3b-484c-d2bb-b1ea28fa0082"
      },
      "source": [
        "# NBIA Data Retriever's Linux CLI documentation is at: https://wiki.cancerimagingarchive.net/display/NBIA/NBIA+Data+Retriever+Command+Line+Interface \n",
        "\n",
        "# TODO: is there a way to wget the file directly from the wiki to avoid manual steps of uploading the file into Colab?\n",
        "!wget -O manifest_nsclc.tcia https://wiki.cancerimagingarchive.net/download/attachments/52756590/NSCLC-RADIOMICS-INTEROBSERVER1-Aug%2031%202020-NBIA-manifest.tcia?version=1&modificationDate=1598890227618&api=v2"
      ],
      "execution_count": null,
      "outputs": [
        {
          "output_type": "stream",
          "name": "stdout",
          "text": [
            "--2021-11-17 21:49:42--  https://wiki.cancerimagingarchive.net/download/attachments/52756590/NSCLC-RADIOMICS-INTEROBSERVER1-Aug%2031%202020-NBIA-manifest.tcia?version=1\n",
            "Resolving wiki.cancerimagingarchive.net (wiki.cancerimagingarchive.net)... 144.30.169.13\n",
            "Connecting to wiki.cancerimagingarchive.net (wiki.cancerimagingarchive.net)|144.30.169.13|:443... connected.\n",
            "HTTP request sent, awaiting response... 200 \n",
            "Length: 3912 (3.8K) [application/x-nbia-manifest-file]\n",
            "Saving to: ‘manifest_nsclc.tcia’\n",
            "\n",
            "manifest_nsclc.tcia 100%[===================>]   3.82K  --.-KB/s    in 0s      \n",
            "\n",
            "2021-11-17 21:49:43 (50.8 MB/s) - ‘manifest_nsclc.tcia’ saved [3912/3912]\n",
            "\n"
          ]
        }
      ]
    },
    {
      "cell_type": "code",
      "metadata": {
        "id": "RjJ9YezM4Rjq"
      },
      "source": [
        "# TODO: how to download the content corresponding to the manifest"
      ],
      "execution_count": null,
      "outputs": []
    },
    {
      "cell_type": "markdown",
      "metadata": {
        "id": "FdJhtWIAcOj5"
      },
      "source": [
        "\n",
        "## Imaging Data Commons (IDC)"
      ]
    },
    {
      "cell_type": "code",
      "metadata": {
        "id": "6lTFB9NveGxa"
      },
      "source": [
        ""
      ],
      "execution_count": null,
      "outputs": []
    },
    {
      "cell_type": "markdown",
      "metadata": {
        "id": "VmShpMwpcW4W"
      },
      "source": [
        "## Lung nodule segmentation\n",
        "\n",
        "For the sake of the example, we will focus on the problem of segmenting lung nodules, since there are numerous public collections that have data suitable for exploring this task, as well as various tools available. Notably, there are imaging collections that include manual segmentations of the nodules, which can be used to assess accuracy of automated analysis."
      ]
    },
    {
      "cell_type": "markdown",
      "metadata": {
        "id": "Duil1tviGWaG"
      },
      "source": [
        "## Data selection\n",
        "\n",
        "The model is trained to segment organs in chest CT. Let's identify some datasets that are suitable for using with this model."
      ]
    },
    {
      "cell_type": "markdown",
      "metadata": {
        "id": "azGjFr-qG0us"
      },
      "source": [
        "### Selection and download of data from IDC\n",
        "\n",
        "We will utilize IDC BigQuery SQL search interface to get the list of instances for the specific case we will use in the tutorial. \n",
        "\n",
        "You can also use portal, and we will have other examples of querying the data towards the end (Andrey TBD)."
      ]
    },
    {
      "cell_type": "code",
      "metadata": {
        "id": "ZDHCwK-TG4n2"
      },
      "source": [
        "# TODO: need to discuss cloud prerequisites and project\n",
        "from google.colab import auth\n",
        "auth.authenticate_user()"
      ],
      "execution_count": null,
      "outputs": []
    },
    {
      "cell_type": "code",
      "metadata": {
        "id": "-dhXZF07n8Le"
      },
      "source": [
        "my_PatientID = \"LUNG1-002\"\n",
        "my_CollectionID = \"NSCLC-Radiomics\"\n",
        "my_ProjectID = \"idc-tcia\"\n",
        "\n",
        "import os\n",
        "os.environ[\"GCP_PROJECT_ID\"] = my_ProjectID"
      ],
      "execution_count": null,
      "outputs": []
    },
    {
      "cell_type": "code",
      "metadata": {
        "id": "ZOAQXiqNhVqR",
        "colab": {
          "base_uri": "https://localhost:8080/",
          "height": 35
        },
        "outputId": "5a38dfe9-6ce5-4b0f-9552-0503386b0921"
      },
      "source": [
        "### %%bigquery --project=idc-tcia  --params={\"patient_id\":\"LUNG1-002\",\"collection_id\":\"NSCLC-Radiomics\"} case002_df \n",
        "dicom_attributes = [\"PatientID\", \"StudyInstanceUID\", \"SeriesInstanceUID\", \"SOPInstanceUID\", \"Modality\", \"SeriesDescription\"]\n",
        "dicom_attributes_str = ','.join(dicom_attributes)\n",
        "dicom_attributes_str"
      ],
      "execution_count": null,
      "outputs": [
        {
          "output_type": "execute_result",
          "data": {
            "application/vnd.google.colaboratory.intrinsic+json": {
              "type": "string"
            },
            "text/plain": [
              "'PatientID,StudyInstanceUID,SeriesInstanceUID,SOPInstanceUID,Modality,SeriesDescription'"
            ]
          },
          "metadata": {},
          "execution_count": 3
        }
      ]
    },
    {
      "cell_type": "markdown",
      "metadata": {
        "id": "FEWsk41Mnw35"
      },
      "source": [
        "TODO: replace the below with BQ python client to simplify parameterization"
      ]
    },
    {
      "cell_type": "code",
      "metadata": {
        "id": "v8ZNHX_2Gw8O"
      },
      "source": [
        "%%bigquery --project=idc-tcia  --params={\"patient_id\":\"100014\",\"collection_id\":\"NLST\"} selection_df \n",
        "\n",
        "WITH\n",
        "  idc_manifest AS (\n",
        "  SELECT\n",
        "    PatientID,\n",
        "    StudyInstanceUID,\n",
        "    SeriesInstanceUID,\n",
        "    SOPInstanceUID,\n",
        "    Modality,\n",
        "    SeriesDescription,\n",
        "    gcs_url,\n",
        "    collection_id as idc_collection_id\n",
        "  FROM\n",
        "    `canceridc-data.idc_current.dicom_all`\n",
        "  WHERE\n",
        "    PatientID = @patient_id\n",
        ")\n",
        "SELECT\n",
        "  idc_manifest.*,\n",
        "  # this is necessary since collection IDs used internally by IDC and TCIA are a bit different,\n",
        "  # so we need to get the TCIA collection ID that will be recognized by TCIA API\n",
        "  aux_table.tcia_api_collection_id\n",
        "FROM\n",
        "  idc_manifest\n",
        "JOIN\n",
        "  `canceridc-data.idc_current.auxiliary_metadata` AS aux_table\n",
        "ON\n",
        "  idc_manifest.SOPInstanceUID = aux_table.SOPInstanceUID\n",
        "WHERE \n",
        "    # PatientID is unique and parameterization by collection_id is not really necessary,\n",
        "    # but we use it here for consistency with the query we use with NBIA API, which does\n",
        "    # require collection ID to be specified\n",
        "    aux_table.tcia_api_collection_id = @collection_id\n"
      ],
      "execution_count": null,
      "outputs": []
    },
    {
      "cell_type": "code",
      "metadata": {
        "colab": {
          "base_uri": "https://localhost:8080/"
        },
        "id": "-zy1EmGtdCy5",
        "outputId": "c585b00b-43dc-4225-ce23-ddbb562cbec1"
      },
      "source": [
        "\n",
        "\n",
        "from google.cloud import bigquery\n",
        "bq_client = bigquery.Client(my_ProjectID)\n",
        "\n",
        "selection_query = f\"\\\n",
        "  WITH idc_manifest AS ( \\\n",
        "  SELECT {dicom_attributes_str}, \\\n",
        "    gcs_url, \\\n",
        "    collection_id as idc_collection_id \\\n",
        "  FROM \\\n",
        "    `canceridc-data.idc_current.dicom_all` \\\n",
        "  WHERE \\\n",
        "    PatientID = \\\"{my_PatientID}\\\" \\\n",
        ") \\\n",
        "SELECT \\\n",
        "  idc_manifest.*, \\\n",
        "  # this is necessary since collection IDs used internally by IDC and TCIA are a bit different,\\n \\\n",
        "  # so we need to get the TCIA collection ID that will be recognized by TCIA API\\n \\\n",
        "  aux_table.tcia_api_collection_id \\\n",
        "FROM \\\n",
        "  idc_manifest \\\n",
        "JOIN \\\n",
        "  `canceridc-data.idc_current.auxiliary_metadata` AS aux_table \\\n",
        "ON \\\n",
        "  idc_manifest.SOPInstanceUID = aux_table.SOPInstanceUID \\\n",
        "WHERE \\\n",
        "    # PatientID is unique and parameterization by collection_id is not really necessary,\\n \\\n",
        "    # but we use it here for consistency with the query we use with NBIA API, which does\\n \\\n",
        "    # require collection ID to be specified\\n \\\n",
        "    aux_table.tcia_api_collection_id = \\\"{my_CollectionID}\\\"\" \n",
        "\n",
        "print(selection_query)\n",
        "selection_result = bq_client.query(selection_query)\n",
        "selection_df = selection_result.result().to_dataframe()\n"
      ],
      "execution_count": null,
      "outputs": [
        {
          "output_type": "stream",
          "name": "stdout",
          "text": [
            "  WITH idc_manifest AS (   SELECT PatientID,StudyInstanceUID,SeriesInstanceUID,SOPInstanceUID,Modality,SeriesDescription,     gcs_url,     collection_id as idc_collection_id   FROM     `canceridc-data.idc_current.dicom_all`   WHERE     PatientID = \"LUNG1-002\" ) SELECT   idc_manifest.*,   # this is necessary since collection IDs used internally by IDC and TCIA are a bit different,\n",
            "   # so we need to get the TCIA collection ID that will be recognized by TCIA API\n",
            "   aux_table.tcia_api_collection_id FROM   idc_manifest JOIN   `canceridc-data.idc_current.auxiliary_metadata` AS aux_table ON   idc_manifest.SOPInstanceUID = aux_table.SOPInstanceUID WHERE     # PatientID is unique and parameterization by collection_id is not really necessary,\n",
            "     # but we use it here for consistency with the query we use with NBIA API, which does\n",
            "     # require collection ID to be specified\n",
            "     aux_table.tcia_api_collection_id = \"NSCLC-Radiomics\"\n"
          ]
        }
      ]
    },
    {
      "cell_type": "code",
      "metadata": {
        "colab": {
          "base_uri": "https://localhost:8080/",
          "height": 949
        },
        "id": "0yrVZazpHvsX",
        "outputId": "d4a65ebf-18bf-43e3-dae3-04088c610592"
      },
      "source": [
        "selection_df"
      ],
      "execution_count": null,
      "outputs": [
        {
          "output_type": "execute_result",
          "data": {
            "text/html": [
              "<div>\n",
              "<style scoped>\n",
              "    .dataframe tbody tr th:only-of-type {\n",
              "        vertical-align: middle;\n",
              "    }\n",
              "\n",
              "    .dataframe tbody tr th {\n",
              "        vertical-align: top;\n",
              "    }\n",
              "\n",
              "    .dataframe thead th {\n",
              "        text-align: right;\n",
              "    }\n",
              "</style>\n",
              "<table border=\"1\" class=\"dataframe\">\n",
              "  <thead>\n",
              "    <tr style=\"text-align: right;\">\n",
              "      <th></th>\n",
              "      <th>PatientID</th>\n",
              "      <th>StudyInstanceUID</th>\n",
              "      <th>SeriesInstanceUID</th>\n",
              "      <th>SOPInstanceUID</th>\n",
              "      <th>Modality</th>\n",
              "      <th>SeriesDescription</th>\n",
              "      <th>gcs_url</th>\n",
              "      <th>idc_collection_id</th>\n",
              "      <th>tcia_api_collection_id</th>\n",
              "    </tr>\n",
              "  </thead>\n",
              "  <tbody>\n",
              "    <tr>\n",
              "      <th>0</th>\n",
              "      <td>LUNG1-002</td>\n",
              "      <td>1.3.6.1.4.1.32722.99.99.203715003805996641695765332389135385095</td>\n",
              "      <td>1.3.6.1.4.1.32722.99.99.232988001551799080335895423941323261228</td>\n",
              "      <td>1.3.6.1.4.1.32722.99.99.298218502691919199137670979213568848571</td>\n",
              "      <td>CT</td>\n",
              "      <td>None</td>\n",
              "      <td>gs://idc-open/19bdad22-e870-45c6-ba37-f0835d5256c0.dcm</td>\n",
              "      <td>nsclc_radiomics</td>\n",
              "      <td>NSCLC-Radiomics</td>\n",
              "    </tr>\n",
              "    <tr>\n",
              "      <th>1</th>\n",
              "      <td>LUNG1-002</td>\n",
              "      <td>1.3.6.1.4.1.32722.99.99.203715003805996641695765332389135385095</td>\n",
              "      <td>1.3.6.1.4.1.32722.99.99.232988001551799080335895423941323261228</td>\n",
              "      <td>1.3.6.1.4.1.32722.99.99.321751183161474155839511586248537213184</td>\n",
              "      <td>CT</td>\n",
              "      <td>None</td>\n",
              "      <td>gs://idc-open/8ddfd645-fa50-4843-bce7-a629988a0c38.dcm</td>\n",
              "      <td>nsclc_radiomics</td>\n",
              "      <td>NSCLC-Radiomics</td>\n",
              "    </tr>\n",
              "    <tr>\n",
              "      <th>2</th>\n",
              "      <td>LUNG1-002</td>\n",
              "      <td>1.3.6.1.4.1.32722.99.99.203715003805996641695765332389135385095</td>\n",
              "      <td>1.3.6.1.4.1.32722.99.99.232988001551799080335895423941323261228</td>\n",
              "      <td>1.3.6.1.4.1.32722.99.99.247459144554873335938935136373255518859</td>\n",
              "      <td>CT</td>\n",
              "      <td>None</td>\n",
              "      <td>gs://idc-open/a2a41aae-9ded-41b6-9a7c-01789287d1ae.dcm</td>\n",
              "      <td>nsclc_radiomics</td>\n",
              "      <td>NSCLC-Radiomics</td>\n",
              "    </tr>\n",
              "    <tr>\n",
              "      <th>3</th>\n",
              "      <td>LUNG1-002</td>\n",
              "      <td>1.3.6.1.4.1.32722.99.99.203715003805996641695765332389135385095</td>\n",
              "      <td>1.3.6.1.4.1.32722.99.99.232988001551799080335895423941323261228</td>\n",
              "      <td>1.3.6.1.4.1.32722.99.99.315862515423169291438787508726893507155</td>\n",
              "      <td>CT</td>\n",
              "      <td>None</td>\n",
              "      <td>gs://idc-open/305c63d0-4ddf-4b47-b71c-8213d682c280.dcm</td>\n",
              "      <td>nsclc_radiomics</td>\n",
              "      <td>NSCLC-Radiomics</td>\n",
              "    </tr>\n",
              "    <tr>\n",
              "      <th>4</th>\n",
              "      <td>LUNG1-002</td>\n",
              "      <td>1.3.6.1.4.1.32722.99.99.203715003805996641695765332389135385095</td>\n",
              "      <td>1.3.6.1.4.1.32722.99.99.232988001551799080335895423941323261228</td>\n",
              "      <td>1.3.6.1.4.1.32722.99.99.170726372513580109154581061851514666374</td>\n",
              "      <td>CT</td>\n",
              "      <td>None</td>\n",
              "      <td>gs://idc-open/35ce5f73-7034-4c65-bedc-610feb8e1adf.dcm</td>\n",
              "      <td>nsclc_radiomics</td>\n",
              "      <td>NSCLC-Radiomics</td>\n",
              "    </tr>\n",
              "    <tr>\n",
              "      <th>...</th>\n",
              "      <td>...</td>\n",
              "      <td>...</td>\n",
              "      <td>...</td>\n",
              "      <td>...</td>\n",
              "      <td>...</td>\n",
              "      <td>...</td>\n",
              "      <td>...</td>\n",
              "      <td>...</td>\n",
              "      <td>...</td>\n",
              "    </tr>\n",
              "    <tr>\n",
              "      <th>108</th>\n",
              "      <td>LUNG1-002</td>\n",
              "      <td>1.3.6.1.4.1.32722.99.99.203715003805996641695765332389135385095</td>\n",
              "      <td>1.3.6.1.4.1.32722.99.99.232988001551799080335895423941323261228</td>\n",
              "      <td>1.3.6.1.4.1.32722.99.99.297780402264327912462540642449539626154</td>\n",
              "      <td>CT</td>\n",
              "      <td>None</td>\n",
              "      <td>gs://idc-open/eb161df8-b9f1-4b30-89f1-cfe557671c48.dcm</td>\n",
              "      <td>nsclc_radiomics</td>\n",
              "      <td>NSCLC-Radiomics</td>\n",
              "    </tr>\n",
              "    <tr>\n",
              "      <th>109</th>\n",
              "      <td>LUNG1-002</td>\n",
              "      <td>1.3.6.1.4.1.32722.99.99.203715003805996641695765332389135385095</td>\n",
              "      <td>1.3.6.1.4.1.32722.99.99.232988001551799080335895423941323261228</td>\n",
              "      <td>1.3.6.1.4.1.32722.99.99.217627958779830073744638695564888541259</td>\n",
              "      <td>CT</td>\n",
              "      <td>None</td>\n",
              "      <td>gs://idc-open/029aa22a-b3d2-4dc7-95c8-822c8e2a1449.dcm</td>\n",
              "      <td>nsclc_radiomics</td>\n",
              "      <td>NSCLC-Radiomics</td>\n",
              "    </tr>\n",
              "    <tr>\n",
              "      <th>110</th>\n",
              "      <td>LUNG1-002</td>\n",
              "      <td>1.3.6.1.4.1.32722.99.99.203715003805996641695765332389135385095</td>\n",
              "      <td>1.3.6.1.4.1.32722.99.99.232988001551799080335895423941323261228</td>\n",
              "      <td>1.3.6.1.4.1.32722.99.99.258462822559429226698313067408685071349</td>\n",
              "      <td>CT</td>\n",
              "      <td>None</td>\n",
              "      <td>gs://idc-open/b346b5ee-260c-4682-99ad-8c94df94e5be.dcm</td>\n",
              "      <td>nsclc_radiomics</td>\n",
              "      <td>NSCLC-Radiomics</td>\n",
              "    </tr>\n",
              "    <tr>\n",
              "      <th>111</th>\n",
              "      <td>LUNG1-002</td>\n",
              "      <td>1.3.6.1.4.1.32722.99.99.203715003805996641695765332389135385095</td>\n",
              "      <td>1.3.6.1.4.1.32722.99.99.232988001551799080335895423941323261228</td>\n",
              "      <td>1.3.6.1.4.1.32722.99.99.32570180912014940162636718365591332158</td>\n",
              "      <td>CT</td>\n",
              "      <td>None</td>\n",
              "      <td>gs://idc-open/3542d4d4-5478-4558-a918-757ec459367d.dcm</td>\n",
              "      <td>nsclc_radiomics</td>\n",
              "      <td>NSCLC-Radiomics</td>\n",
              "    </tr>\n",
              "    <tr>\n",
              "      <th>112</th>\n",
              "      <td>LUNG1-002</td>\n",
              "      <td>1.3.6.1.4.1.32722.99.99.203715003805996641695765332389135385095</td>\n",
              "      <td>1.3.6.1.4.1.32722.99.99.232988001551799080335895423941323261228</td>\n",
              "      <td>1.3.6.1.4.1.32722.99.99.205283684721169290918654684476359005088</td>\n",
              "      <td>CT</td>\n",
              "      <td>None</td>\n",
              "      <td>gs://idc-open/eafbfe99-84f0-44e5-a31d-21856912dc4d.dcm</td>\n",
              "      <td>nsclc_radiomics</td>\n",
              "      <td>NSCLC-Radiomics</td>\n",
              "    </tr>\n",
              "  </tbody>\n",
              "</table>\n",
              "<p>113 rows × 9 columns</p>\n",
              "</div>"
            ],
            "text/plain": [
              "     PatientID  ... tcia_api_collection_id\n",
              "0    LUNG1-002  ...        NSCLC-Radiomics\n",
              "1    LUNG1-002  ...        NSCLC-Radiomics\n",
              "2    LUNG1-002  ...        NSCLC-Radiomics\n",
              "3    LUNG1-002  ...        NSCLC-Radiomics\n",
              "4    LUNG1-002  ...        NSCLC-Radiomics\n",
              "..         ...  ...                    ...\n",
              "108  LUNG1-002  ...        NSCLC-Radiomics\n",
              "109  LUNG1-002  ...        NSCLC-Radiomics\n",
              "110  LUNG1-002  ...        NSCLC-Radiomics\n",
              "111  LUNG1-002  ...        NSCLC-Radiomics\n",
              "112  LUNG1-002  ...        NSCLC-Radiomics\n",
              "\n",
              "[113 rows x 9 columns]"
            ]
          },
          "metadata": {},
          "execution_count": 22
        }
      ]
    },
    {
      "cell_type": "markdown",
      "metadata": {
        "id": "mG2USrvUd7yl"
      },
      "source": [
        "### Visualization of the selected study\n",
        "\n",
        "TODO: explain that the data visualized is not the one here on VM, but in IDC and referenced by StudyInstanceUID"
      ]
    },
    {
      "cell_type": "code",
      "metadata": {
        "colab": {
          "base_uri": "https://localhost:8080/"
        },
        "id": "37HX58FxH5jx",
        "outputId": "4e24f39e-769a-4a81-8010-1b45b9870d0e"
      },
      "source": [
        "import pandas as pd\n",
        "distinct_StudyInstanceUIDs = selection_df['StudyInstanceUID'].unique()\n",
        "distinct_StudyInstanceUIDs.sort()\n",
        "print(\"Distinct values of StudyInstanceUID:\")\n",
        "print('\\n'.join(distinct_StudyInstanceUIDs))"
      ],
      "execution_count": null,
      "outputs": [
        {
          "output_type": "stream",
          "name": "stdout",
          "text": [
            "Distinct values of StudyInstanceUID:\n",
            "1.3.6.1.4.1.32722.99.99.203715003805996641695765332389135385095\n"
          ]
        }
      ]
    },
    {
      "cell_type": "code",
      "metadata": {
        "id": "ivbO7k-6kztg"
      },
      "source": [
        "target_StudyInstanceUID = distinct_StudyInstanceUIDs[0]"
      ],
      "execution_count": null,
      "outputs": []
    },
    {
      "cell_type": "code",
      "metadata": {
        "colab": {
          "base_uri": "https://localhost:8080/"
        },
        "id": "HawHLzymeGcb",
        "outputId": "b72d2e3e-1f51-4a7c-8331-09a2abbbd861"
      },
      "source": [
        "def get_idc_viewer_url(studyUID):\n",
        "  return \"https://viewer.imaging.datacommons.cancer.gov/viewer/\"+studyUID\n",
        "\n",
        "study_uid = target_StudyInstanceUID\n",
        "print(get_idc_viewer_url(target_StudyInstanceUID))"
      ],
      "execution_count": null,
      "outputs": [
        {
          "output_type": "stream",
          "name": "stdout",
          "text": [
            "https://viewer.imaging.datacommons.cancer.gov/viewer/1.3.6.1.4.1.32722.99.99.203715003805996641695765332389135385095\n"
          ]
        }
      ]
    },
    {
      "cell_type": "code",
      "metadata": {
        "colab": {
          "base_uri": "https://localhost:8080/",
          "height": 142
        },
        "id": "2oER5RpuIUYi",
        "outputId": "f59a58b7-3417-42f4-ed6e-51cfb561fdac"
      },
      "source": [
        "pd.set_option('display.max_colwidth', None)\n",
        "\n",
        "selection_df[selection_df[\"StudyInstanceUID\"]==target_StudyInstanceUID].groupby(['SeriesInstanceUID','Modality']).size().reset_index().rename(columns={0:'count'})"
      ],
      "execution_count": null,
      "outputs": [
        {
          "output_type": "execute_result",
          "data": {
            "text/html": [
              "<div>\n",
              "<style scoped>\n",
              "    .dataframe tbody tr th:only-of-type {\n",
              "        vertical-align: middle;\n",
              "    }\n",
              "\n",
              "    .dataframe tbody tr th {\n",
              "        vertical-align: top;\n",
              "    }\n",
              "\n",
              "    .dataframe thead th {\n",
              "        text-align: right;\n",
              "    }\n",
              "</style>\n",
              "<table border=\"1\" class=\"dataframe\">\n",
              "  <thead>\n",
              "    <tr style=\"text-align: right;\">\n",
              "      <th></th>\n",
              "      <th>SeriesInstanceUID</th>\n",
              "      <th>Modality</th>\n",
              "      <th>count</th>\n",
              "    </tr>\n",
              "  </thead>\n",
              "  <tbody>\n",
              "    <tr>\n",
              "      <th>0</th>\n",
              "      <td>1.2.276.0.7230010.3.1.3.2323910823.11504.1597260515.421</td>\n",
              "      <td>SEG</td>\n",
              "      <td>1</td>\n",
              "    </tr>\n",
              "    <tr>\n",
              "      <th>1</th>\n",
              "      <td>1.3.6.1.4.1.32722.99.99.232988001551799080335895423941323261228</td>\n",
              "      <td>CT</td>\n",
              "      <td>111</td>\n",
              "    </tr>\n",
              "    <tr>\n",
              "      <th>2</th>\n",
              "      <td>1.3.6.1.4.1.32722.99.99.243267551266911245830259417117543245931</td>\n",
              "      <td>RTSTRUCT</td>\n",
              "      <td>1</td>\n",
              "    </tr>\n",
              "  </tbody>\n",
              "</table>\n",
              "</div>"
            ],
            "text/plain": [
              "                                                 SeriesInstanceUID  ... count\n",
              "0          1.2.276.0.7230010.3.1.3.2323910823.11504.1597260515.421  ...     1\n",
              "1  1.3.6.1.4.1.32722.99.99.232988001551799080335895423941323261228  ...   111\n",
              "2  1.3.6.1.4.1.32722.99.99.243267551266911245830259417117543245931  ...     1\n",
              "\n",
              "[3 rows x 3 columns]"
            ]
          },
          "metadata": {},
          "execution_count": 12
        }
      ]
    },
    {
      "cell_type": "code",
      "metadata": {
        "id": "X4YXrk6PIkJe"
      },
      "source": [
        "import os\n",
        "idc_download_folder = \"/content/IDC_downloads\"\n",
        "if not os.path.exists(idc_download_folder):\n",
        "  os.mkdir(idc_download_folder)\n",
        "\n",
        "selection_manifest = os.path.join(idc_download_folder, \"idc_manifest.txt\")\n",
        "selection_df[selection_df[\"StudyInstanceUID\"]==target_StudyInstanceUID][\"gcs_url\"].to_csv(selection_manifest, header=False, index=False)"
      ],
      "execution_count": null,
      "outputs": []
    },
    {
      "cell_type": "code",
      "metadata": {
        "colab": {
          "base_uri": "https://localhost:8080/"
        },
        "id": "mIKSKvW8mdsN",
        "outputId": "2d7ec5fa-7bba-4dc4-8962-3650f67dfad8"
      },
      "source": [
        "!cat /content/IDC_downloads/idc_manifest.txt |wc"
      ],
      "execution_count": null,
      "outputs": [
        {
          "output_type": "stream",
          "name": "stdout",
          "text": [
            "    113     113     349\n"
          ]
        }
      ]
    },
    {
      "cell_type": "code",
      "metadata": {
        "id": "KdZSVftdjFPl"
      },
      "source": [
        "!rm -rf /content/IDC_downloads/*.dcm"
      ],
      "execution_count": null,
      "outputs": []
    },
    {
      "cell_type": "code",
      "metadata": {
        "id": "6ydwu1tSYScJ"
      },
      "source": [
        "%%capture\n",
        "\n",
        "!cat /content/IDC_downloads/idc_manifest.txt | gsutil -u $GCP_PROJECT_ID -m cp -I /content/IDC_downloads"
      ],
      "execution_count": null,
      "outputs": []
    },
    {
      "cell_type": "markdown",
      "metadata": {
        "id": "hxJzr-GDIlAV"
      },
      "source": [
        "### Selection and download of data from TCIA\n",
        "\n",
        "For the sake of simplicity, we will download images for a specific case that we know has CT of the chest, and segmentations of the organs of interest. This time, let's utilize the [NBIA REST API](https://wiki.cancerimagingarchive.net/x/fILTB) instead of the NBIA Data Retriever to download the data.\n",
        "\n"
      ]
    },
    {
      "cell_type": "code",
      "metadata": {
        "id": "qfeBJ2D_nEFD"
      },
      "source": [
        "!rm -rf /content/TCIA_downloads/*.dcm"
      ],
      "execution_count": null,
      "outputs": []
    },
    {
      "cell_type": "code",
      "metadata": {
        "id": "TfWQjFEQNEbJ"
      },
      "source": [
        "import requests\n",
        "params = {\"Collection\":my_CollectionID, \"PatientID\":my_PatientID}\n",
        "r = requests.get(\"https://services.cancerimagingarchive.net/nbia-api/services/v1/getSeries\", params=params)\n",
        "if r.status_code == 200:\n",
        "  df = pd.read_json(r.text)\n",
        "else:\n",
        "  print(f\"Failed with {r.status_code}\")"
      ],
      "execution_count": null,
      "outputs": []
    },
    {
      "cell_type": "code",
      "metadata": {
        "colab": {
          "base_uri": "https://localhost:8080/"
        },
        "id": "SBdRxH9emEsw",
        "outputId": "a381050f-ac3e-41c5-d2ef-b9a73c5b4d8b"
      },
      "source": [
        "import json\n",
        "tcia_manifest_json = json.loads(r.text)\n",
        "\n",
        "\n",
        "tcia_selection_df = pd.read_json(r.text)\n",
        "\n",
        "distinct_StudyInstanceUIDs = selection_df['StudyInstanceUID'].unique()\n",
        "distinct_StudyInstanceUIDs.sort()\n",
        "print(\"Distinct values of StudyInstanceUID:\")\n",
        "print('\\n'.join(distinct_StudyInstanceUIDs))\n",
        "\n",
        "study_uid = distinct_StudyInstanceUIDs[0]\n",
        "print(f\"\\nStudy that will be analyzed: {study_uid}\")"
      ],
      "execution_count": null,
      "outputs": [
        {
          "output_type": "stream",
          "name": "stdout",
          "text": [
            "Distinct values of StudyInstanceUID:\n",
            "1.3.6.1.4.1.32722.99.99.203715003805996641695765332389135385095\n",
            "\n",
            "Study that will be analyzed: 1.3.6.1.4.1.32722.99.99.203715003805996641695765332389135385095\n"
          ]
        }
      ]
    },
    {
      "cell_type": "code",
      "metadata": {
        "id": "DOYNkKApoNFr"
      },
      "source": [
        "!rm -rf /content/TCIA_downloads/*.dcm"
      ],
      "execution_count": null,
      "outputs": []
    },
    {
      "cell_type": "code",
      "metadata": {
        "colab": {
          "base_uri": "https://localhost:8080/"
        },
        "id": "skFm7Y-6Mu9L",
        "outputId": "4ab48889-7160-4a5b-e3bf-69e26a703c9d"
      },
      "source": [
        "import json, zipfile\n",
        "\n",
        "series_list = tcia_selection_df[tcia_selection_df[\"StudyInstanceUID\"]==study_uid][\"SeriesInstanceUID\"].unique()\n",
        "\n",
        "tcia_download_folder = \"/content/TCIA_downloads\"\n",
        "if not os.path.exists(tcia_download_folder):\n",
        "  os.mkdir(tcia_download_folder)\n",
        "\n",
        "for series_uid in series_list:\n",
        "\n",
        "  # download zip file with the series instances\n",
        "  params = {\"SeriesInstanceUID\":series_uid}\n",
        "  image_request = requests.get(\" https://services.cancerimagingarchive.net/nbia-api/services/v1/getImage\", params=params, stream=True)\n",
        "  print(f\"Completed request: {image_request.url}\")\n",
        "  if image_request.status_code == 200:\n",
        "    series_zip_name = os.path.join(tcia_download_folder, f\"{series_uid}.zip\")\n",
        "    with open(series_zip_name, \"wb\") as f:\n",
        "      for chunk in image_request.iter_content(chunk_size=1024):\n",
        "        f.write(chunk)\n",
        "    print(f\"Downloaded and saved series {series_uid}\")\n",
        "\n",
        "    # extract individual instances from the series zip file\n",
        "    series_folder_name = os.path.join(tcia_download_folder, series_uid)\n",
        "    if not os.path.exists(series_folder_name):\n",
        "      os.mkdir(series_folder_name)\n",
        "    with zipfile.ZipFile(series_zip_name, 'r') as zip_ref:\n",
        "      zip_ref.extractall(series_folder_name)\n",
        "  else:\n",
        "    print(f\"Failed with {r.status_code}\")"
      ],
      "execution_count": null,
      "outputs": [
        {
          "output_type": "stream",
          "name": "stdout",
          "text": [
            "Completed request: https://services.cancerimagingarchive.net/nbia-api/services/v1/getImage?SeriesInstanceUID=1.3.6.1.4.1.32722.99.99.232988001551799080335895423941323261228\n",
            "Downloaded and saved series 1.3.6.1.4.1.32722.99.99.232988001551799080335895423941323261228\n",
            "Completed request: https://services.cancerimagingarchive.net/nbia-api/services/v1/getImage?SeriesInstanceUID=1.3.6.1.4.1.32722.99.99.243267551266911245830259417117543245931\n",
            "Downloaded and saved series 1.3.6.1.4.1.32722.99.99.243267551266911245830259417117543245931\n",
            "Completed request: https://services.cancerimagingarchive.net/nbia-api/services/v1/getImage?SeriesInstanceUID=1.2.276.0.7230010.3.1.3.2323910823.11504.1597260515.421\n",
            "Downloaded and saved series 1.2.276.0.7230010.3.1.3.2323910823.11504.1597260515.421\n"
          ]
        }
      ]
    },
    {
      "cell_type": "markdown",
      "metadata": {
        "id": "ge9r1Y0b2IKV"
      },
      "source": [
        "TODO: discuss the utility of the command line retriever"
      ]
    },
    {
      "cell_type": "markdown",
      "metadata": {
        "id": "0JzSPxXD6AYd"
      },
      "source": [
        "Now we will extract DICOM attributes of interset to enable more convenient exploration and subsetting of series within the study."
      ]
    },
    {
      "cell_type": "code",
      "metadata": {
        "id": "3cip5y5A6HeZ"
      },
      "source": [
        "import glob\n",
        "import pydicom\n",
        "\n",
        "selection_dict = []\n",
        "for root, _, files in os.walk(tcia_download_folder):\n",
        "  for file in files:\n",
        "    if file.endswith(\".dcm\"):\n",
        "      dcm = pydicom.read_file(os.path.join(root, file), stop_before_pixels=True)\n",
        "      dict_item = {}\n",
        "      for attr in dicom_attributes:\n",
        "        try:\n",
        "          dict_item[attr] = dcm.data_element(attr).value\n",
        "        except (AttributeError, KeyError) as e:\n",
        "          #print(f\"Failed to find {attr} in {file}! Skipping.\")\n",
        "          dict_item[attr] = None\n",
        "      selection_dict.append(dict_item)\n",
        "tcia_selection_df = pd.DataFrame(selection_dict)"
      ],
      "execution_count": null,
      "outputs": []
    },
    {
      "cell_type": "code",
      "metadata": {
        "colab": {
          "base_uri": "https://localhost:8080/",
          "height": 439
        },
        "id": "ZAuPIshF91Tj",
        "outputId": "f0e36a3b-4503-478a-d24b-3fdbff011fd9"
      },
      "source": [
        "tcia_selection_df"
      ],
      "execution_count": null,
      "outputs": [
        {
          "output_type": "execute_result",
          "data": {
            "text/html": [
              "<div>\n",
              "<style scoped>\n",
              "    .dataframe tbody tr th:only-of-type {\n",
              "        vertical-align: middle;\n",
              "    }\n",
              "\n",
              "    .dataframe tbody tr th {\n",
              "        vertical-align: top;\n",
              "    }\n",
              "\n",
              "    .dataframe thead th {\n",
              "        text-align: right;\n",
              "    }\n",
              "</style>\n",
              "<table border=\"1\" class=\"dataframe\">\n",
              "  <thead>\n",
              "    <tr style=\"text-align: right;\">\n",
              "      <th></th>\n",
              "      <th>PatientID</th>\n",
              "      <th>StudyInstanceUID</th>\n",
              "      <th>SeriesInstanceUID</th>\n",
              "      <th>SOPInstanceUID</th>\n",
              "      <th>Modality</th>\n",
              "      <th>SeriesDescription</th>\n",
              "    </tr>\n",
              "  </thead>\n",
              "  <tbody>\n",
              "    <tr>\n",
              "      <th>0</th>\n",
              "      <td>LUNG1-002</td>\n",
              "      <td>1.3.6.1.4.1.32722.99.99.203715003805996641695765332389135385095</td>\n",
              "      <td>1.2.276.0.7230010.3.1.3.2323910823.11504.1597260515.421</td>\n",
              "      <td>1.2.276.0.7230010.3.1.4.2323910823.11504.1597260515.422</td>\n",
              "      <td>SEG</td>\n",
              "      <td>Segmentation</td>\n",
              "    </tr>\n",
              "    <tr>\n",
              "      <th>1</th>\n",
              "      <td>LUNG1-002</td>\n",
              "      <td>1.3.6.1.4.1.32722.99.99.203715003805996641695765332389135385095</td>\n",
              "      <td>1.3.6.1.4.1.32722.99.99.232988001551799080335895423941323261228</td>\n",
              "      <td>1.3.6.1.4.1.32722.99.99.15472669542728422665353241498103546515</td>\n",
              "      <td>CT</td>\n",
              "      <td>None</td>\n",
              "    </tr>\n",
              "    <tr>\n",
              "      <th>2</th>\n",
              "      <td>LUNG1-002</td>\n",
              "      <td>1.3.6.1.4.1.32722.99.99.203715003805996641695765332389135385095</td>\n",
              "      <td>1.3.6.1.4.1.32722.99.99.232988001551799080335895423941323261228</td>\n",
              "      <td>1.3.6.1.4.1.32722.99.99.140221204778341866655290899728202242960</td>\n",
              "      <td>CT</td>\n",
              "      <td>None</td>\n",
              "    </tr>\n",
              "    <tr>\n",
              "      <th>3</th>\n",
              "      <td>LUNG1-002</td>\n",
              "      <td>1.3.6.1.4.1.32722.99.99.203715003805996641695765332389135385095</td>\n",
              "      <td>1.3.6.1.4.1.32722.99.99.232988001551799080335895423941323261228</td>\n",
              "      <td>1.3.6.1.4.1.32722.99.99.217627958779830073744638695564888541259</td>\n",
              "      <td>CT</td>\n",
              "      <td>None</td>\n",
              "    </tr>\n",
              "    <tr>\n",
              "      <th>4</th>\n",
              "      <td>LUNG1-002</td>\n",
              "      <td>1.3.6.1.4.1.32722.99.99.203715003805996641695765332389135385095</td>\n",
              "      <td>1.3.6.1.4.1.32722.99.99.232988001551799080335895423941323261228</td>\n",
              "      <td>1.3.6.1.4.1.32722.99.99.230236954832347398052995506955586658648</td>\n",
              "      <td>CT</td>\n",
              "      <td>None</td>\n",
              "    </tr>\n",
              "    <tr>\n",
              "      <th>...</th>\n",
              "      <td>...</td>\n",
              "      <td>...</td>\n",
              "      <td>...</td>\n",
              "      <td>...</td>\n",
              "      <td>...</td>\n",
              "      <td>...</td>\n",
              "    </tr>\n",
              "    <tr>\n",
              "      <th>108</th>\n",
              "      <td>LUNG1-002</td>\n",
              "      <td>1.3.6.1.4.1.32722.99.99.203715003805996641695765332389135385095</td>\n",
              "      <td>1.3.6.1.4.1.32722.99.99.232988001551799080335895423941323261228</td>\n",
              "      <td>1.3.6.1.4.1.32722.99.99.94819050216170160776063477385354385754</td>\n",
              "      <td>CT</td>\n",
              "      <td>None</td>\n",
              "    </tr>\n",
              "    <tr>\n",
              "      <th>109</th>\n",
              "      <td>LUNG1-002</td>\n",
              "      <td>1.3.6.1.4.1.32722.99.99.203715003805996641695765332389135385095</td>\n",
              "      <td>1.3.6.1.4.1.32722.99.99.232988001551799080335895423941323261228</td>\n",
              "      <td>1.3.6.1.4.1.32722.99.99.85555755502883933229713344803786562662</td>\n",
              "      <td>CT</td>\n",
              "      <td>None</td>\n",
              "    </tr>\n",
              "    <tr>\n",
              "      <th>110</th>\n",
              "      <td>LUNG1-002</td>\n",
              "      <td>1.3.6.1.4.1.32722.99.99.203715003805996641695765332389135385095</td>\n",
              "      <td>1.3.6.1.4.1.32722.99.99.232988001551799080335895423941323261228</td>\n",
              "      <td>1.3.6.1.4.1.32722.99.99.335431391127252846617575213152381070448</td>\n",
              "      <td>CT</td>\n",
              "      <td>None</td>\n",
              "    </tr>\n",
              "    <tr>\n",
              "      <th>111</th>\n",
              "      <td>LUNG1-002</td>\n",
              "      <td>1.3.6.1.4.1.32722.99.99.203715003805996641695765332389135385095</td>\n",
              "      <td>1.3.6.1.4.1.32722.99.99.232988001551799080335895423941323261228</td>\n",
              "      <td>1.3.6.1.4.1.32722.99.99.291227191644345827680484811205681590804</td>\n",
              "      <td>CT</td>\n",
              "      <td>None</td>\n",
              "    </tr>\n",
              "    <tr>\n",
              "      <th>112</th>\n",
              "      <td>LUNG1-002</td>\n",
              "      <td>1.3.6.1.4.1.32722.99.99.203715003805996641695765332389135385095</td>\n",
              "      <td>1.3.6.1.4.1.32722.99.99.243267551266911245830259417117543245931</td>\n",
              "      <td>1.3.6.1.4.1.32722.99.99.176299286985297380474523377188427934842</td>\n",
              "      <td>RTSTRUCT</td>\n",
              "      <td>None</td>\n",
              "    </tr>\n",
              "  </tbody>\n",
              "</table>\n",
              "<p>113 rows × 6 columns</p>\n",
              "</div>"
            ],
            "text/plain": [
              "     PatientID  ... SeriesDescription\n",
              "0    LUNG1-002  ...      Segmentation\n",
              "1    LUNG1-002  ...              None\n",
              "2    LUNG1-002  ...              None\n",
              "3    LUNG1-002  ...              None\n",
              "4    LUNG1-002  ...              None\n",
              "..         ...  ...               ...\n",
              "108  LUNG1-002  ...              None\n",
              "109  LUNG1-002  ...              None\n",
              "110  LUNG1-002  ...              None\n",
              "111  LUNG1-002  ...              None\n",
              "112  LUNG1-002  ...              None\n",
              "\n",
              "[113 rows x 6 columns]"
            ]
          },
          "metadata": {},
          "execution_count": 98
        }
      ]
    },
    {
      "cell_type": "markdown",
      "metadata": {
        "id": "ZvlSBfPRdRpz"
      },
      "source": [
        "## Download consistency check\n",
        "\n",
        "Let's check the content downloaded from the two repositories is identical, just in case. This section will apply only if you downloaded the data both from IDC and TCIA."
      ]
    },
    {
      "cell_type": "code",
      "metadata": {
        "colab": {
          "base_uri": "https://localhost:8080/"
        },
        "id": "GsePTNBmM9sw",
        "outputId": "687fcbd6-a361-4e28-b2a8-cd01960a29fe"
      },
      "source": [
        "!git clone https://github.com/pieper/dicomsort.git\n",
        "!pip install pydicom"
      ],
      "execution_count": null,
      "outputs": [
        {
          "output_type": "stream",
          "name": "stdout",
          "text": [
            "Cloning into 'dicomsort'...\n",
            "remote: Enumerating objects: 126, done.\u001b[K\n",
            "remote: Total 126 (delta 0), reused 0 (delta 0), pack-reused 126\u001b[K\n",
            "Receiving objects: 100% (126/126), 37.03 KiB | 541.00 KiB/s, done.\n",
            "Resolving deltas: 100% (63/63), done.\n",
            "Collecting pydicom\n",
            "  Downloading pydicom-2.2.2-py3-none-any.whl (2.0 MB)\n",
            "\u001b[K     |████████████████████████████████| 2.0 MB 4.1 MB/s \n",
            "\u001b[?25hInstalling collected packages: pydicom\n",
            "Successfully installed pydicom-2.2.2\n"
          ]
        }
      ]
    },
    {
      "cell_type": "code",
      "metadata": {
        "colab": {
          "base_uri": "https://localhost:8080/"
        },
        "id": "q9aVI7qAbaT0",
        "outputId": "afe07343-e0ef-4615-efa7-eb5e969f00e2"
      },
      "source": [
        "!mkdir -p IDC_sorted && mkdir -p TCIA_sorted\n",
        "!python dicomsort/dicomsort.py -k -u IDC_downloads IDC_sorted/%PatientID/%StudyInstanceUID/%SeriesInstanceUID/%SOPInstanceUID.dcm\n",
        "!python dicomsort/dicomsort.py -k -u TCIA_downloads TCIA_sorted/%PatientID/%StudyInstanceUID/%SeriesInstanceUID/%SOPInstanceUID.dcm"
      ],
      "execution_count": null,
      "outputs": [
        {
          "output_type": "stream",
          "name": "stdout",
          "text": [
            "100% 114/114 [00:01<00:00, 96.50it/s]\n",
            "Files sorted\n",
            "Source directory does not exist: TCIA_downloads\n"
          ]
        }
      ]
    },
    {
      "cell_type": "code",
      "metadata": {
        "id": "TNDv9Eq5czJx"
      },
      "source": [
        "!diff -r IDC_sorted TCIA_sorted"
      ],
      "execution_count": null,
      "outputs": []
    },
    {
      "cell_type": "markdown",
      "metadata": {
        "id": "ewcZsa1rzKHi"
      },
      "source": [
        "Move the sorted data into the right place"
      ]
    },
    {
      "cell_type": "code",
      "metadata": {
        "id": "DZ_LAvUGEGxj"
      },
      "source": [
        "!mkdir -p tutorial/data/dicom && mv IDC_sorted/* tutorial/data/dicom"
      ],
      "execution_count": null,
      "outputs": []
    },
    {
      "cell_type": "markdown",
      "metadata": {
        "id": "eRtmCas7dT6D"
      },
      "source": [
        "## Setup of the Colab VM\n",
        "\n",
        "\n",
        "\n",
        "In the following cells we will confirm you have a GPU before doing anything else, and will install and import all the Python dependencies. \n",
        "\n",
        "The main python packages we need to install are:\n",
        "* `nnunet` - which is the [codebase for the nn-UNet framework](https://github.com/MIC-DKFZ/nnUNet) we are going to be using for the segmentation step;\n",
        "* `pydicom`, a Python [package](https://github.com/pydicom/pydicom) that lets the use read, modify, and write DICOM data in an easy \"pythonic\" way - that we are going to use to distinguish different DICOM objects from each other."
      ]
    },
    {
      "cell_type": "markdown",
      "metadata": {
        "id": "zLvysANUArnm"
      },
      "source": [
        "### GPU checks"
      ]
    },
    {
      "cell_type": "code",
      "metadata": {
        "id": "Pf2j172mddvK"
      },
      "source": [
        "# check wether the Colab Instance was correctly initialized with a GPU instance\n",
        "gpu_list = !nvidia-smi --list-gpus\n",
        "\n",
        "has_gpu = False if \"failed\" in gpu_list[0] else True\n",
        "\n",
        "if not has_gpu:\n",
        "  print(\"Your Colab VM does not have a GPU - check \\\"Runtime > Change runtime type\\\"\")"
      ],
      "execution_count": null,
      "outputs": []
    },
    {
      "cell_type": "code",
      "metadata": {
        "colab": {
          "base_uri": "https://localhost:8080/"
        },
        "id": "kL6xCvo3eKQ0",
        "outputId": "a208419e-4820-4f55-f7ed-eff1416f07c4"
      },
      "source": [
        "# check which model of GPU the notebook is equipped with - a Tesla K80 or T4\n",
        "# T4 is the best performing on the two - and can about half the GPU processing time\n",
        "\n",
        "!nvidia-smi"
      ],
      "execution_count": null,
      "outputs": [
        {
          "output_type": "stream",
          "name": "stdout",
          "text": [
            "Wed Nov 17 19:42:07 2021       \n",
            "+-----------------------------------------------------------------------------+\n",
            "| NVIDIA-SMI 495.44       Driver Version: 460.32.03    CUDA Version: 11.2     |\n",
            "|-------------------------------+----------------------+----------------------+\n",
            "| GPU  Name        Persistence-M| Bus-Id        Disp.A | Volatile Uncorr. ECC |\n",
            "| Fan  Temp  Perf  Pwr:Usage/Cap|         Memory-Usage | GPU-Util  Compute M. |\n",
            "|                               |                      |               MIG M. |\n",
            "|===============================+======================+======================|\n",
            "|   0  Tesla K80           Off  | 00000000:00:04.0 Off |                    0 |\n",
            "| N/A   60C    P8    30W / 149W |      0MiB / 11441MiB |      0%      Default |\n",
            "|                               |                      |                  N/A |\n",
            "+-------------------------------+----------------------+----------------------+\n",
            "                                                                               \n",
            "+-----------------------------------------------------------------------------+\n",
            "| Processes:                                                                  |\n",
            "|  GPU   GI   CI        PID   Type   Process name                  GPU Memory |\n",
            "|        ID   ID                                                   Usage      |\n",
            "|=============================================================================|\n",
            "|  No running processes found                                                 |\n",
            "+-----------------------------------------------------------------------------+\n"
          ]
        }
      ]
    },
    {
      "cell_type": "markdown",
      "metadata": {
        "id": "ZJhwBz2ABT_p"
      },
      "source": [
        "### Environment Setup\n",
        "\n",
        "Set the Linux environment variables needed to run the nnU-Net pipeline. \n",
        "\n",
        "Three main variables are needed by default to run the nnU-Net segmentation pipelines:\n",
        "* `nnUNet_raw_data_base` is the path to the folder where the segmentation pipeline expects to find the data to process;\n",
        "* `nnUNet_preprocessed` is the path to the folder where the preprocessed data are saved;\n",
        "* `RESULTS_FOLDER` is the path to the folder storing by default the model weights and, in our case, for simplicity, the segmentation masks produced by the pipeline.\n",
        "\n",
        "We will use the additional variable `PATH_TO_MODEL_FILE` to point to the location where the pre-trained model weights for the chosen model will be stored (more on this later).\n",
        "\n",
        "Please notice that these variables need to be set using `os.environ[]` in Google Colab - as `!export` is not sufficient to guarantee the variables are kept from one cell to the other. For more in-depth information regarding what the nnU-Net framework uses these folders for, please visit [the dedicated nnU-Net documentation page](https://github.com/MIC-DKFZ/nnUNet/blob/master/documentation/setting_up_paths.md)"
      ]
    },
    {
      "cell_type": "code",
      "metadata": {
        "id": "gjiHm26cBdKm"
      },
      "source": [
        "# set env variables for the bash process\n",
        "import os\n",
        "os.environ['nnUNet_raw_data_base'] = \"/content/tutorial/data/nnUNet_raw_data/\"\n",
        "os.environ['nnUNet_preprocessed'] = \"/content/tutorial/data/processed/\"\n",
        "\n",
        "os.environ[\"RESULTS_FOLDER\"] = \"/content/tutorial/output/\"\n",
        "os.environ[\"PATH_TO_MODEL_FILE\"] = \"/content/tutorial/models/Task055_SegTHOR.zip\"\n",
        "\n",
        "dicom_sorted_dir = \"/content/tutorial/data/dicom\""
      ],
      "execution_count": null,
      "outputs": []
    },
    {
      "cell_type": "markdown",
      "metadata": {
        "id": "40E3HnI5A0SX"
      },
      "source": [
        "### Command-line tools\n",
        "\n",
        "\n",
        "The only package we will need for this tutorial is [Plastimatch](https://plastimatch.org/index.html). Plastimatch is considered to be the swiss army knife of medical images processing: we will use it to convert DICOM (CT, RTSTRUCT) series to NRRD files - but it can be used for a multitude of other tasks, such as registration, resampling, cropping, and computing statistics to name a few. Plastimatch is also available as a 3DSlicer plug-in and can be used directly from the Slicer GUI.\n",
        "\n",
        "For the sake of clarity and simplicity, we will call Plastimatch from a very simple [Python wrapper](https://github.com/denbonte/pyplastimatch) written for the occasion (unfortunately, Plastimatch does not provide an official one) - more on this later."
      ]
    },
    {
      "cell_type": "code",
      "metadata": {
        "id": "ZZL6-ByHA7XY"
      },
      "source": [
        "%%capture\n",
        "!sudo apt update\n",
        "\n",
        "!sudo apt install plastimatch"
      ],
      "execution_count": null,
      "outputs": []
    },
    {
      "cell_type": "code",
      "metadata": {
        "colab": {
          "base_uri": "https://localhost:8080/"
        },
        "id": "LMovHnKgBEfC",
        "outputId": "32aac87e-247e-4d99-fbef-ed1b2891e1e3"
      },
      "source": [
        "!echo $(plastimatch --version)"
      ],
      "execution_count": null,
      "outputs": [
        {
          "output_type": "stream",
          "name": "stdout",
          "text": [
            "plastimatch version 1.7.0\n"
          ]
        }
      ]
    },
    {
      "cell_type": "markdown",
      "metadata": {
        "id": "fFRWendbBH72"
      },
      "source": [
        "We are also going to install subversion, a tool that will allow us to clone GitHub repositories only partially (to save time and space)."
      ]
    },
    {
      "cell_type": "code",
      "metadata": {
        "id": "YBEJRe-2BKah"
      },
      "source": [
        "%%capture\n",
        "\n",
        "!sudo apt install subversion"
      ],
      "execution_count": null,
      "outputs": []
    },
    {
      "cell_type": "code",
      "metadata": {
        "colab": {
          "base_uri": "https://localhost:8080/"
        },
        "id": "WI1_BixWBN1O",
        "outputId": "2683e1a7-2437-49e2-dc08-451db3de10ac"
      },
      "source": [
        "!echo $(svn --version | head -n 2)"
      ],
      "execution_count": null,
      "outputs": [
        {
          "output_type": "stream",
          "name": "stdout",
          "text": [
            "svn, version 1.9.7 (r1800392) compiled Mar 28 2018, 08:49:13 on x86_64-pc-linux-gnu\n"
          ]
        }
      ]
    },
    {
      "cell_type": "markdown",
      "metadata": {
        "id": "0Ev-JlpCAuMs"
      },
      "source": [
        "### Python packages"
      ]
    },
    {
      "cell_type": "code",
      "metadata": {
        "id": "7XMzq-8nRvKd"
      },
      "source": [
        "%%capture\n",
        "!pip install nnunet\n",
        "!pip install pydicom"
      ],
      "execution_count": null,
      "outputs": []
    },
    {
      "cell_type": "code",
      "metadata": {
        "colab": {
          "base_uri": "https://localhost:8080/"
        },
        "id": "cURjj8rzAa2L",
        "outputId": "3ebfd1e4-bcca-44e7-e888-f7ae3a5c65d8"
      },
      "source": [
        "import os\n",
        "import sys\n",
        "import shutil\n",
        "\n",
        "import time\n",
        "import gdown\n",
        "\n",
        "import json\n",
        "import pprint\n",
        "import numpy as np\n",
        "import pandas as pd\n",
        "\n",
        "import pydicom\n",
        "import nibabel as nib\n",
        "import SimpleITK as sitk\n",
        "\n",
        "from medpy.metric.binary import dc as dice_coef\n",
        "from medpy.metric.binary import hd as hausdorff_distance\n",
        "from medpy.metric.binary import asd as avg_surf_distance\n",
        "\n",
        "from medpy.filter.binary import largest_connected_component\n",
        "\n",
        "# use the \"tensorflow_version\" magic to make sure TF 1.x is imported\n",
        "%tensorflow_version 1.x\n",
        "import tensorflow as tf\n",
        "import keras\n",
        "\n",
        "print(\"Python version               : \", sys.version.split('\\n')[0])\n",
        "print(\"Numpy version                : \", np.__version__)\n",
        "print(\"TensorFlow version           : \", tf.__version__)\n",
        "print(\"Keras (stand-alone) version  : \", keras.__version__)\n",
        "\n",
        "print(\"\\nThis Colab instance is equipped with a GPU.\")\n",
        "\n",
        "# ----------------------------------------\n",
        "\n",
        "#everything that has to do with plotting goes here below\n",
        "import matplotlib\n",
        "matplotlib.use(\"agg\")\n",
        "\n",
        "import matplotlib.pyplot as plt\n",
        "from matplotlib.colors import ListedColormap\n",
        "\n",
        "%matplotlib inline\n",
        "%config InlineBackend.figure_format = \"png\"\n",
        "\n",
        "import ipywidgets as ipyw\n",
        "\n",
        "## ----------------------------------------\n",
        "\n",
        "# create new colormap appending the alpha channel to the selected one\n",
        "# (so that we don't get a \\\"color overlay\\\" when plotting the segmask superimposed to the CT)\n",
        "cmap = plt.cm.Reds\n",
        "my_reds = cmap(np.arange(cmap.N))\n",
        "my_reds[:,-1] = np.linspace(0, 1, cmap.N)\n",
        "my_reds = ListedColormap(my_reds)\n",
        "\n",
        "cmap = plt.cm.Greens\n",
        "my_greens = cmap(np.arange(cmap.N))\n",
        "my_greens[:,-1] = np.linspace(0, 1, cmap.N)\n",
        "my_greens = ListedColormap(my_greens)\n",
        "\n",
        "cmap = plt.cm.Blues\n",
        "my_blues = cmap(np.arange(cmap.N))\n",
        "my_blues[:,-1] = np.linspace(0, 1, cmap.N)\n",
        "my_blues = ListedColormap(my_blues)\n",
        "\n",
        "cmap = plt.cm.spring\n",
        "my_spring = cmap(np.arange(cmap.N))\n",
        "my_spring[:,-1] = np.linspace(0, 1, cmap.N)\n",
        "my_spring = ListedColormap(my_spring)\n",
        "## ----------------------------------------\n",
        "\n",
        "import seaborn as sns"
      ],
      "execution_count": null,
      "outputs": [
        {
          "output_type": "stream",
          "name": "stdout",
          "text": [
            "TensorFlow 1.x selected.\n",
            "Python version               :  3.7.12 (default, Sep 10 2021, 00:21:48) \n",
            "Numpy version                :  1.19.5\n",
            "TensorFlow version           :  1.15.2\n",
            "Keras (stand-alone) version  :  2.3.1\n",
            "\n",
            "This Colab instance is equipped with a GPU.\n"
          ]
        },
        {
          "output_type": "stream",
          "name": "stderr",
          "text": [
            "Using TensorFlow backend.\n"
          ]
        }
      ]
    },
    {
      "cell_type": "code",
      "metadata": {
        "colab": {
          "base_uri": "https://localhost:8080/"
        },
        "id": "UrAh2kjqb2Be",
        "outputId": "38c39351-de68-4529-f2e9-9c6d4506bfd0"
      },
      "source": [
        "# PyPlastimatch - python wrapper for Plastimatch (and interactive notebook visualisation)\n",
        "!svn checkout https://github.com/AIM-Harvard/pyplastimatch/trunk/pyplastimatch tutorial/pyplastimatch"
      ],
      "execution_count": null,
      "outputs": [
        {
          "output_type": "stream",
          "name": "stdout",
          "text": [
            "A    tutorial/pyplastimatch/__init__.py\n",
            "A    tutorial/pyplastimatch/pyplastimatch.py\n",
            "A    tutorial/pyplastimatch/utils\n",
            "A    tutorial/pyplastimatch/utils/__init__.py\n",
            "A    tutorial/pyplastimatch/utils/data.py\n",
            "A    tutorial/pyplastimatch/utils/eval.py\n",
            "A    tutorial/pyplastimatch/utils/viz.py\n",
            "Checked out revision 17.\n"
          ]
        }
      ]
    },
    {
      "cell_type": "markdown",
      "metadata": {
        "id": "kGobegw-Bvz5"
      },
      "source": [
        "## nn-UNet model setup\n",
        "\n",
        "### Thoracic Organs at Risk Segmentation AI Model\n",
        "\n",
        "While the nnU-Net framework should take care of the model download (from Zenodo), some of the zip files containing the pre-trained weights are particularly large, so the download can take a lot of time, get stuck, or produce errors (as [reported by other users](https://github.com/MIC-DKFZ/nnUNet/issues/358#issue-726410474) and in the [repository FAQ](https://github.com/MIC-DKFZ/nnUNet/blob/master/documentation/common_problems_and_solutions.md#downloading-pretrained-models-unzip-cannot-find-zipfile-directory-in-one-of-homeisenseennunetdownload_16031094034174126)) .\n",
        "\n",
        "For this reason, and for the purpose of speeding up this tutorial, we decided to copy the relevant model weights in a shared Dropbox folder. In the following cells, we use Linux `wget` to pull such files from the folder - and exploit the nnU-Net framework command `nnUNet_install_pretrained_model_from_zip` to unpack and install the pre-trained model."
      ]
    },
    {
      "cell_type": "code",
      "metadata": {
        "id": "9sipNQgeB7fo"
      },
      "source": [
        "# create the directory tree\n",
        "!mkdir -p tutorial \n",
        "!mkdir -p tutorial/models tutorial/data tutorial/output\n",
        "!mkdir -p tutorial/data/dicom tutorial/data/processed tutorial/data/nnUNet_raw_data"
      ],
      "execution_count": null,
      "outputs": []
    },
    {
      "cell_type": "code",
      "metadata": {
        "colab": {
          "base_uri": "https://localhost:8080/"
        },
        "id": "AzPWnwbqB-Bt",
        "outputId": "23fdb6ea-36aa-46f4-ae3c-0630f406ed6c"
      },
      "source": [
        "# this will usually take between one and five minutes (but can sometimes take up to eight)\n",
        "seg_model_url = \"https://www.dropbox.com/s/m7es2ojn8h0ybhv/Task055_SegTHOR.zip?dl=0\"\n",
        "output_path = \"tutorial/models/Task055_SegTHOR.zip\"\n",
        "\n",
        "!wget -O $output_path $seg_model_url"
      ],
      "execution_count": null,
      "outputs": [
        {
          "output_type": "stream",
          "name": "stdout",
          "text": [
            "--2021-11-17 20:20:52--  https://www.dropbox.com/s/m7es2ojn8h0ybhv/Task055_SegTHOR.zip?dl=0\n",
            "Resolving www.dropbox.com (www.dropbox.com)... 162.125.85.18, 2620:100:6035:18::a27d:5512\n",
            "Connecting to www.dropbox.com (www.dropbox.com)|162.125.85.18|:443... connected.\n",
            "HTTP request sent, awaiting response... 301 Moved Permanently\n",
            "Location: /s/raw/m7es2ojn8h0ybhv/Task055_SegTHOR.zip [following]\n",
            "--2021-11-17 20:20:52--  https://www.dropbox.com/s/raw/m7es2ojn8h0ybhv/Task055_SegTHOR.zip\n",
            "Reusing existing connection to www.dropbox.com:443.\n",
            "HTTP request sent, awaiting response... 302 Found\n",
            "Location: https://uc653ab4e9b2b68988df3f30a5dd.dl.dropboxusercontent.com/cd/0/inline/BaIOIfPE0LsW0duD9CHGg__0UXB-LAtSbJo-m0tRthKi5YZE0HQKiAdxQOntRCc2YM_peNYcAY4RBEGfD_4nQAT0uJ9lVZ9BH6jlMNKuuVUeFPURyyJfWFA5MnxI_kbg6RkSfckrPUxwN4GQBHNUman_/file# [following]\n",
            "--2021-11-17 20:20:53--  https://uc653ab4e9b2b68988df3f30a5dd.dl.dropboxusercontent.com/cd/0/inline/BaIOIfPE0LsW0duD9CHGg__0UXB-LAtSbJo-m0tRthKi5YZE0HQKiAdxQOntRCc2YM_peNYcAY4RBEGfD_4nQAT0uJ9lVZ9BH6jlMNKuuVUeFPURyyJfWFA5MnxI_kbg6RkSfckrPUxwN4GQBHNUman_/file\n",
            "Resolving uc653ab4e9b2b68988df3f30a5dd.dl.dropboxusercontent.com (uc653ab4e9b2b68988df3f30a5dd.dl.dropboxusercontent.com)... 162.125.85.15, 2620:100:6035:15::a27d:550f\n",
            "Connecting to uc653ab4e9b2b68988df3f30a5dd.dl.dropboxusercontent.com (uc653ab4e9b2b68988df3f30a5dd.dl.dropboxusercontent.com)|162.125.85.15|:443... connected.\n",
            "HTTP request sent, awaiting response... 302 Found\n",
            "Location: /cd/0/inline2/BaI-CUZ3fBKRUclwM01DulqryW41nSlihzdaG2q7eMm3w2Px2DPx-ZBqc-xFHV4HpF_oOr4r5d4s4dnaOlG64DCpJrEKV-Vyb5N-Hw4hNmq5s3EifsQpu6XayNbYTjyG5t3hPI_6AaNG8ctIqabaRGika7wgxLsee3A2eYJpfwnDNl0uL3elGo9x6Og7n-zIsT6RMpNe583jBj-XNYZ50ogMhRICYsTWgVfEVrUz4wNW6qDuTL08GogpdK9O2TcYLkLXl_tOewtoLBnuJeOci38HjqqFRTlEvkzXaX6Zd5LNCXavbgHFhHjLotc6C7G0-b24J9JLzA-xAeY0mdhLKMp6PeaWhZaES0WMhjR996bAOcGeZstQzLtrNxQQPHtrlCs/file [following]\n",
            "--2021-11-17 20:20:55--  https://uc653ab4e9b2b68988df3f30a5dd.dl.dropboxusercontent.com/cd/0/inline2/BaI-CUZ3fBKRUclwM01DulqryW41nSlihzdaG2q7eMm3w2Px2DPx-ZBqc-xFHV4HpF_oOr4r5d4s4dnaOlG64DCpJrEKV-Vyb5N-Hw4hNmq5s3EifsQpu6XayNbYTjyG5t3hPI_6AaNG8ctIqabaRGika7wgxLsee3A2eYJpfwnDNl0uL3elGo9x6Og7n-zIsT6RMpNe583jBj-XNYZ50ogMhRICYsTWgVfEVrUz4wNW6qDuTL08GogpdK9O2TcYLkLXl_tOewtoLBnuJeOci38HjqqFRTlEvkzXaX6Zd5LNCXavbgHFhHjLotc6C7G0-b24J9JLzA-xAeY0mdhLKMp6PeaWhZaES0WMhjR996bAOcGeZstQzLtrNxQQPHtrlCs/file\n",
            "Reusing existing connection to uc653ab4e9b2b68988df3f30a5dd.dl.dropboxusercontent.com:443.\n",
            "HTTP request sent, awaiting response... 200 OK\n",
            "Length: 5019434005 (4.7G) [application/zip]\n",
            "Saving to: ‘tutorial/models/Task055_SegTHOR.zip’\n",
            "\n",
            "tutorial/models/Tas 100%[===================>]   4.67G  8.08MB/s    in 6m 43s  \n",
            "\n",
            "2021-11-17 20:27:39 (11.9 MB/s) - ‘tutorial/models/Task055_SegTHOR.zip’ saved [5019434005/5019434005]\n",
            "\n"
          ]
        }
      ]
    },
    {
      "cell_type": "markdown",
      "metadata": {
        "id": "62yhEkkjITzn"
      },
      "source": [
        "Unpack and install model (under `PATH_TO_MODEL_FILE`)."
      ]
    },
    {
      "cell_type": "code",
      "metadata": {
        "id": "QOVsPuzxIOXX"
      },
      "source": [
        "%%capture\n",
        "!nnUNet_install_pretrained_model_from_zip $PATH_TO_MODEL_FILE"
      ],
      "execution_count": null,
      "outputs": []
    },
    {
      "cell_type": "markdown",
      "metadata": {
        "id": "5jerJXiNbcgo"
      },
      "source": [
        "## Data Pre-processing\n",
        "\n",
        "In order to run the AI segmentation pipeline, we need to convert the DICOM data in a format required by nnU-Net.\n",
        "\n",
        "Using the simple Plastimatch wrapper, let's convert the DICOM CT series in both NRRD (very flexible, simple handling with SimpleITK) and NIfTI (as required by the nnU-Net pipeline) format. Furthermore, we are going to convert the DICOM RTSTRUCT Series into a NRRD volume as well - to allow for comparison between the manual and automatic segmentation, later in the notebook.\n"
      ]
    },
    {
      "cell_type": "code",
      "metadata": {
        "id": "vI7JuZhZbiXP"
      },
      "source": [
        "from tutorial.pyplastimatch import pyplastimatch as pypla\n",
        "from tutorial.pyplastimatch.utils import viz as viz_utils\n",
        "from tutorial.pyplastimatch.utils import data as data_utils"
      ],
      "execution_count": null,
      "outputs": []
    },
    {
      "cell_type": "code",
      "metadata": {
        "colab": {
          "base_uri": "https://localhost:8080/"
        },
        "id": "7gLUnOsJDmaU",
        "outputId": "d6f2aca8-c942-40ea-ef05-3813ef7e6660"
      },
      "source": [
        "pat = os.listdir(dicom_sorted_dir)[0]\n",
        "\n",
        "# study_uid was initialized earlier, when we decided which study to download\n",
        "\n",
        "StudyInstanceUID = study_uid\n",
        "\n",
        "\n",
        "SeriesInstanceUID_ct = selection_df[selection_df[\"Modality\"]==\"CT\"][\"SeriesInstanceUID\"].unique()[0]\n",
        "SeriesInstanceUID_rt = selection_df[selection_df[\"Modality\"]==\"RTSTRUCT\"][\"SeriesInstanceUID\"].unique()[0]\n",
        "\n",
        "# directories storing NRRD and NIfTI files\n",
        "base_preproc_path = \"tutorial/data/processed\"\n",
        "\n",
        "pat_dir_path_nrrd = os.path.join(base_preproc_path, \"nrrd\", pat)\n",
        "pat_dir_path_nii = os.path.join(base_preproc_path, \"nii\", pat)\n",
        "  \n",
        "# patient subfolder where all the preprocessed NRRDs will be stored\n",
        "if not os.path.exists(pat_dir_path_nrrd): os.makedirs(pat_dir_path_nrrd)\n",
        "  \n",
        "# patient subfolder where all the preprocessed NIfTIs will be stored\n",
        "if not os.path.exists(pat_dir_path_nii): os.makedirs(pat_dir_path_nii)\n",
        "\n",
        "# path to the directory where the DICOM CT file is stored\n",
        "path_to_ct_dir = os.path.join(\"tutorial/data/dicom\", pat,\n",
        "                              StudyInstanceUID, SeriesInstanceUID_ct)\n",
        "\n",
        "# path to the files where the NRRD and NIfTI CTs will be stored\n",
        "ct_nrrd_path = os.path.join(pat_dir_path_nrrd, pat + \"_ct.nrrd\")\n",
        "ct_nii_path = os.path.join(pat_dir_path_nii, pat + \"_ct.nii.gz\")\n",
        "\n",
        "\n",
        "# path to the directory where the DICOM RTSTRUCT file is stored\n",
        "path_to_rt_dir = os.path.join(\"tutorial/data/dicom\", pat,\n",
        "                              StudyInstanceUID, SeriesInstanceUID_rt)\n",
        "\n",
        "# path to the files where the NRRD RTSTRUCTs will be stored\n",
        "rt_folder = os.path.join(pat_dir_path_nrrd, \"RTSTRUCT\")\n",
        "rt_list_path = os.path.join(pat_dir_path_nrrd, \"RTSTRUCT_content\")\n",
        "\n",
        "\n",
        "verbose = True\n",
        "\n",
        "# logfile for the plastimatch conversion\n",
        "log_file_path_nrrd = os.path.join(pat_dir_path_nrrd, pat + '_pypla.log')\n",
        "log_file_path_nii = os.path.join(pat_dir_path_nii, pat + '_pypla.log')\n",
        "  \n",
        "# DICOM CT to NRRD conversion (if the file doesn't exist yet)\n",
        "if not os.path.exists(ct_nrrd_path):\n",
        "  convert_args_ct = {\"input\" : path_to_ct_dir,\n",
        "                     \"output-img\" : ct_nrrd_path}\n",
        "  \n",
        "  # clean old log file if it exist\n",
        "  if os.path.exists(log_file_path_nrrd): os.remove(log_file_path_nrrd)\n",
        "  \n",
        "  pypla.convert(verbose = verbose, path_to_log_file = log_file_path_nrrd, **convert_args_ct)\n",
        "\n",
        "# DICOM RTSTRUCT to NRRD conversion (if the file doesn't exist yet)\n",
        "if not os.path.exists(rt_folder):\n",
        "  convert_args_rt = {\"input\" : path_to_rt_dir, \n",
        "                     \"referenced-ct\" : path_to_ct_dir,\n",
        "                     \"output-prefix\" : rt_folder,\n",
        "                     \"prefix-format\" : 'nrrd',\n",
        "                     \"output-ss-list\" : rt_list_path}\n",
        "  \n",
        "  # clean old log file if it exist\n",
        "  if os.path.exists(log_file_path_nrrd): os.remove(log_file_path_nrrd)\n",
        "  \n",
        "  pypla.convert(verbose = verbose, path_to_log_file = log_file_path_nrrd, **convert_args_rt)\n",
        "\n",
        "# DICOM CT to NIfTI conversion (if the file doesn't exist yet)\n",
        "if not os.path.exists(ct_nii_path):\n",
        "  convert_args_nii = {\"input\" : path_to_ct_dir, \n",
        "                      \"output-img\" : ct_nii_path}\n",
        "  \n",
        "  # clean old log file if it exist\n",
        "  if os.path.exists(log_file_path_nii): os.remove(log_file_path_nii)\n",
        "  \n",
        "  pypla.convert(verbose = verbose, path_to_log_file = log_file_path_nii, **convert_args_nii)"
      ],
      "execution_count": null,
      "outputs": [
        {
          "output_type": "stream",
          "name": "stdout",
          "text": [
            "\n",
            "Running 'plastimatch convert' with the specified arguments:\n",
            "  --input tutorial/data/dicom/LUNG1-002/1.3.6.1.4.1.32722.99.99.203715003805996641695765332389135385095/1.3.6.1.4.1.32722.99.99.232988001551799080335895423941323261228\n",
            "  --output-img tutorial/data/processed/nrrd/LUNG1-002/LUNG1-002_ct.nrrd\n",
            "... Done.\n",
            "\n",
            "Running 'plastimatch convert' with the specified arguments:\n",
            "  --input tutorial/data/dicom/LUNG1-002/1.3.6.1.4.1.32722.99.99.203715003805996641695765332389135385095/1.3.6.1.4.1.32722.99.99.243267551266911245830259417117543245931\n",
            "  --referenced-ct tutorial/data/dicom/LUNG1-002/1.3.6.1.4.1.32722.99.99.203715003805996641695765332389135385095/1.3.6.1.4.1.32722.99.99.232988001551799080335895423941323261228\n",
            "  --output-prefix tutorial/data/processed/nrrd/LUNG1-002/RTSTRUCT\n",
            "  --prefix-format nrrd\n",
            "  --output-ss-list tutorial/data/processed/nrrd/LUNG1-002/RTSTRUCT_content\n",
            "... Done.\n",
            "\n",
            "Running 'plastimatch convert' with the specified arguments:\n",
            "  --input tutorial/data/dicom/LUNG1-002/1.3.6.1.4.1.32722.99.99.203715003805996641695765332389135385095/1.3.6.1.4.1.32722.99.99.232988001551799080335895423941323261228\n",
            "  --output-img tutorial/data/processed/nii/LUNG1-002/LUNG1-002_ct.nii.gz\n",
            "... Done.\n"
          ]
        }
      ]
    },
    {
      "cell_type": "markdown",
      "metadata": {
        "id": "CcYxd4NAFNps"
      },
      "source": [
        "As a last step before running the lung nodules segmentation pipeline, we need to make sure the folder storing the data follows the structure required by the nnU-Net framework, described at the [dedicated documentation page](https://github.com/MIC-DKFZ/nnUNet/blob/master/documentation/dataset_conversion.md)."
      ]
    },
    {
      "cell_type": "code",
      "metadata": {
        "id": "3CFhNcscFOtA"
      },
      "source": [
        "# create a folder (random task name) for nnU-Net inference\n",
        "proc_folder_path = os.path.join(os.environ[\"nnUNet_raw_data_base\"],\n",
        "                                \"segthor\", \"imagesTs\")\n",
        "\n",
        "!mkdir -p $proc_folder_path\n",
        "\n",
        "# populate the folder following the nnU-Net naming conventions\n",
        "copy_path = os.path.join(proc_folder_path, pat + \"_0000.nii.gz\")\n",
        "\n",
        "# copy NIfTI to the right dir for nnU-Net processing\n",
        "if not os.path.exists(copy_path):\n",
        "  shutil.copy(src = ct_nii_path, dst = copy_path)"
      ],
      "execution_count": null,
      "outputs": []
    },
    {
      "cell_type": "markdown",
      "metadata": {
        "id": "O2ci1vFuJTlG"
      },
      "source": [
        "## Segmentation of thoracic structures from CT series"
      ]
    },
    {
      "cell_type": "markdown",
      "metadata": {
        "id": "xvazHm6AFXVx"
      },
      "source": [
        "### Inference \n",
        "\n",
        "In order to run the segmentation pipeline, we can follow the [\"run inference\" section of the nnU-Net documentation](https://github.com/MIC-DKFZ/nnUNet#how-to-run-inference-with-pretrained-models), specifying the path to the input and output folders defined in the sections above, and the pretrained model we want to use (i.e., the one we downloaded earlier).\n",
        "\n",
        "For the purpose of this notebook, to make the processing faster, we are not going to use an ensemble of different U-Net configurations for inference or test time augmentation (TTA). You are invited to explore these options later - and if you decide to do so, you can read [this example](https://github.com/MIC-DKFZ/nnUNet/blob/master/documentation/inference_example_Prostate.md) from the nnU-Net documentation to learn how this can be achieved.\n",
        "\n",
        "To learn more about all the arguments that can be specified to the `nnUNet_predict` command, run `nnUNet_predict --help`."
      ]
    },
    {
      "cell_type": "code",
      "metadata": {
        "colab": {
          "base_uri": "https://localhost:8080/"
        },
        "id": "c0y_wAH7HC8b",
        "outputId": "a67abd59-ddbd-4661-ecbd-ae22428c4bea"
      },
      "source": [
        "!echo $RESULTS_FOLDER"
      ],
      "execution_count": null,
      "outputs": [
        {
          "output_type": "stream",
          "name": "stdout",
          "text": [
            "/content/tutorial/output/\n"
          ]
        }
      ]
    },
    {
      "cell_type": "code",
      "metadata": {
        "id": "Ru-h4nGMH1Pw"
      },
      "source": [
        "!mkdir -p /content/tutorial/output/nnUNet/2d/Task055_SegTHOR/nnUNetTrainerV2__nnUNetPlansv2.1"
      ],
      "execution_count": null,
      "outputs": []
    },
    {
      "cell_type": "code",
      "metadata": {
        "colab": {
          "base_uri": "https://localhost:8080/"
        },
        "id": "cAEBKIbQFgLw",
        "outputId": "97ea602a-9e15-4884-dbe2-f9548856f5dd"
      },
      "source": [
        "# run the inference phase\n",
        "# accepted options for --model are: 2d, 3d_lowres, 3d_fullres or 3d_cascade_fullres\n",
        "!nnUNet_predict --input_folder \"tutorial/data/nnUNet_raw_data/segthor/imagesTs\" \\\n",
        "                --output_folder $RESULTS_FOLDER \\\n",
        "                --task_name \"Task055_SegTHOR\" --model 2d --disable_tta "
      ],
      "execution_count": null,
      "outputs": [
        {
          "output_type": "stream",
          "name": "stdout",
          "text": [
            "\n",
            "\n",
            "Please cite the following paper when using nnUNet:\n",
            "\n",
            "Isensee, F., Jaeger, P.F., Kohl, S.A.A. et al. \"nnU-Net: a self-configuring method for deep learning-based biomedical image segmentation.\" Nat Methods (2020). https://doi.org/10.1038/s41592-020-01008-z\n",
            "\n",
            "\n",
            "If you have questions or suggestions, feel free to open an issue at https://github.com/MIC-DKFZ/nnUNet\n",
            "\n",
            "using model stored in  /content/tutorial/output/nnUNet/2d/Task055_SegTHOR/nnUNetTrainerV2__nnUNetPlansv2.1\n",
            "This model expects 1 input modalities for each image\n",
            "Found 1 unique case ids, here are some examples: ['LUNG1-002']\n",
            "If they don't look right, make sure to double check your filenames. They must end with _0000.nii.gz etc\n",
            "number of cases: 1\n",
            "number of cases that still need to be predicted: 1\n",
            "emptying cuda cache\n",
            "loading parameters for folds, None\n",
            "folds is None so we will automatically look for output folders (not using 'all'!)\n",
            "found the following folds:  ['/content/tutorial/output/nnUNet/2d/Task055_SegTHOR/nnUNetTrainerV2__nnUNetPlansv2.1/fold_0', '/content/tutorial/output/nnUNet/2d/Task055_SegTHOR/nnUNetTrainerV2__nnUNetPlansv2.1/fold_1', '/content/tutorial/output/nnUNet/2d/Task055_SegTHOR/nnUNetTrainerV2__nnUNetPlansv2.1/fold_2', '/content/tutorial/output/nnUNet/2d/Task055_SegTHOR/nnUNetTrainerV2__nnUNetPlansv2.1/fold_3', '/content/tutorial/output/nnUNet/2d/Task055_SegTHOR/nnUNetTrainerV2__nnUNetPlansv2.1/fold_4']\n",
            "using the following model files:  ['/content/tutorial/output/nnUNet/2d/Task055_SegTHOR/nnUNetTrainerV2__nnUNetPlansv2.1/fold_0/model_final_checkpoint.model', '/content/tutorial/output/nnUNet/2d/Task055_SegTHOR/nnUNetTrainerV2__nnUNetPlansv2.1/fold_1/model_final_checkpoint.model', '/content/tutorial/output/nnUNet/2d/Task055_SegTHOR/nnUNetTrainerV2__nnUNetPlansv2.1/fold_2/model_final_checkpoint.model', '/content/tutorial/output/nnUNet/2d/Task055_SegTHOR/nnUNetTrainerV2__nnUNetPlansv2.1/fold_3/model_final_checkpoint.model', '/content/tutorial/output/nnUNet/2d/Task055_SegTHOR/nnUNetTrainerV2__nnUNetPlansv2.1/fold_4/model_final_checkpoint.model']\n",
            "starting preprocessing generator\n",
            "starting prediction...\n",
            "preprocessing /content/tutorial/output/LUNG1-002.nii.gz\n",
            "using preprocessor PreprocessorFor2D\n",
            "before crop: (1, 111, 512, 512) after crop: (1, 111, 512, 512) spacing: [2.99999952 0.977      0.977     ] \n",
            "\n",
            "no resampling necessary\n",
            "no resampling necessary\n",
            "before: {'spacing': array([2.99999952, 0.977     , 0.977     ]), 'spacing_transposed': array([2.99999952, 0.977     , 0.977     ]), 'data.shape (data is transposed)': (1, 111, 512, 512)} \n",
            "after:  {'spacing': array([2.99999952, 0.97656202, 0.97656202]), 'data.shape (data is resampled)': (1, 111, 512, 512)} \n",
            "\n",
            "normalization...\n",
            "normalization done\n",
            "(1, 111, 512, 512)\n",
            "This worker has ended successfully, no errors to report\n",
            "predicting /content/tutorial/output/LUNG1-002.nii.gz\n",
            "debug: mirroring False mirror_axes (0, 1)\n",
            "debug: mirroring False mirror_axes (0, 1)\n",
            "debug: mirroring False mirror_axes (0, 1)\n",
            "debug: mirroring False mirror_axes (0, 1)\n",
            "debug: mirroring False mirror_axes (0, 1)\n",
            "inference done. Now waiting for the segmentation export to finish...\n",
            "force_separate_z: None interpolation order: 1\n",
            "no resampling necessary\n",
            "postprocessing...\n"
          ]
        }
      ]
    },
    {
      "cell_type": "markdown",
      "metadata": {
        "id": "wu7UIDM6JY2Z"
      },
      "source": [
        "### Post-processing of inference results\n",
        "\n",
        "After the inference is finished, we can convert the segmentation masks back to NRRD for visualisation purposes and for easier handling."
      ]
    },
    {
      "cell_type": "code",
      "metadata": {
        "colab": {
          "base_uri": "https://localhost:8080/"
        },
        "id": "Lq1fP6XHJfoS",
        "outputId": "e2b8d090-4124-4af2-cde5-4d5abe7060ed"
      },
      "source": [
        "pred_nii_path = os.path.join(os.environ[\"RESULTS_FOLDER\"], pat + \".nii.gz\")\n",
        "\n",
        "sitk_ct = sitk.ReadImage(ct_nrrd_path)\n",
        "\n",
        "nrrd_spacing = sitk_ct.GetSpacing()\n",
        "nrrd_dim = sitk_ct.GetSize()\n",
        "\n",
        "nii_spacing = tuple(nib.load(pred_nii_path).header['pixdim'][1:4])\n",
        "nii_dim = tuple(nib.load(pred_nii_path).get_fdata().shape)\n",
        "\n",
        "assert (nrrd_spacing == nii_spacing) & (nrrd_dim == nii_dim)\n",
        "\n",
        "## ----------------------------------------\n",
        "# NIfTI TO NRRD CONVERSION\n",
        "\n",
        "# path to the output NRRD file (inferred segmasks)\n",
        "pred_nrrd_path = os.path.join(pat_dir_path_nrrd, pat + \"_pred_segthor.nrrd\")\n",
        "log_file_path = os.path.join(pat_dir_path_nrrd, pat + \"_pypla.log\")\n",
        "\n",
        "# Inferred NIfTI segmask to NRRD\n",
        "convert_args_pred = {\"input\" : pred_nii_path, \n",
        "                     \"output-img\" : pred_nrrd_path}\n",
        "\n",
        "pypla.convert(path_to_log_file = log_file_path, **convert_args_pred)"
      ],
      "execution_count": null,
      "outputs": [
        {
          "output_type": "stream",
          "name": "stdout",
          "text": [
            "\n",
            "Running 'plastimatch convert' with the specified arguments:\n",
            "  --input /content/tutorial/output/LUNG1-002.nii.gz\n",
            "  --output-img tutorial/data/processed/nrrd/LUNG1-002/LUNG1-002_pred_segthor.nrrd\n",
            "... Done.\n"
          ]
        }
      ]
    },
    {
      "cell_type": "markdown",
      "metadata": {
        "id": "ShIjT6jEJkK-"
      },
      "source": [
        "### Visualising the Segmentation Masks\n",
        "\n",
        "We can visualise the raw AI-inferred segmentation mask (heart, aorta, esophagus, amd treachea - in green, yellow, red, and blue, respectively) and compare the heart (and esophagus, if available for the randomly selected patient) segmentation to the manual delineation."
      ]
    },
    {
      "cell_type": "code",
      "metadata": {
        "id": "p__wFByuJjrL"
      },
      "source": [
        "# load NRRD volumes\n",
        "ct_nrrd = sitk.GetArrayFromImage(sitk_ct)\n",
        "\n",
        "# inferred segmask\n",
        "pred_nrrd_segthor = sitk.GetArrayFromImage(sitk.ReadImage(pred_nrrd_path))\n",
        "\n",
        "pred_nrrd_esophagus = np.copy(pred_nrrd_segthor)\n",
        "pred_nrrd_heart = np.copy(pred_nrrd_segthor)\n",
        "pred_nrrd_trachea = np.copy(pred_nrrd_segthor)\n",
        "pred_nrrd_aorta = np.copy(pred_nrrd_segthor)\n",
        "  \n",
        "# zero every segmask other than the esophagus and make the mask binary (0/1)\n",
        "pred_nrrd_esophagus[pred_nrrd_segthor != 1] = 0\n",
        "pred_nrrd_esophagus[pred_nrrd_esophagus != 0] = 1\n",
        "  \n",
        "# zero every segmask other than the heart and make the mask binary (0/1)\n",
        "pred_nrrd_heart[pred_nrrd_segthor != 2] = 0\n",
        "pred_nrrd_heart[pred_nrrd_heart != 0] = 1\n",
        "  \n",
        "# zero every segmask other than the trachea and make the mask binary (0/1)\n",
        "pred_nrrd_trachea[pred_nrrd_segthor != 3] = 0\n",
        "pred_nrrd_trachea[pred_nrrd_trachea != 0] = 1\n",
        "  \n",
        "# zero every segmask other than the aorta and make the mask binary (0/1)\n",
        "pred_nrrd_aorta[pred_nrrd_segthor != 4] = 0\n",
        "pred_nrrd_aorta[pred_nrrd_aorta != 0] = 1\n",
        "\n",
        "\n",
        "# manual segmask (from the RTSTRUCT)\n",
        "rt_segmask_heart = os.path.join(pat_dir_path_nrrd, \"RTSTRUCT\", \"Heart.nrrd\")\n",
        "rt_nrrd_heart = sitk.GetArrayFromImage(sitk.ReadImage(rt_segmask_heart))\n",
        "\n",
        "try:\n",
        "  rt_segmask_esophagus = os.path.join(pat_dir_path_nrrd, \"RTSTRUCT\", \"Esophagus.nrrd\")\n",
        "  rt_nrrd_esophagus = sitk.GetArrayFromImage(sitk.ReadImage(rt_segmask_esophagus))\n",
        "except:\n",
        "  # for the sake of simplicity, fill the volume with zeros\n",
        "  # (so that we can keep the code that comes after the same)\n",
        "  rt_nrrd_esophagus = np.zeros(rt_nrrd_heart.shape)"
      ],
      "execution_count": null,
      "outputs": []
    },
    {
      "cell_type": "code",
      "metadata": {
        "colab": {
          "base_uri": "https://localhost:8080/",
          "height": 537,
          "referenced_widgets": [
            "9829defebb2345b2ad0ea1cebe324fa2",
            "c382ac8304104dc195f6e5a01324921a",
            "b6712a17841f473db628da4c5d1886d7",
            "0f24731b45df4547bc6e3db81fbd672b",
            "390f4c14ec004e83a4f7714938b6fa23",
            "87b23b910b2e49548e49f190cbddd761",
            "aa9a94ee5b6647429959f69d9b920661",
            "ecc6014817e645bbb66cd1f5f53b2700",
            "f3fdcd445e0f4731ab05bfd9facb0dee",
            "5f4f051e7b4744b58cff8102de22fbe2",
            "f4bc307042df4f41aee099ae18c8c026"
          ]
        },
        "id": "I2Ll9UABJsFg",
        "outputId": "ee12cf43-f768-48aa-e8ba-c58f6f57ebad"
      },
      "source": [
        "_ = viz_utils.AxialSliceSegmaskComparison(ct_volume = ct_nrrd,\n",
        "                                          segmask_ai_dict = {\"Heart\" : pred_nrrd_heart,\n",
        "                                                             \"Aorta\" : pred_nrrd_aorta,\n",
        "                                                             \"Trachea\" : pred_nrrd_trachea,\n",
        "                                                             \"Esophagus\" : pred_nrrd_esophagus},\n",
        "                                          segmask_manual_dict = {\"Heart\" : rt_nrrd_heart,\n",
        "                                                                 \"Esophagus\" : rt_nrrd_esophagus},\n",
        "                                          segmask_cmap_dict = {\"Heart\" : my_greens,\n",
        "                                                               \"Aorta\" : my_spring,\n",
        "                                                               \"Esophagus\" : my_reds,\n",
        "                                                               \"Trachea\" : my_blues},\n",
        "                                          dpi = 100)"
      ],
      "execution_count": null,
      "outputs": [
        {
          "output_type": "display_data",
          "data": {
            "application/vnd.jupyter.widget-view+json": {
              "model_id": "9829defebb2345b2ad0ea1cebe324fa2",
              "version_minor": 0,
              "version_major": 2
            },
            "text/plain": [
              "interactive(children=(Output(),), _dom_classes=('widget-interact',))"
            ]
          },
          "metadata": {}
        }
      ]
    },
    {
      "cell_type": "code",
      "metadata": {
        "colab": {
          "base_uri": "https://localhost:8080/",
          "height": 701,
          "referenced_widgets": [
            "a025ad8820944287a5622652f7feb28c",
            "df484ec42ca549159ddb5f34cf45ee79",
            "68bcb53e7d4c46fc942ea2d787d6f415",
            "57cbb06176b04de09e937eb766e03694",
            "6871fbe5495046ee9ee915c2f43b0a99",
            "a612f5ffdd384e7fb154a0fd30dae15f",
            "58a597e8a37d4a9e918335f4a5705218",
            "68a5bf1c7488452b81cdfb016e4ba3f6",
            "21799f61763d4ae9839ea31166aad0ca",
            "a542114533d54d8a97b0682efbc49923",
            "2b2716a5c61449cbac4566c115122416"
          ]
        },
        "id": "_TiIfDIvQ317",
        "outputId": "2028cc36-6c0a-46ed-822e-8fb3bc3de298"
      },
      "source": [
        "_ = viz_utils.AxialSliceSegmaskViz(ct_volume = ct_nrrd,\n",
        "                                          segmask_dict = {\"Heart\" : pred_nrrd_heart,\n",
        "                                                             \"Aorta\" : pred_nrrd_aorta,\n",
        "                                                             \"Trachea\" : pred_nrrd_trachea,\n",
        "                                                             \"Esophagus\" : pred_nrrd_esophagus},\n",
        "                                          segmask_cmap_dict = {\"Heart\" : my_greens,\n",
        "                                                               \"Aorta\" : my_spring,\n",
        "                                                               \"Esophagus\" : my_reds,\n",
        "                                                               \"Trachea\" : my_blues},\n",
        "                                          dpi = 100)"
      ],
      "execution_count": null,
      "outputs": [
        {
          "output_type": "display_data",
          "data": {
            "application/vnd.jupyter.widget-view+json": {
              "model_id": "a025ad8820944287a5622652f7feb28c",
              "version_minor": 0,
              "version_major": 2
            },
            "text/plain": [
              "interactive(children=(Output(),), _dom_classes=('widget-interact',))"
            ]
          },
          "metadata": {}
        }
      ]
    },
    {
      "cell_type": "markdown",
      "metadata": {
        "id": "MhfNqPxNJ-xz"
      },
      "source": [
        "### Quantitative assessment of the results\n",
        "\n",
        "Let's start by defining a function to compute the center of mass (CoM) of the segmentation masks. Before computing the common segmentation metrics, the CoM can give us a rough idea of how different the 3D delineations are and if there are any major labelling errors (which we could correct, e.g., with a largest connected component analysis).\n",
        "\n",
        "We will base our function on the [implementation](https://github.com/AIM-Harvard/pyradiomics/blob/master/radiomics/generalinfo.py) found in the open source [PyRadiomics library](https://github.com/AIM-Harvard/pyradiomics)."
      ]
    },
    {
      "cell_type": "code",
      "metadata": {
        "id": "tYF05ymwKMhE"
      },
      "source": [
        "def getCenterOfMassIndexValue(input_mask):\n",
        "    \n",
        "    \"\"\"\n",
        "    Returns z, y and x coordinates of the center of mass of the ROI in terms of\n",
        "    the image coordinate space (continuous index).\n",
        "\n",
        "    Calculation is based on the original (non-resampled) mask.\n",
        "    Because this represents the continuous index, the order of x, y and z is reversed,\n",
        "    i.e. the first element is the z index, the second the y index and the last element is the x index.\n",
        "\n",
        "    @params:\n",
        "      input_mask - required : numpy (binary) volume storing the segmentation mask.\n",
        "\n",
        "    \"\"\"\n",
        "\n",
        "    if input_mask is not None:\n",
        "      mask_coordinates = np.array(np.where(input_mask == 1))\n",
        "      center_index = np.mean(mask_coordinates, axis = 1)\n",
        "      return tuple(center_index)\n",
        "    else:\n",
        "      return None"
      ],
      "execution_count": null,
      "outputs": []
    },
    {
      "cell_type": "code",
      "metadata": {
        "colab": {
          "base_uri": "https://localhost:8080/"
        },
        "id": "Xl_qnwbuKOn8",
        "outputId": "26cd8df7-c881-4b3f-e7e7-bec35af2f625"
      },
      "source": [
        "com_manual_heart = np.array(getCenterOfMassIndexValue(rt_nrrd_heart))\n",
        "com_manual_heart_int = np.ceil(com_manual_heart).astype(dtype = np.uint16)\n",
        "\n",
        "com_raw_heart = np.array(getCenterOfMassIndexValue(pred_nrrd_heart))\n",
        "com_raw_heart_int = np.ceil(com_raw_heart).astype(dtype = np.uint16)\n",
        "\n",
        "print(\"Heart Center of Mass (raw AI segmentation) \\t:\", com_raw_heart_int)\n",
        "print(\"Heart Center of Mass (manual segmentation) \\t:\", com_manual_heart_int)"
      ],
      "execution_count": null,
      "outputs": [
        {
          "output_type": "stream",
          "name": "stdout",
          "text": [
            "Heart Center of Mass (raw AI segmentation) \t: [ 37 210 287]\n",
            "Heart Center of Mass (manual segmentation) \t: [ 34 208 292]\n"
          ]
        }
      ]
    },
    {
      "cell_type": "code",
      "metadata": {
        "colab": {
          "base_uri": "https://localhost:8080/"
        },
        "id": "jnN020q0KS_e",
        "outputId": "84150d03-e8e2-41e6-f27d-7c3a17825fe4"
      },
      "source": [
        "com_manual_heart = np.array(getCenterOfMassIndexValue(rt_nrrd_heart))\n",
        "com_manual_heart_int = np.ceil(com_manual_heart).astype(dtype = np.uint16)\n",
        "\n",
        "com_raw_heart = np.array(getCenterOfMassIndexValue(pred_nrrd_heart))\n",
        "com_raw_heart_int = np.ceil(com_raw_heart).astype(dtype = np.uint16)\n",
        "\n",
        "print(\"Heart Center of Mass (raw AI segmentation) \\t:\", com_raw_heart_int)\n",
        "print(\"Heart Center of Mass (manual segmentation) \\t:\", com_manual_heart_int)\n",
        "\n",
        "## ----------------------------------------\n",
        "\n",
        "# run this if and only if a manual esophagus segmentation mask is available\n",
        "if np.sum(rt_nrrd_esophagus):\n",
        "\n",
        "  com_manual_esophagus = np.array(getCenterOfMassIndexValue(rt_nrrd_esophagus))\n",
        "  com_manual_esophagus_int = np.ceil(com_manual_esophagus).astype(dtype = np.uint16)\n",
        "\n",
        "  com_raw_esophagus = np.array(getCenterOfMassIndexValue(pred_nrrd_esophagus))\n",
        "  com_raw_esophagus_int = np.ceil(com_raw_esophagus).astype(dtype = np.uint16)\n",
        "\n",
        "  print(\"\\nEsophagus Center of Mass (raw AI segmentation) \\t:\", com_raw_esophagus_int)\n",
        "  print(\"Esophagus Center of Mass (manual segmentation) \\t:\", com_manual_esophagus_int)"
      ],
      "execution_count": null,
      "outputs": [
        {
          "output_type": "stream",
          "name": "stdout",
          "text": [
            "Heart Center of Mass (raw AI segmentation) \t: [ 37 210 287]\n",
            "Heart Center of Mass (manual segmentation) \t: [ 34 208 292]\n",
            "\n",
            "Esophagus Center of Mass (raw AI segmentation) \t: [ 58 260 263]\n",
            "Esophagus Center of Mass (manual segmentation) \t: [ 55 255 267]\n"
          ]
        }
      ]
    },
    {
      "cell_type": "markdown",
      "metadata": {
        "id": "rYBAo8SzKW31"
      },
      "source": [
        "Another common way to evaluate the quality of the segmentation is computing the Dice Coefficient between the AI segmentation and the manual one. To do so, we will use [MedPy's implementation of the Dice coefficient](https://loli.github.io/medpy/generated/medpy.metric.binary.dc.html#medpy-metric-binary-dc) (for binary masks).\n",
        "\n",
        "We can use other MedPy's functions to compute the Hausdorff distance and the average surface distance as well*.\n",
        "\n",
        "_*in most cases, the Hausdorff Distance will be quite high for both the heart segmentation and, if available with the randomly selected patient, the esophagus one. This is not a clear indication the model performance is poor: rather, it could also be the segmentation guidelines of the two datasets (the one the nnU-Net model was trained on and the external and independent validation dataset pulled from IDC) differ significantly._"
      ]
    },
    {
      "cell_type": "code",
      "metadata": {
        "colab": {
          "base_uri": "https://localhost:8080/"
        },
        "id": "k1xANs3rKWTo",
        "outputId": "11e587a1-eb82-48d2-8812-ccc0320edb5b"
      },
      "source": [
        "pred_nrrd_path = os.path.join(pat_dir_path_nrrd, pat + \"_pred_segthor.nrrd\")\n",
        "\n",
        "\n",
        "voxel_spacing = list(sitk_ct.GetSpacing())\n",
        "\n",
        "dc_heart = dice_coef(pred_nrrd_heart, rt_nrrd_heart)\n",
        "hd_heart = hausdorff_distance(pred_nrrd_heart, rt_nrrd_heart, voxelspacing = voxel_spacing)\n",
        "asd_heart = avg_surf_distance(pred_nrrd_heart, rt_nrrd_heart, voxelspacing = voxel_spacing)\n",
        "\n",
        "print(\"Heart Dice Coefficient (raw segmentation) :\", dc_heart)\n",
        "print(\"Heart Hausdorff Distance (raw segmentation) [mm]:\", hd_heart)\n",
        "print(\"Heart Average Surface Distance (raw segmentation) [mm]:\", asd_heart)\n",
        "\n",
        "\n",
        "# run this if and only if a manual esophagus segmentation mask is available\n",
        "if np.sum(rt_nrrd_esophagus):\n",
        "  dc_esophagus = dice_coef(pred_nrrd_esophagus, rt_nrrd_esophagus)\n",
        "  hd_esophagus = hausdorff_distance(pred_nrrd_esophagus, rt_nrrd_esophagus, voxelspacing = voxel_spacing)\n",
        "  asd_esophagus = avg_surf_distance(pred_nrrd_esophagus, rt_nrrd_esophagus, voxelspacing = voxel_spacing)\n",
        "\n",
        "  print(\"\\nEsophagus Dice Coefficient (raw segmentation) :\", dc_esophagus)\n",
        "  print(\"Esophagus Hausdorff Distance (raw segmentation) [mm]:\", hd_esophagus)\n",
        "  print(\"Esophagus Average Surface Distance (raw segmentation) [mm]:\", asd_esophagus)\n",
        "\n"
      ],
      "execution_count": null,
      "outputs": [
        {
          "output_type": "stream",
          "name": "stdout",
          "text": [
            "Heart Dice Coefficient (raw segmentation) : 0.8252127939466718\n",
            "Heart Hausdorff Distance (raw segmentation) [mm]: 12.700999975204468\n",
            "Heart Average Surface Distance (raw segmentation) [mm]: 2.9681121353266513\n",
            "\n",
            "Esophagus Dice Coefficient (raw segmentation) : 0.726747077841333\n",
            "Esophagus Hausdorff Distance (raw segmentation) [mm]: 84.63958609029844\n",
            "Esophagus Average Surface Distance (raw segmentation) [mm]: 1.016668111527261\n"
          ]
        }
      ]
    },
    {
      "cell_type": "markdown",
      "metadata": {
        "id": "6ehkQblEkgxe"
      },
      "source": [
        "## Exercises, next steps, getting help, references\n",
        "\n",
        "* I want to train my network, not run inference - what do I do?"
      ]
    }
  ]
}